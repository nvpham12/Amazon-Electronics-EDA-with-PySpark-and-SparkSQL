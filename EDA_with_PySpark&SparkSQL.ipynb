{
 "cells": [
  {
   "cell_type": "markdown",
   "id": "1f2627b0-6fd6-46f9-b50f-ad6e6ecb459e",
   "metadata": {},
   "source": [
    "# EDA of Amazon Electronics Data with Pyspark and Spark SQL"
   ]
  },
  {
   "cell_type": "markdown",
   "id": "14ca43a1-7333-4746-a025-96c3bed3b7b8",
   "metadata": {},
   "source": [
    "In this Notebook, I will be performing Exploratory Data Analysis on Review and Product Meta data for Amazon Electronic products from 1996 to 2023. I will be writing queries using both Pyspark API and Spark SQL. In theory, the same types of queries can be written for either of them and they should have similar performance and run times. Queries will be written using both methods to verify that the same results can be obtained."
   ]
  },
  {
   "cell_type": "markdown",
   "id": "c838690a-922e-4cbd-b9f8-cddb08c96f2c",
   "metadata": {},
   "source": [
    "# Setup"
   ]
  },
  {
   "cell_type": "code",
   "execution_count": 1,
   "id": "3faa0b4d-4f76-4ca5-ad19-e6780930ab2a",
   "metadata": {},
   "outputs": [],
   "source": [
    "from datasets import load_dataset\n",
    "from pyspark.sql import SparkSession\n",
    "from pyspark.sql import functions as F\n",
    "from pyspark.sql.types import (StructType, StructField, StringType, DoubleType, LongType, ArrayType, BooleanType)\n",
    "from pyspark import StorageLevel\n",
    "import pandas as pd"
   ]
  },
  {
   "cell_type": "code",
   "execution_count": 2,
   "id": "e7112bf8-058a-4507-b37f-11aad461157b",
   "metadata": {},
   "outputs": [
    {
     "data": {
      "application/vnd.jupyter.widget-view+json": {
       "model_id": "1daaebd17a414c1da31716d349120fc9",
       "version_major": 2,
       "version_minor": 0
      },
      "text/plain": [
       "Loading dataset shards:   0%|          | 0/34 [00:00<?, ?it/s]"
      ]
     },
     "metadata": {},
     "output_type": "display_data"
    }
   ],
   "source": [
    "reviews = load_dataset(\"McAuley-Lab/Amazon-Reviews-2023\", \"raw_review_Electronics\", trust_remote_code=True)\n",
    "meta = load_dataset(\"McAuley-Lab/Amazon-Reviews-2023\", \"raw_meta_Electronics\", split=\"full\", trust_remote_code=True)\n",
    "reviews = reviews[\"full\"]"
   ]
  },
  {
   "cell_type": "markdown",
   "id": "f8325f82-6f10-4278-9cb3-2be6ef5b6306",
   "metadata": {},
   "source": [
    "The data was obtained from https://huggingface.co/datasets/McAuley-Lab/Amazon-Reviews-2023"
   ]
  },
  {
   "cell_type": "markdown",
   "id": "5709a217-b5fb-4686-a969-ee11e3427406",
   "metadata": {},
   "source": [
    "Citation: \n",
    "\n",
    "@article{hou2024bridging,\n",
    "\n",
    "  title={Bridging Language and Items for Retrieval and Recommendation},\n",
    "  \n",
    "  author={Hou, Yupeng and Li, Jiacheng and He, Zhankui and Yan, An and Chen, Xiusi and McAuley, Julian},\n",
    "  \n",
    "  journal={arXiv preprint arXiv:2403.03952},\n",
    "  \n",
    "  year={2024}\n",
    "  \n",
    "}"
   ]
  },
  {
   "cell_type": "code",
   "execution_count": 3,
   "id": "a3016dfe-10b1-4f3b-8425-9b0908661559",
   "metadata": {},
   "outputs": [
    {
     "name": "stdout",
     "output_type": "stream",
     "text": [
      "<class 'datasets.arrow_dataset.Dataset'>\n",
      "<class 'datasets.arrow_dataset.Dataset'>\n"
     ]
    }
   ],
   "source": [
    "print(type(reviews))\n",
    "print(type(meta))"
   ]
  },
  {
   "cell_type": "code",
   "execution_count": 4,
   "id": "1881eb47-8fd2-4e91-bb65-b3e8a533494d",
   "metadata": {},
   "outputs": [
    {
     "name": "stdout",
     "output_type": "stream",
     "text": [
      "(43886944, 10)\n",
      "(1610012, 16)\n"
     ]
    }
   ],
   "source": [
    "print(reviews.shape)\n",
    "print(meta.shape)"
   ]
  },
  {
   "cell_type": "markdown",
   "id": "933bfb9b-fb3f-4faa-8d35-4196b4e51c7a",
   "metadata": {},
   "source": [
    "The reviews data contains over 43 million rows and 10 columns, while the meta data contains around 1.6 million rows and 16 columns. We will be using Pyspark to manipulate the data since Pandas cannot support data of this size."
   ]
  },
  {
   "cell_type": "markdown",
   "id": "3da66aaa-739f-4200-9745-1b7eacd3f19b",
   "metadata": {},
   "source": [
    "```\n",
    "import shutil\n",
    "import os\n",
    "\n",
    "# Save to Parquet (temporary folder)\n",
    "reviews_path = \"temp_reviews_parquet\"\n",
    "meta_path = \"temp_meta_parquet\"\n",
    "\n",
    "reviews.to_parquet(reviews_path)\n",
    "meta.to_parquet(meta_path)"
   ]
  },
  {
   "cell_type": "markdown",
   "id": "5b8dad98-04ba-4468-89af-41b5d46fb048",
   "metadata": {},
   "source": [
    "Data is saved to Parquet for more efficient storage and processing."
   ]
  },
  {
   "cell_type": "markdown",
   "id": "c3aed499-893f-415f-8af2-b3ef393891ec",
   "metadata": {},
   "source": [
    "```\n",
    "# Clean up the Parquet folders\n",
    "shutil.rmtree('temp_reviews_parquet')\n",
    "shutil.rmtree('temp_meta_parquet')\n",
    "\n",
    "print(\"Temporary Parquet files deleted.\")"
   ]
  },
  {
   "cell_type": "markdown",
   "id": "8fd208cd-9bf1-41d7-8670-4fc44a2fbf6a",
   "metadata": {},
   "source": [
    "# Create a SparkSession"
   ]
  },
  {
   "cell_type": "code",
   "execution_count": 5,
   "id": "24ed393b-ac41-48b6-9908-f40c766fb28c",
   "metadata": {},
   "outputs": [],
   "source": [
    "# Rename to localhost\n",
    "import os\n",
    "os.environ[\"SPARK_LOCAL_HOSTNAME\"] = \"localhost\""
   ]
  },
  {
   "cell_type": "code",
   "execution_count": 6,
   "id": "624e9450-38fb-4b8b-8e49-bb9e673f92f7",
   "metadata": {},
   "outputs": [
    {
     "data": {
      "text/html": [
       "\n",
       "            <div>\n",
       "                <p><b>SparkSession - in-memory</b></p>\n",
       "                \n",
       "        <div>\n",
       "            <p><b>SparkContext</b></p>\n",
       "\n",
       "            <p><a href=\"http://localhost:4040\">Spark UI</a></p>\n",
       "\n",
       "            <dl>\n",
       "              <dt>Version</dt>\n",
       "                <dd><code>v3.5.5</code></dd>\n",
       "              <dt>Master</dt>\n",
       "                <dd><code>local[*]</code></dd>\n",
       "              <dt>AppName</dt>\n",
       "                <dd><code>amazon_electronics_data</code></dd>\n",
       "            </dl>\n",
       "        </div>\n",
       "        \n",
       "            </div>\n",
       "        "
      ],
      "text/plain": [
       "<pyspark.sql.session.SparkSession at 0x23f078976a0>"
      ]
     },
     "execution_count": 6,
     "metadata": {},
     "output_type": "execute_result"
    }
   ],
   "source": [
    "# Create the SparkSession\n",
    "spark = SparkSession.builder \\\n",
    "    .appName('amazon_electronics_data') \\\n",
    "    .config('spark.driver.memory', '16g') \\\n",
    "    .getOrCreate()\n",
    "spark"
   ]
  },
  {
   "cell_type": "code",
   "execution_count": 7,
   "id": "84b0b628-575a-43b8-a142-12a7af16a407",
   "metadata": {},
   "outputs": [
    {
     "data": {
      "text/plain": [
       "'16g'"
      ]
     },
     "execution_count": 7,
     "metadata": {},
     "output_type": "execute_result"
    }
   ],
   "source": [
    "# Display Memory setting\n",
    "spark.sparkContext.getConf().get(\"spark.driver.memory\")"
   ]
  },
  {
   "cell_type": "markdown",
   "id": "79c24404-2ce5-4a69-9af7-131b0ed53a3f",
   "metadata": {},
   "source": [
    "A SparkSession needs to be created before further work with PySpark can be done. Since the data is around 10 gb in size, Spark's default 1g of memory is insufficient and queries would not run. 16g is set and we verify that this is the case."
   ]
  },
  {
   "cell_type": "markdown",
   "id": "5101c5d6-c62c-4725-bf7c-9f908630512d",
   "metadata": {},
   "source": [
    "## Reviews Data"
   ]
  },
  {
   "cell_type": "markdown",
   "id": "6f4184c4-75e0-49bd-9636-e206a9cae233",
   "metadata": {},
   "source": [
    "Parquet tables were previously created for the data for faster and more efficient manipulation of this large data. "
   ]
  },
  {
   "cell_type": "markdown",
   "id": "bca162f7-99fa-44c8-bbc1-52e1cb9d07c5",
   "metadata": {},
   "source": [
    "```\n",
    "# Direct Dataframe creation \n",
    "reviews_spark_df = spark.createDataFrame(reviews)"
   ]
  },
  {
   "cell_type": "markdown",
   "id": "a8436846-fd7e-40dc-958f-056d78bf1c96",
   "metadata": {},
   "source": [
    "The data is too large for direct dataframe creation."
   ]
  },
  {
   "cell_type": "markdown",
   "id": "1de0ead1-3061-4c20-8d65-da8e5616ea69",
   "metadata": {},
   "source": [
    "```\n",
    "# Set Schema\n",
    "schema = StructType([\n",
    "    StructField('rating', DoubleType(), True),\n",
    "    StructField('title', StringType(), True),\n",
    "    StructField('images', ArrayType(\n",
    "        StructType([\n",
    "            StructField(\"attachment_type\", StringType(), True),\n",
    "            StructField(\"large_image_url\", StringType(), True),\n",
    "            StructField(\"medium_image_url\", StringType(), True),\n",
    "            StructField(\"small_image_url\", StringType(), True),\n",
    "        ])\n",
    "    ), True),\n",
    "    StructField('asin', StringType(), True),\n",
    "    StructField('parent_asin', StringType(), True),\n",
    "    StructField('user_id', StringType(), True),\n",
    "    StructField('timestamp', LongType(), True),\n",
    "    StructField('helpful_vote', LongType(), True),\n",
    "    StructField('verified_purchase', BooleanType(), True)\n",
    "])\n",
    "\n",
    "# Convert reviews dataset to pyarrow table\n",
    "arrow_table = reviews.data\n",
    "\n",
    "# Convert to list of Python dicts\n",
    "records = arrow_table.to_pylist()\n",
    "\n",
    "# Convert pyarrow table to Spark DataFrame\n",
    "reviews_spark_df = spark.createDataFrame(records, schema=schema)"
   ]
  },
  {
   "cell_type": "markdown",
   "id": "421a5939-d84b-4840-864b-e79602944a8e",
   "metadata": {},
   "source": [
    "The data is too large for this as well. The data is saved to Parquet."
   ]
  },
  {
   "cell_type": "code",
   "execution_count": 8,
   "id": "a4715fc7-e3dc-42eb-8c8d-56978389fea2",
   "metadata": {},
   "outputs": [],
   "source": [
    "# Read the Parquet file\n",
    "df_reviews = spark.read.parquet(\"temp_reviews_parquet\")\n",
    "\n",
    "# Create the Spark Table and Temp View for querying with Pyspark API and Spark SQL\n",
    "df_reviews.createOrReplaceTempView('reviews')\n",
    "df_reviews = spark.table('reviews')"
   ]
  },
  {
   "cell_type": "markdown",
   "id": "6643e667-9298-4945-aa30-fa704c34504f",
   "metadata": {},
   "source": [
    "The data is read successfully. A table and temporary view were created to run queries."
   ]
  },
  {
   "cell_type": "markdown",
   "id": "96a33272-a40d-455b-9ce5-ee5d5ab49240",
   "metadata": {},
   "source": [
    "### Schema"
   ]
  },
  {
   "cell_type": "code",
   "execution_count": 9,
   "id": "8bd91500-9f0c-4c69-a69e-6cacd349b70e",
   "metadata": {},
   "outputs": [
    {
     "name": "stdout",
     "output_type": "stream",
     "text": [
      "root\n",
      " |-- rating: double (nullable = true)\n",
      " |-- title: string (nullable = true)\n",
      " |-- text: string (nullable = true)\n",
      " |-- images: array (nullable = true)\n",
      " |    |-- element: struct (containsNull = true)\n",
      " |    |    |-- attachment_type: string (nullable = true)\n",
      " |    |    |-- large_image_url: string (nullable = true)\n",
      " |    |    |-- medium_image_url: string (nullable = true)\n",
      " |    |    |-- small_image_url: string (nullable = true)\n",
      " |-- asin: string (nullable = true)\n",
      " |-- parent_asin: string (nullable = true)\n",
      " |-- user_id: string (nullable = true)\n",
      " |-- timestamp: long (nullable = true)\n",
      " |-- helpful_vote: long (nullable = true)\n",
      " |-- verified_purchase: boolean (nullable = true)\n",
      "\n"
     ]
    }
   ],
   "source": [
    "# Print Reviews Schema\n",
    "df_reviews.printSchema()"
   ]
  },
  {
   "cell_type": "markdown",
   "id": "5411c471-f716-47af-af95-a4163d536a29",
   "metadata": {},
   "source": [
    "This data is on the user reviews of the products. A review consists of a title and a body of text. The asin and parent_asin represent product identifiers. Some products have some minor differences (likely in options like size or color)."
   ]
  },
  {
   "cell_type": "code",
   "execution_count": 10,
   "id": "f55c4b06-82f8-4cfa-bb65-633829a916ae",
   "metadata": {},
   "outputs": [],
   "source": [
    "# Create the Spark Table and Temp View for querying with Pyspark API and Spark SQL\n",
    "df_reviews.createOrReplaceTempView('reviews')\n",
    "df_reviews = spark.table('reviews')"
   ]
  },
  {
   "cell_type": "markdown",
   "id": "cb329bfe-94d0-4f5d-8d44-d468a7b145cd",
   "metadata": {},
   "source": [
    "Queries can be run using Spark SQL or Pyspark API. We'll be writing the queries for each method to verify that results are the same."
   ]
  },
  {
   "cell_type": "markdown",
   "id": "6019f452-ae76-490e-93d4-2107ba04a67c",
   "metadata": {},
   "source": [
    "### Show the First 10 Rows of the Data"
   ]
  },
  {
   "cell_type": "code",
   "execution_count": 11,
   "id": "92d7c7dc-ecac-4cff-ab48-230fdfa51750",
   "metadata": {},
   "outputs": [
    {
     "name": "stdout",
     "output_type": "stream",
     "text": [
      "+------+--------------------+--------------------+--------------------+----------+-----------+--------------------+-------------+------------+-----------------+\n",
      "|rating|               title|                text|              images|      asin|parent_asin|             user_id|    timestamp|helpful_vote|verified_purchase|\n",
      "+------+--------------------+--------------------+--------------------+----------+-----------+--------------------+-------------+------------+-----------------+\n",
      "|   3.0|Smells like gasol...|First & most offe...|[{IMAGE, https://...|B083NRGZMM| B083NRGZMM|AFKZENTNBQ7A7V7UX...|1658185117948|           0|             true|\n",
      "|   1.0|Didn’t work at al...|These didn’t work...|                  []|B07N69T6TM| B07N69T6TM|AFKZENTNBQ7A7V7UX...|1592678549731|           0|             true|\n",
      "|   5.0|          Excellent!|I love these. The...|                  []|B01G8JO5F2| B01G8JO5F2|AFKZENTNBQ7A7V7UX...|1523093017534|           0|             true|\n",
      "|   5.0|Great laptop back...|I was searching f...|                  []|B001OC5JKY| B001OC5JKY|AGGZ357AO26RQZVRL...|1290278495000|          18|             true|\n",
      "|   5.0|Best Headphones i...|I've bought these...|                  []|B013J7WUGC| B07CJYMRWM|AG2L7H23R5LLKDKLB...|1676601581238|           0|             true|\n",
      "|   5.0|Great Fan! I’m a ...|Light weight, qui...|                  []|B072DSHKCH| B07CML419K|AGCI7FAH4GL5FI65H...|1637522881041|           0|             true|\n",
      "|   5.0|solid sound for t...|Update 2-they sen...|                  []|B07BHHB5RH| B07BHHB5RH|AGCI7FAH4GL5FI65H...|1565130879386|           0|             true|\n",
      "|   5.0|Love the headphon...|These are fantast...|                  []|B07BND376H| B09S6Y5BRG|AGCI7FAH4GL5FI65H...|1541356831659|           9|             true|\n",
      "|   5.0|          Five Stars|pretty good for t...|                  []|B002HWRZ2K| B01LW71IBJ|AGCI7FAH4GL5FI65H...|1456772571000|           0|             true|\n",
      "|   5.0|      BUY THIS THANG|yes.. so good.  j...|                  []|B00WK47VEW| B017T99JPG|AGCI7FAH4GL5FI65H...|1456772365000|           0|             true|\n",
      "+------+--------------------+--------------------+--------------------+----------+-----------+--------------------+-------------+------------+-----------------+\n",
      "\n"
     ]
    }
   ],
   "source": [
    "# With Pyspark API using .select()\n",
    "df_reviews.select(*df_reviews.columns).limit(10).show()"
   ]
  },
  {
   "cell_type": "code",
   "execution_count": 12,
   "id": "8fe488b4-c7c3-4ee9-ac7c-54d82bc60426",
   "metadata": {},
   "outputs": [
    {
     "name": "stdout",
     "output_type": "stream",
     "text": [
      "+------+--------------------+--------------------+--------------------+----------+-----------+--------------------+-------------+------------+-----------------+\n",
      "|rating|               title|                text|              images|      asin|parent_asin|             user_id|    timestamp|helpful_vote|verified_purchase|\n",
      "+------+--------------------+--------------------+--------------------+----------+-----------+--------------------+-------------+------------+-----------------+\n",
      "|   3.0|Smells like gasol...|First & most offe...|[{IMAGE, https://...|B083NRGZMM| B083NRGZMM|AFKZENTNBQ7A7V7UX...|1658185117948|           0|             true|\n",
      "|   1.0|Didn’t work at al...|These didn’t work...|                  []|B07N69T6TM| B07N69T6TM|AFKZENTNBQ7A7V7UX...|1592678549731|           0|             true|\n",
      "|   5.0|          Excellent!|I love these. The...|                  []|B01G8JO5F2| B01G8JO5F2|AFKZENTNBQ7A7V7UX...|1523093017534|           0|             true|\n",
      "|   5.0|Great laptop back...|I was searching f...|                  []|B001OC5JKY| B001OC5JKY|AGGZ357AO26RQZVRL...|1290278495000|          18|             true|\n",
      "|   5.0|Best Headphones i...|I've bought these...|                  []|B013J7WUGC| B07CJYMRWM|AG2L7H23R5LLKDKLB...|1676601581238|           0|             true|\n",
      "|   5.0|Great Fan! I’m a ...|Light weight, qui...|                  []|B072DSHKCH| B07CML419K|AGCI7FAH4GL5FI65H...|1637522881041|           0|             true|\n",
      "|   5.0|solid sound for t...|Update 2-they sen...|                  []|B07BHHB5RH| B07BHHB5RH|AGCI7FAH4GL5FI65H...|1565130879386|           0|             true|\n",
      "|   5.0|Love the headphon...|These are fantast...|                  []|B07BND376H| B09S6Y5BRG|AGCI7FAH4GL5FI65H...|1541356831659|           9|             true|\n",
      "|   5.0|          Five Stars|pretty good for t...|                  []|B002HWRZ2K| B01LW71IBJ|AGCI7FAH4GL5FI65H...|1456772571000|           0|             true|\n",
      "|   5.0|      BUY THIS THANG|yes.. so good.  j...|                  []|B00WK47VEW| B017T99JPG|AGCI7FAH4GL5FI65H...|1456772365000|           0|             true|\n",
      "+------+--------------------+--------------------+--------------------+----------+-----------+--------------------+-------------+------------+-----------------+\n",
      "\n"
     ]
    }
   ],
   "source": [
    "# With Pyspark API omitting .select()\n",
    "df_reviews.limit(10).show()"
   ]
  },
  {
   "cell_type": "code",
   "execution_count": 13,
   "id": "91271e30-a599-4fb9-a67d-7b4049f906f8",
   "metadata": {
    "scrolled": true
   },
   "outputs": [
    {
     "name": "stdout",
     "output_type": "stream",
     "text": [
      "+------+--------------------+--------------------+--------------------+----------+-----------+--------------------+-------------+------------+-----------------+\n",
      "|rating|               title|                text|              images|      asin|parent_asin|             user_id|    timestamp|helpful_vote|verified_purchase|\n",
      "+------+--------------------+--------------------+--------------------+----------+-----------+--------------------+-------------+------------+-----------------+\n",
      "|   3.0|Smells like gasol...|First & most offe...|[{IMAGE, https://...|B083NRGZMM| B083NRGZMM|AFKZENTNBQ7A7V7UX...|1658185117948|           0|             true|\n",
      "|   1.0|Didn’t work at al...|These didn’t work...|                  []|B07N69T6TM| B07N69T6TM|AFKZENTNBQ7A7V7UX...|1592678549731|           0|             true|\n",
      "|   5.0|          Excellent!|I love these. The...|                  []|B01G8JO5F2| B01G8JO5F2|AFKZENTNBQ7A7V7UX...|1523093017534|           0|             true|\n",
      "|   5.0|Great laptop back...|I was searching f...|                  []|B001OC5JKY| B001OC5JKY|AGGZ357AO26RQZVRL...|1290278495000|          18|             true|\n",
      "|   5.0|Best Headphones i...|I've bought these...|                  []|B013J7WUGC| B07CJYMRWM|AG2L7H23R5LLKDKLB...|1676601581238|           0|             true|\n",
      "|   5.0|Great Fan! I’m a ...|Light weight, qui...|                  []|B072DSHKCH| B07CML419K|AGCI7FAH4GL5FI65H...|1637522881041|           0|             true|\n",
      "|   5.0|solid sound for t...|Update 2-they sen...|                  []|B07BHHB5RH| B07BHHB5RH|AGCI7FAH4GL5FI65H...|1565130879386|           0|             true|\n",
      "|   5.0|Love the headphon...|These are fantast...|                  []|B07BND376H| B09S6Y5BRG|AGCI7FAH4GL5FI65H...|1541356831659|           9|             true|\n",
      "|   5.0|          Five Stars|pretty good for t...|                  []|B002HWRZ2K| B01LW71IBJ|AGCI7FAH4GL5FI65H...|1456772571000|           0|             true|\n",
      "|   5.0|      BUY THIS THANG|yes.. so good.  j...|                  []|B00WK47VEW| B017T99JPG|AGCI7FAH4GL5FI65H...|1456772365000|           0|             true|\n",
      "+------+--------------------+--------------------+--------------------+----------+-----------+--------------------+-------------+------------+-----------------+\n",
      "\n"
     ]
    }
   ],
   "source": [
    "# With Spark SQL\n",
    "spark.sql(\"\"\"\n",
    "SELECT *\n",
    "FROM reviews\n",
    "LIMIT 10\n",
    "\"\"\").show()"
   ]
  },
  {
   "cell_type": "markdown",
   "id": "8126af33-408a-416e-833e-94468a905335",
   "metadata": {},
   "source": [
    "The .select() part can be omitted when selecting all columns within PySpark API. Using Spark SQL we get the same results as when we use PySpark API."
   ]
  },
  {
   "cell_type": "markdown",
   "id": "4085e967-595c-4db6-80e6-ce8a459fcc70",
   "metadata": {},
   "source": [
    "### Create a datetime column"
   ]
  },
  {
   "cell_type": "markdown",
   "id": "abfe0547-13cd-4a67-93de-80da60353e50",
   "metadata": {},
   "source": [
    "We have a timestamp column using unix time using milliseconds. This is far less interpretable than something like datetime. Let's create a datetime column."
   ]
  },
  {
   "cell_type": "code",
   "execution_count": 14,
   "id": "7fb42dbd-f46b-479b-82dd-9280a0b20bd1",
   "metadata": {},
   "outputs": [],
   "source": [
    "# Add the datetime column then update the table\n",
    "df_reviews = spark.table(\"reviews\").withColumn(\"datetime\", F.from_unixtime(F.col(\"timestamp\") / 1000))\n",
    "\n",
    "# Cache the data and trigger it\n",
    "#df_reviews.persist(StorageLevel.DISK_ONLY)\n",
    "#df_reviews.count() \n",
    "\n",
    "# Update the view\n",
    "df_reviews.createOrReplaceTempView(\"reviews\")"
   ]
  },
  {
   "cell_type": "markdown",
   "id": "9d222fa2-e670-47a3-9da7-085344bf195f",
   "metadata": {},
   "source": [
    "Now we need to verify that the datetime column was added."
   ]
  },
  {
   "cell_type": "code",
   "execution_count": 15,
   "id": "4ab37c47-348e-41f5-bd2a-078fb7deb1dd",
   "metadata": {},
   "outputs": [
    {
     "name": "stdout",
     "output_type": "stream",
     "text": [
      "+------+--------------------+--------------------+--------------------+----------+-----------+--------------------+-------------+------------+-----------------+-------------------+\n",
      "|rating|               title|                text|              images|      asin|parent_asin|             user_id|    timestamp|helpful_vote|verified_purchase|           datetime|\n",
      "+------+--------------------+--------------------+--------------------+----------+-----------+--------------------+-------------+------------+-----------------+-------------------+\n",
      "|   3.0|Smells like gasol...|First & most offe...|[{IMAGE, https://...|B083NRGZMM| B083NRGZMM|AFKZENTNBQ7A7V7UX...|1658185117948|           0|             true|2022-07-18 15:58:37|\n",
      "|   1.0|Didn’t work at al...|These didn’t work...|                  []|B07N69T6TM| B07N69T6TM|AFKZENTNBQ7A7V7UX...|1592678549731|           0|             true|2020-06-20 11:42:29|\n",
      "|   5.0|          Excellent!|I love these. The...|                  []|B01G8JO5F2| B01G8JO5F2|AFKZENTNBQ7A7V7UX...|1523093017534|           0|             true|2018-04-07 02:23:37|\n",
      "|   5.0|Great laptop back...|I was searching f...|                  []|B001OC5JKY| B001OC5JKY|AGGZ357AO26RQZVRL...|1290278495000|          18|             true|2010-11-20 11:41:35|\n",
      "|   5.0|Best Headphones i...|I've bought these...|                  []|B013J7WUGC| B07CJYMRWM|AG2L7H23R5LLKDKLB...|1676601581238|           0|             true|2023-02-16 19:39:41|\n",
      "|   5.0|Great Fan! I’m a ...|Light weight, qui...|                  []|B072DSHKCH| B07CML419K|AGCI7FAH4GL5FI65H...|1637522881041|           0|             true|2021-11-21 12:28:01|\n",
      "|   5.0|solid sound for t...|Update 2-they sen...|                  []|B07BHHB5RH| B07BHHB5RH|AGCI7FAH4GL5FI65H...|1565130879386|           0|             true|2019-08-06 15:34:39|\n",
      "|   5.0|Love the headphon...|These are fantast...|                  []|B07BND376H| B09S6Y5BRG|AGCI7FAH4GL5FI65H...|1541356831659|           9|             true|2018-11-04 11:40:31|\n",
      "|   5.0|          Five Stars|pretty good for t...|                  []|B002HWRZ2K| B01LW71IBJ|AGCI7FAH4GL5FI65H...|1456772571000|           0|             true|2016-02-29 12:02:51|\n",
      "|   5.0|      BUY THIS THANG|yes.. so good.  j...|                  []|B00WK47VEW| B017T99JPG|AGCI7FAH4GL5FI65H...|1456772365000|           0|             true|2016-02-29 11:59:25|\n",
      "+------+--------------------+--------------------+--------------------+----------+-----------+--------------------+-------------+------------+-----------------+-------------------+\n",
      "\n"
     ]
    }
   ],
   "source": [
    "# With Pyspark API\n",
    "df_reviews.limit(10).show()"
   ]
  },
  {
   "cell_type": "code",
   "execution_count": 16,
   "id": "4f61549b-3aba-4a57-a9c9-e29865eb351a",
   "metadata": {},
   "outputs": [
    {
     "name": "stdout",
     "output_type": "stream",
     "text": [
      "+------+--------------------+--------------------+--------------------+----------+-----------+--------------------+-------------+------------+-----------------+-------------------+\n",
      "|rating|               title|                text|              images|      asin|parent_asin|             user_id|    timestamp|helpful_vote|verified_purchase|           datetime|\n",
      "+------+--------------------+--------------------+--------------------+----------+-----------+--------------------+-------------+------------+-----------------+-------------------+\n",
      "|   3.0|Smells like gasol...|First & most offe...|[{IMAGE, https://...|B083NRGZMM| B083NRGZMM|AFKZENTNBQ7A7V7UX...|1658185117948|           0|             true|2022-07-18 15:58:37|\n",
      "|   1.0|Didn’t work at al...|These didn’t work...|                  []|B07N69T6TM| B07N69T6TM|AFKZENTNBQ7A7V7UX...|1592678549731|           0|             true|2020-06-20 11:42:29|\n",
      "|   5.0|          Excellent!|I love these. The...|                  []|B01G8JO5F2| B01G8JO5F2|AFKZENTNBQ7A7V7UX...|1523093017534|           0|             true|2018-04-07 02:23:37|\n",
      "|   5.0|Great laptop back...|I was searching f...|                  []|B001OC5JKY| B001OC5JKY|AGGZ357AO26RQZVRL...|1290278495000|          18|             true|2010-11-20 11:41:35|\n",
      "|   5.0|Best Headphones i...|I've bought these...|                  []|B013J7WUGC| B07CJYMRWM|AG2L7H23R5LLKDKLB...|1676601581238|           0|             true|2023-02-16 19:39:41|\n",
      "|   5.0|Great Fan! I’m a ...|Light weight, qui...|                  []|B072DSHKCH| B07CML419K|AGCI7FAH4GL5FI65H...|1637522881041|           0|             true|2021-11-21 12:28:01|\n",
      "|   5.0|solid sound for t...|Update 2-they sen...|                  []|B07BHHB5RH| B07BHHB5RH|AGCI7FAH4GL5FI65H...|1565130879386|           0|             true|2019-08-06 15:34:39|\n",
      "|   5.0|Love the headphon...|These are fantast...|                  []|B07BND376H| B09S6Y5BRG|AGCI7FAH4GL5FI65H...|1541356831659|           9|             true|2018-11-04 11:40:31|\n",
      "|   5.0|          Five Stars|pretty good for t...|                  []|B002HWRZ2K| B01LW71IBJ|AGCI7FAH4GL5FI65H...|1456772571000|           0|             true|2016-02-29 12:02:51|\n",
      "|   5.0|      BUY THIS THANG|yes.. so good.  j...|                  []|B00WK47VEW| B017T99JPG|AGCI7FAH4GL5FI65H...|1456772365000|           0|             true|2016-02-29 11:59:25|\n",
      "+------+--------------------+--------------------+--------------------+----------+-----------+--------------------+-------------+------------+-----------------+-------------------+\n",
      "\n"
     ]
    }
   ],
   "source": [
    "# With Spark SQL\n",
    "spark.sql(\"\"\"\n",
    "SELECT *\n",
    "FROM reviews\n",
    "LIMIT 10\n",
    "\"\"\").show()"
   ]
  },
  {
   "cell_type": "markdown",
   "id": "9dd0e55d-f752-40ec-bc1d-61405fa4bcec",
   "metadata": {},
   "source": [
    "### Summary Statistics"
   ]
  },
  {
   "cell_type": "code",
   "execution_count": 17,
   "id": "37f9acc1-91c8-41db-b164-fb6d73f18402",
   "metadata": {},
   "outputs": [
    {
     "name": "stdout",
     "output_type": "stream",
     "text": [
      "+-------+------------------+------------------+\n",
      "|summary|            rating|      helpful_vote|\n",
      "+-------+------------------+------------------+\n",
      "|  count|          43886944|          43886944|\n",
      "|   mean| 4.099233772121385|1.0903363423983223|\n",
      "| stddev|1.4123304685968932|22.575534823738767|\n",
      "|    min|               0.0|                -4|\n",
      "|    25%|               4.0|                 0|\n",
      "|    50%|               5.0|                 0|\n",
      "|    75%|               5.0|                 0|\n",
      "|    max|               5.0|             46841|\n",
      "+-------+------------------+------------------+\n",
      "\n"
     ]
    }
   ],
   "source": [
    "df_reviews.select('rating', 'helpful_vote').summary('count', 'mean', 'stddev', 'min', '25%', '50%', '75%', 'max').show()"
   ]
  },
  {
   "cell_type": "markdown",
   "id": "7e22ecee-44c5-44dc-9463-871e324fe808",
   "metadata": {},
   "source": [
    "Here are the summary statistics for the numeric variables.  The areas of interest are the min rating of 0.0 and the min helpful_vote of -4. The ratings of 0.0 should be incorrect as Amazon ratings go from 1 to 5. Amazon used to have not helpful votes, but later took out that feature for their product user reviews. That -4 may be from that time."
   ]
  },
  {
   "cell_type": "markdown",
   "id": "e079626f-5131-4333-a361-6e8d6dd00545",
   "metadata": {},
   "source": [
    "### Null values"
   ]
  },
  {
   "cell_type": "code",
   "execution_count": 18,
   "id": "d2a2a388-1954-49be-9b46-6fe6f5246f16",
   "metadata": {},
   "outputs": [
    {
     "name": "stdout",
     "output_type": "stream",
     "text": [
      "+------------+-----------+----------+------------+----------+-----------------+-------------+---------------+------------------+-----------------------+--------------+\n",
      "|rating_nulls|title_nulls|text_nulls|images_nulls|asin_nulls|parent_asin_nulls|user_id_nulls|timestamp_nulls|helpful_vote_nulls|verified_purchase_nulls|datetime_nulls|\n",
      "+------------+-----------+----------+------------+----------+-----------------+-------------+---------------+------------------+-----------------------+--------------+\n",
      "|           0|          0|         0|           0|         0|                0|            0|              0|                 0|                      0|             0|\n",
      "+------------+-----------+----------+------------+----------+-----------------+-------------+---------------+------------------+-----------------------+--------------+\n",
      "\n"
     ]
    }
   ],
   "source": [
    "# With Pyspark API\n",
    "df_reviews.select([\n",
    "    F.sum(F.when(F.col(c).isNull(), 1).otherwise(0)).alias(f\"{c}_nulls\") \n",
    "    for c in df_reviews.columns\n",
    "]).show()"
   ]
  },
  {
   "cell_type": "code",
   "execution_count": 19,
   "id": "53402665-8bc2-4b1c-a2d4-561581a02bdc",
   "metadata": {},
   "outputs": [
    {
     "name": "stdout",
     "output_type": "stream",
     "text": [
      "+------------+-----------+----------+------------+----------+-----------------+-------------+---------------+------------------+-----------------------+--------------+\n",
      "|rating_nulls|title_nulls|text_nulls|images_nulls|asin_nulls|parent_asin_nulls|user_id_nulls|timestamp_nulls|helpful_vote_nulls|verified_purchase_nulls|datetime_nulls|\n",
      "+------------+-----------+----------+------------+----------+-----------------+-------------+---------------+------------------+-----------------------+--------------+\n",
      "|           0|          0|         0|           0|         0|                0|            0|              0|                 0|                      0|             0|\n",
      "+------------+-----------+----------+------------+----------+-----------------+-------------+---------------+------------------+-----------------------+--------------+\n",
      "\n"
     ]
    }
   ],
   "source": [
    "# With Spark SQL\n",
    "\n",
    "# Set the column names\n",
    "cols = df_reviews.columns\n",
    "\n",
    "# Generate SQL snippet for each column\n",
    "null_checks = \",\\n  \".join(\n",
    "    [f\"SUM(CASE WHEN {c} IS NULL THEN 1 ELSE 0 END) AS `{c}_nulls`\" for c in cols]\n",
    ")\n",
    "\n",
    "# Create the query\n",
    "query = f\"\"\"\n",
    "SELECT \n",
    "  {null_checks}\n",
    "FROM reviews\n",
    "\"\"\"\n",
    "\n",
    "# Run the query\n",
    "spark.sql(query).show()"
   ]
  },
  {
   "cell_type": "markdown",
   "id": "4c32d3ae-ff50-4474-a577-1c21546cf430",
   "metadata": {},
   "source": [
    "There are no null values in the reviews data."
   ]
  },
  {
   "cell_type": "markdown",
   "id": "64da2b12-886f-47cf-ba74-898afadc712d",
   "metadata": {},
   "source": [
    "### Number of unique values for each column"
   ]
  },
  {
   "cell_type": "code",
   "execution_count": 20,
   "id": "81a7c361-f9c5-4cca-9eed-9f4d5275e5db",
   "metadata": {},
   "outputs": [
    {
     "name": "stdout",
     "output_type": "stream",
     "text": [
      "+-------------+------------+-----------+-------------+-----------+------------------+--------------+----------------+-------------------+------------------------+---------------+\n",
      "|rating_unique|title_unique|text_unique|images_unique|asin_unique|parent_asin_unique|user_id_unique|timestamp_unique|helpful_vote_unique|verified_purchase_unique|datetime_unique|\n",
      "+-------------+------------+-----------+-------------+-----------+------------------+--------------+----------------+-------------------+------------------------+---------------+\n",
      "|            6|    19258533|   38250600|      1987253|    1946161|           1609860|      18286191|        42534478|               2102|                       2|       39949939|\n",
      "+-------------+------------+-----------+-------------+-----------+------------------+--------------+----------------+-------------------+------------------------+---------------+\n",
      "\n"
     ]
    }
   ],
   "source": [
    "# With Pyspark API\n",
    "df_reviews.select([\n",
    "    F.countDistinct(c).alias(f\"{c}_unique\") \n",
    "    for c in df_reviews.columns\n",
    "]).show()"
   ]
  },
  {
   "cell_type": "code",
   "execution_count": 21,
   "id": "393cc47c-e8b6-45cc-af85-29fdeea8b541",
   "metadata": {},
   "outputs": [
    {
     "name": "stdout",
     "output_type": "stream",
     "text": [
      "+-------------+------------+-----------+-------------+-----------+------------------+--------------+----------------+-------------------+------------------------+---------------+\n",
      "|rating_unique|title_unique|text_unique|images_unique|asin_unique|parent_asin_unique|user_id_unique|timestamp_unique|helpful_vote_unique|verified_purchase_unique|datetime_unique|\n",
      "+-------------+------------+-----------+-------------+-----------+------------------+--------------+----------------+-------------------+------------------------+---------------+\n",
      "|            6|    19258533|   38250600|      1987253|    1946161|           1609860|      18286191|        42534478|               2102|                       2|       39949939|\n",
      "+-------------+------------+-----------+-------------+-----------+------------------+--------------+----------------+-------------------+------------------------+---------------+\n",
      "\n"
     ]
    }
   ],
   "source": [
    "# With Spark SQL\n",
    "uniques = \",\\n  \".join(\n",
    "    [f\"COUNT(DISTINCT {c}) AS `{c}_unique`\" for c in cols]\n",
    ")\n",
    "\n",
    "# Create the query\n",
    "query = f\"\"\"\n",
    "SELECT \n",
    "  {uniques}\n",
    "FROM reviews\n",
    "\"\"\"\n",
    "\n",
    "# Run the query\n",
    "spark.sql(query).show()"
   ]
  },
  {
   "cell_type": "markdown",
   "id": "baf8ccfc-97ca-4db2-bb78-0d864d52d6b7",
   "metadata": {},
   "source": [
    "A couple of interesting/notable things here: \n",
    "\n",
    "We have 6 unique values for ratings which matches our previous finding of ratings being from 0.0 to 5.0. The only problematic value here is the 0.0. \n",
    "\n",
    "There are 38 million unique values for 'text,' which represents the bodies for reviews. Given that the data has around 43 million observations, around 5 million reviews have the same text. If we were to check the reviews, we may find that they are short and generally applicable such as 'Good.' \n",
    "\n",
    "The difference between 'asin' and 'parent_asin' is around 300,000. This value represents the number of products that appear to be the same but have different options like a shirt having different color options.\n",
    "\n",
    "The number of unique verified purchases looks correct."
   ]
  },
  {
   "cell_type": "markdown",
   "id": "720025db-46aa-4948-ace7-a30709867f39",
   "metadata": {},
   "source": [
    "### Verified purchases for each rating"
   ]
  },
  {
   "cell_type": "markdown",
   "id": "086238dc-ed13-4b72-95df-02d66d0a3599",
   "metadata": {},
   "source": [
    "How many reviews (split between verified purchases) do we have for each rating?"
   ]
  },
  {
   "cell_type": "code",
   "execution_count": 22,
   "id": "c57382e2-6a56-4bd9-ba25-6989f8311592",
   "metadata": {},
   "outputs": [
    {
     "name": "stdout",
     "output_type": "stream",
     "text": [
      "+------+----------------------------+--------------------------------+\n",
      "|rating|Number of Verified Purchases|Number of Non-Verified Purchases|\n",
      "+------+----------------------------+--------------------------------+\n",
      "|   5.0|                    26044266|                         1785482|\n",
      "|   4.0|                     5044312|                          513413|\n",
      "|   3.0|                     2625915|                          257150|\n",
      "|   2.0|                     2028015|                          229589|\n",
      "|   1.0|                     4804374|                          554426|\n",
      "|   0.0|                           2|                               0|\n",
      "+------+----------------------------+--------------------------------+\n",
      "\n"
     ]
    }
   ],
   "source": [
    "# With PySpark API\n",
    "df_reviews.groupBy(\"rating\")\\\n",
    ".agg(\n",
    "    F.sum(F.when(F.col(\"verified_purchase\") == \"true\", 1).otherwise(0)).alias(\"Number of Verified Purchases\"),\n",
    "    F.sum(F.when(F.col(\"verified_purchase\") == \"false\", 1).otherwise(0)).alias(\"Number of Non-Verified Purchases\")\n",
    ")\\\n",
    ".orderBy(F.col(\"rating\").desc())\\\n",
    ".show()"
   ]
  },
  {
   "cell_type": "code",
   "execution_count": 23,
   "id": "16a9c052-53ab-43fc-a4f7-f667139d8900",
   "metadata": {},
   "outputs": [
    {
     "name": "stdout",
     "output_type": "stream",
     "text": [
      "+------+----------------------------+--------------------------------+\n",
      "|rating|Number of Verified Purchases|Number of Non-Verified Purchases|\n",
      "+------+----------------------------+--------------------------------+\n",
      "|   5.0|                    26044266|                         1785482|\n",
      "|   4.0|                     5044312|                          513413|\n",
      "|   3.0|                     2625915|                          257150|\n",
      "|   2.0|                     2028015|                          229589|\n",
      "|   1.0|                     4804374|                          554426|\n",
      "|   0.0|                           2|                               0|\n",
      "+------+----------------------------+--------------------------------+\n",
      "\n"
     ]
    }
   ],
   "source": [
    "# With Spark SQL\n",
    "spark.sql(\"\"\"\n",
    "SELECT \n",
    "    rating, \n",
    "    SUM(CASE WHEN verified_purchase = 'true' THEN 1 ELSE 0 END) AS `Number of Verified Purchases`,\n",
    "    SUM(CASE WHEN verified_purchase = 'false' THEN 1 ELSE 0 END) AS `Number of Non-Verified Purchases`\n",
    "FROM reviews\n",
    "GROUP BY rating\n",
    "ORDER BY rating DESC\n",
    "\"\"\").show()"
   ]
  },
  {
   "cell_type": "markdown",
   "id": "24efd222-b6db-420e-b605-5551343e499b",
   "metadata": {},
   "source": [
    "We previously saw that the min was 0.0 for ratings. Given that there are only 2 of them in the data, they are likely errors in data entry. We'll query and look at the 2 reviews in question. It is likely that the reviews had negative sentiment given the value is at the lower extreme for ratings. "
   ]
  },
  {
   "cell_type": "markdown",
   "id": "b8d25284-ec87-46e4-9e54-3d33d93d6273",
   "metadata": {},
   "source": [
    "### Handling the reviews with ratings of 0"
   ]
  },
  {
   "cell_type": "markdown",
   "id": "de14d26b-9260-4a7d-83e5-32ccf93106dd",
   "metadata": {},
   "source": [
    "Let's query which rows have ratings of 0."
   ]
  },
  {
   "cell_type": "code",
   "execution_count": 24,
   "id": "9288d7a7-0b24-4818-bf60-09f7227dc798",
   "metadata": {},
   "outputs": [
    {
     "name": "stdout",
     "output_type": "stream",
     "text": [
      "+------+-------------+----------------------------------------+-----------+----------------------------+\n",
      "|rating|        title|                                    text|parent_asin|                     user_id|\n",
      "+------+-------------+----------------------------------------+-----------+----------------------------+\n",
      "|   0.0|NOT UNIVERSAL|              Didn't work for my device.| B09Z6Q2MLC|AHCTFZB5JDOEM6GKBWF4PDEXMCPA|\n",
      "|   0.0|     One Star|I need a replacement the unit was dam...| B01F3ENAOU|AG5AKJ4EROK2F6BD4SCQVZ7WP7KQ|\n",
      "+------+-------------+----------------------------------------+-----------+----------------------------+\n",
      "\n"
     ]
    }
   ],
   "source": [
    "# Verify that there are no reviews of 0.0 using PySpark API\n",
    "df_reviews\\\n",
    ".filter(F.col('rating') == 0.0)\\\n",
    ".select('rating', 'title', 'text', 'parent_asin', 'user_id')\\\n",
    ".show(truncate=40)"
   ]
  },
  {
   "cell_type": "code",
   "execution_count": 25,
   "id": "289691a6-18df-4a38-bea7-d90a7367096c",
   "metadata": {},
   "outputs": [
    {
     "name": "stdout",
     "output_type": "stream",
     "text": [
      "+------+-------------+----------------------------------------+-----------+----------------------------+\n",
      "|rating|        title|                                    text|parent_asin|                     user_id|\n",
      "+------+-------------+----------------------------------------+-----------+----------------------------+\n",
      "|   0.0|NOT UNIVERSAL|              Didn't work for my device.| B09Z6Q2MLC|AHCTFZB5JDOEM6GKBWF4PDEXMCPA|\n",
      "|   0.0|     One Star|I need a replacement the unit was dam...| B01F3ENAOU|AG5AKJ4EROK2F6BD4SCQVZ7WP7KQ|\n",
      "+------+-------------+----------------------------------------+-----------+----------------------------+\n",
      "\n"
     ]
    }
   ],
   "source": [
    "# Verify that there are no reviews of 0.0 using Spark SQL\n",
    "spark.sql(\"\"\"\n",
    "SELECT rating, title, text, parent_asin, user_id\n",
    "FROM reviews\n",
    "WHERE rating = 0.0\n",
    "\"\"\").show(truncate=40)"
   ]
  },
  {
   "cell_type": "markdown",
   "id": "87355ec3-d7fa-4f9c-95ab-85cf9c254b93",
   "metadata": {},
   "source": [
    "From the title and text, the reviews do indeed appear to have negative sentiment. Incidentally, the second one has a title of 'One Star.' Since the ratings were mistakenly entered as 0.0, let's correct them by setting them to 1.0."
   ]
  },
  {
   "cell_type": "code",
   "execution_count": 26,
   "id": "bc153906-1d27-401b-9901-15240b34748f",
   "metadata": {},
   "outputs": [],
   "source": [
    "# Change those ratings to 1.0 and update the table\n",
    "df_reviews = df_reviews.withColumn(\n",
    "    \"rating\",\n",
    "    F.when(F.col(\"rating\") == 0.0, 1.0).otherwise(F.col(\"rating\"))\n",
    ")\n",
    "\n",
    "# Update the View for SparkSQL\n",
    "df_reviews.createOrReplaceTempView(\"reviews\")"
   ]
  },
  {
   "cell_type": "markdown",
   "id": "d8738383-8450-4fea-ac68-4b36c330b628",
   "metadata": {},
   "source": [
    "Now that the ratings of 0 have been changed, let's make sure there are no longer any ratings of 0 in the data."
   ]
  },
  {
   "cell_type": "code",
   "execution_count": 27,
   "id": "55b35466-42a4-4cab-9cab-4ab88ad5f017",
   "metadata": {},
   "outputs": [
    {
     "name": "stdout",
     "output_type": "stream",
     "text": [
      "+-------------+\n",
      "|count(rating)|\n",
      "+-------------+\n",
      "|            0|\n",
      "+-------------+\n",
      "\n"
     ]
    }
   ],
   "source": [
    "# Verify that there are no reviews of 0.0 using PySpark API\n",
    "df_reviews\\\n",
    ".filter(F.col('rating') == 0.0)\\\n",
    ".select(F.count('rating'))\\\n",
    ".show()"
   ]
  },
  {
   "cell_type": "code",
   "execution_count": 28,
   "id": "c81de09a-630a-47c8-9218-066a72773ecc",
   "metadata": {},
   "outputs": [
    {
     "name": "stdout",
     "output_type": "stream",
     "text": [
      "+-------------+\n",
      "|count(rating)|\n",
      "+-------------+\n",
      "|            0|\n",
      "+-------------+\n",
      "\n"
     ]
    }
   ],
   "source": [
    "# Verify that there are no reviews of 0.0 using Spark SQL\n",
    "spark.sql(\"\"\"\n",
    "SELECT COUNT(rating)\n",
    "FROM reviews\n",
    "WHERE rating = 0.0\n",
    "\"\"\").show()"
   ]
  },
  {
   "cell_type": "markdown",
   "id": "4f11da66-387b-430b-a446-e670496e5df3",
   "metadata": {},
   "source": [
    "We now have no reviews with ratings of 0.0 in the data. To check further, let's check the rows for those previous reviews, using the parent_asin and the user_id. "
   ]
  },
  {
   "cell_type": "code",
   "execution_count": 29,
   "id": "3900fceb-24f9-4a58-a9cc-c996b178f7da",
   "metadata": {},
   "outputs": [
    {
     "name": "stdout",
     "output_type": "stream",
     "text": [
      "+------+-------------+----------------------------------------+-----------+----------------------------+\n",
      "|rating|        title|                                    text|parent_asin|                     user_id|\n",
      "+------+-------------+----------------------------------------+-----------+----------------------------+\n",
      "|   1.0|NOT UNIVERSAL|              Didn't work for my device.| B09Z6Q2MLC|AHCTFZB5JDOEM6GKBWF4PDEXMCPA|\n",
      "|   1.0|     One Star|I need a replacement the unit was dam...| B01F3ENAOU|AG5AKJ4EROK2F6BD4SCQVZ7WP7KQ|\n",
      "+------+-------------+----------------------------------------+-----------+----------------------------+\n",
      "\n"
     ]
    }
   ],
   "source": [
    "# Retrieve the rows that previously had ratings of 0.0 with PySpark API\n",
    "# Save the query for user 1\n",
    "user1 = df_reviews\\\n",
    ".filter(\n",
    "    (F.col('parent_asin') == 'B09Z6Q2MLC')\n",
    "    &\n",
    "    (F.col('user_id') == 'AHCTFZB5JDOEM6GKBWF4PDEXMCPA')\n",
    ")\\\n",
    ".select('rating', 'title', 'text', 'parent_asin', 'user_id')\\\n",
    "\n",
    "# Save the query for user 2\n",
    "user2 = df_reviews\\\n",
    ".filter(\n",
    "    (F.col('parent_asin') == 'B01F3ENAOU')\n",
    "    &\n",
    "    (F.col('user_id') == 'AG5AKJ4EROK2F6BD4SCQVZ7WP7KQ')\n",
    ")\\\n",
    ".select('rating', 'title', 'text', 'parent_asin', 'user_id')\\\n",
    "\n",
    "# Perform a union and merge the two user tables, returning a table with both users\n",
    "user1.union(user2).show(truncate=40)"
   ]
  },
  {
   "cell_type": "code",
   "execution_count": 30,
   "id": "56754879-5601-494a-b587-b825c4aa73f6",
   "metadata": {},
   "outputs": [
    {
     "name": "stdout",
     "output_type": "stream",
     "text": [
      "+------+-------------+----------------------------------------+-----------+----------------------------+\n",
      "|rating|        title|                                    text|parent_asin|                     user_id|\n",
      "+------+-------------+----------------------------------------+-----------+----------------------------+\n",
      "|   1.0|NOT UNIVERSAL|              Didn't work for my device.| B09Z6Q2MLC|AHCTFZB5JDOEM6GKBWF4PDEXMCPA|\n",
      "|   1.0|     One Star|I need a replacement the unit was dam...| B01F3ENAOU|AG5AKJ4EROK2F6BD4SCQVZ7WP7KQ|\n",
      "+------+-------------+----------------------------------------+-----------+----------------------------+\n",
      "\n"
     ]
    }
   ],
   "source": [
    "# Retrieve the rows that previously had ratings of 0.0 with Unions in Spark SQL\n",
    "spark.sql(\"\"\"\n",
    "SELECT rating, title, text, parent_asin, user_id\n",
    "FROM reviews\n",
    "WHERE parent_asin = 'B09Z6Q2MLC' AND user_id = 'AHCTFZB5JDOEM6GKBWF4PDEXMCPA'\n",
    "\n",
    "UNION ALL\n",
    "\n",
    "SELECT rating, title, text, parent_asin, user_id\n",
    "FROM reviews\n",
    "WHERE parent_asin = 'B01F3ENAOU' AND user_id = 'AG5AKJ4EROK2F6BD4SCQVZ7WP7KQ'\n",
    "\"\"\").show(truncate = 40)"
   ]
  },
  {
   "cell_type": "markdown",
   "id": "d430119d-f1e0-407e-b891-8db96d7d7aa7",
   "metadata": {},
   "source": [
    "The ratings have now been changed to 1 and the incorrect entries have been fixed."
   ]
  },
  {
   "cell_type": "markdown",
   "id": "5be16eb5-84a4-4f59-a812-5d88b6e414ff",
   "metadata": {},
   "source": [
    "### Handling Negative Helpful Votes"
   ]
  },
  {
   "cell_type": "markdown",
   "id": "27496dcf-6886-4c9d-8c6a-74d777f3e053",
   "metadata": {},
   "source": [
    "Let's find all of the rows that have negative helpful votes."
   ]
  },
  {
   "cell_type": "code",
   "execution_count": 31,
   "id": "43f3ecee-c5ac-4820-9d48-a35d0d787855",
   "metadata": {},
   "outputs": [
    {
     "name": "stdout",
     "output_type": "stream",
     "text": [
      "+------+--------------------+--------------------+------+----------+-----------+--------------------+-------------+------------+-----------------+-------------------+\n",
      "|rating|               title|                text|images|      asin|parent_asin|             user_id|    timestamp|helpful_vote|verified_purchase|           datetime|\n",
      "+------+--------------------+--------------------+------+----------+-----------+--------------------+-------------+------------+-----------------+-------------------+\n",
      "|   5.0|Secure source of ...|It's so helpful i...|    []|B078162HNC| B078162HNC|AFGXFHGZ7NVPJNGQL...|1547336082365|          -1|             true|2019-01-12 16:34:42|\n",
      "|   5.0|Excellent Ranger ...|I have had a prev...|    []|B082X3H6P9| B082X3H6P9|AEVZGLYSS3CBRF7KA...|1589208570253|          -4|             true|2020-05-11 07:49:30|\n",
      "|   5.0|      Wow. Stunning.|Or, maybe i'm eas...|    []|B08CVQ5SD9| B09M8DYH1B|AGCSSPVU3FJ7IOQ5T...|1619730920197|          -2|             true|2021-04-29 14:15:20|\n",
      "|   5.0|         Very Handy!|Just what I neede...|    []|B084GFMGN1| B0B2RK874T|AHFWJG5A5X2Z6HWU6...|1625355873555|          -1|             true|2021-07-03 16:44:33|\n",
      "+------+--------------------+--------------------+------+----------+-----------+--------------------+-------------+------------+-----------------+-------------------+\n",
      "\n"
     ]
    }
   ],
   "source": [
    "# With PySpark API\n",
    "df_reviews\\\n",
    ".filter(F.col('helpful_vote') < 0)\\\n",
    ".orderBy('datetime')\\\n",
    ".show()"
   ]
  },
  {
   "cell_type": "code",
   "execution_count": 32,
   "id": "6f5aad19-2589-41be-b4a1-274bfc27d1a1",
   "metadata": {},
   "outputs": [
    {
     "name": "stdout",
     "output_type": "stream",
     "text": [
      "+------+--------------------+--------------------+------+----------+-----------+--------------------+-------------+------------+-----------------+-------------------+\n",
      "|rating|               title|                text|images|      asin|parent_asin|             user_id|    timestamp|helpful_vote|verified_purchase|           datetime|\n",
      "+------+--------------------+--------------------+------+----------+-----------+--------------------+-------------+------------+-----------------+-------------------+\n",
      "|   5.0|Secure source of ...|It's so helpful i...|    []|B078162HNC| B078162HNC|AFGXFHGZ7NVPJNGQL...|1547336082365|          -1|             true|2019-01-12 16:34:42|\n",
      "|   5.0|Excellent Ranger ...|I have had a prev...|    []|B082X3H6P9| B082X3H6P9|AEVZGLYSS3CBRF7KA...|1589208570253|          -4|             true|2020-05-11 07:49:30|\n",
      "|   5.0|      Wow. Stunning.|Or, maybe i'm eas...|    []|B08CVQ5SD9| B09M8DYH1B|AGCSSPVU3FJ7IOQ5T...|1619730920197|          -2|             true|2021-04-29 14:15:20|\n",
      "|   5.0|         Very Handy!|Just what I neede...|    []|B084GFMGN1| B0B2RK874T|AHFWJG5A5X2Z6HWU6...|1625355873555|          -1|             true|2021-07-03 16:44:33|\n",
      "+------+--------------------+--------------------+------+----------+-----------+--------------------+-------------+------------+-----------------+-------------------+\n",
      "\n"
     ]
    }
   ],
   "source": [
    "# With Spark SQL\n",
    "spark.sql(\"\"\"\n",
    "SELECT *\n",
    "FROM reviews\n",
    "WHERE helpful_vote <0\n",
    "ORDER BY datetime\n",
    "\"\"\").show()"
   ]
  },
  {
   "cell_type": "markdown",
   "id": "0ab82d66-2bb3-4adb-8e03-7e015af8844a",
   "metadata": {},
   "source": [
    "Amazon used to have a 'not helpful vote' option, but that was later removed. There is no source that can be cited on the specific date, so we can't handle this in a targeted manner like leaving the values if the 'not helpful vote' option was there at that time. We will therefore change the negative values to 0. "
   ]
  },
  {
   "cell_type": "markdown",
   "id": "22fbb0d2-c631-4f5e-b21e-6b589b40ba0e",
   "metadata": {},
   "source": [
    "Next, we will remove those rows from the reviews data."
   ]
  },
  {
   "cell_type": "code",
   "execution_count": 33,
   "id": "58074d62-5757-4852-bbfb-d32cb466602a",
   "metadata": {},
   "outputs": [],
   "source": [
    "# Change those helpful votes to 0 and update the reviews table\n",
    "df_reviews = df_reviews.withColumn(\n",
    "    \"helpful_vote\",\n",
    "    F.when(F.col(\"helpful_vote\") < 0, 0).otherwise(F.col(\"helpful_vote\"))\n",
    ")\n",
    "\n",
    "# Update the View for SparkSQL\n",
    "df_reviews.createOrReplaceTempView(\"reviews\")"
   ]
  },
  {
   "cell_type": "markdown",
   "id": "4f571073-e4d5-4304-9618-d92b2cd5556d",
   "metadata": {},
   "source": [
    "Helpful Votes below 0 have been replaced and should now take values of 0. Next, we want to make sure that there are no longer any Helpful Votes below 0 in the data."
   ]
  },
  {
   "cell_type": "code",
   "execution_count": 34,
   "id": "70d0fca1-6206-495e-ad56-1be41c1d81a0",
   "metadata": {},
   "outputs": [
    {
     "name": "stdout",
     "output_type": "stream",
     "text": [
      "+-------------------+\n",
      "|count(helpful_vote)|\n",
      "+-------------------+\n",
      "|                  0|\n",
      "+-------------------+\n",
      "\n"
     ]
    }
   ],
   "source": [
    "# With PySpark API\n",
    "df_reviews\\\n",
    ".filter(F.col('helpful_vote') < 0)\\\n",
    ".select(F.count('helpful_vote'))\\\n",
    ".show()"
   ]
  },
  {
   "cell_type": "code",
   "execution_count": 35,
   "id": "8a7289cc-ee80-4403-a998-fad3ba738211",
   "metadata": {},
   "outputs": [
    {
     "name": "stdout",
     "output_type": "stream",
     "text": [
      "+-------------------+\n",
      "|count(helpful_vote)|\n",
      "+-------------------+\n",
      "|                  0|\n",
      "+-------------------+\n",
      "\n"
     ]
    }
   ],
   "source": [
    "# With Spark SQL\n",
    "spark.sql(\"\"\"\n",
    "SELECT COUNT(helpful_vote)\n",
    "FROM reviews\n",
    "WHERE helpful_vote <0\n",
    "\"\"\").show()"
   ]
  },
  {
   "cell_type": "markdown",
   "id": "edc64c72-0389-4deb-a3a4-c98767bd3d04",
   "metadata": {},
   "source": [
    "From these queries, the handling went smoothly."
   ]
  },
  {
   "cell_type": "markdown",
   "id": "b6bb8673-9b58-42bc-8fb8-4b9520348b27",
   "metadata": {},
   "source": [
    "### Number of verified and non-verified purchases"
   ]
  },
  {
   "cell_type": "markdown",
   "id": "96036bc8-6278-460f-a929-8467875730a1",
   "metadata": {},
   "source": [
    "How many verified and non-verified purchases do we have in the data?"
   ]
  },
  {
   "cell_type": "code",
   "execution_count": 36,
   "id": "f89fa581-1f13-46ed-8810-7bebce2105e3",
   "metadata": {},
   "outputs": [
    {
     "name": "stdout",
     "output_type": "stream",
     "text": [
      "+----------------------------+--------------------------------+\n",
      "|Number of Verified Purchases|Number of Non-Verified Purchases|\n",
      "+----------------------------+--------------------------------+\n",
      "|                    40546884|                         3340060|\n",
      "+----------------------------+--------------------------------+\n",
      "\n"
     ]
    }
   ],
   "source": [
    "# With Pyspark API\n",
    "df_reviews.select(\n",
    "    F.sum(F.when(F.col('verified_purchase') == True, 1).otherwise(0))\n",
    "        .alias('Number of Verified Purchases'),\n",
    "    F.sum(F.when(F.col('verified_purchase') == False, 1).otherwise(0))\n",
    "        .alias('Number of Non-Verified Purchases')\n",
    ").show()"
   ]
  },
  {
   "cell_type": "code",
   "execution_count": 37,
   "id": "6fea0aff-636f-46bc-a8c4-b24178f5eb1c",
   "metadata": {},
   "outputs": [
    {
     "name": "stdout",
     "output_type": "stream",
     "text": [
      "+----------------------------+--------------------------------+\n",
      "|Number of Verified Purchases|Number of Non-Verified Purchases|\n",
      "+----------------------------+--------------------------------+\n",
      "|                    40546884|                         3340060|\n",
      "+----------------------------+--------------------------------+\n",
      "\n"
     ]
    }
   ],
   "source": [
    "# With Spark SQL\n",
    "spark.sql(\"\"\"\n",
    "SELECT \n",
    "SUM(CASE WHEN verified_purchase = 'true' THEN 1 ELSE 0 END) AS `Number of Verified Purchases`,\n",
    "SUM(CASE WHEN verified_purchase = 'false' THEN 1 ELSE 0 END) AS `Number of Non-Verified Purchases`\n",
    "FROM reviews\n",
    "\"\"\").show()"
   ]
  },
  {
   "cell_type": "markdown",
   "id": "8870b5df-97cb-4508-b312-8e5f6fb63a34",
   "metadata": {},
   "source": [
    "The number of non-verified purchases is around 10% that of the number of verified purchases."
   ]
  },
  {
   "cell_type": "markdown",
   "id": "ba377cc8-3a89-4d38-9f28-40f2e7310070",
   "metadata": {},
   "source": [
    "### Which verified reviews were the most helpful?"
   ]
  },
  {
   "cell_type": "markdown",
   "id": "fd7df0e1-1a4c-4fd0-908e-c9c0a682a5c1",
   "metadata": {},
   "source": [
    "Among product reviews, what's the highest numbers of helpful votes, rating, and product identifier (parent asin) for those reviews with verified purchases?"
   ]
  },
  {
   "cell_type": "code",
   "execution_count": 38,
   "id": "b131154d-f042-4980-91f1-56986da0833c",
   "metadata": {},
   "outputs": [
    {
     "name": "stdout",
     "output_type": "stream",
     "text": [
      "+-----------+------+----------------------------------------+----------------------------------------+-----------------+------------+\n",
      "|parent_asin|rating|                                   title|                                    text|verified_purchase|helpful_vote|\n",
      "+-----------+------+----------------------------------------+----------------------------------------+-----------------+------------+\n",
      "| B010BWYDYA|   5.0|Why and how the Kindle changes everyt...|This is less a \"pros and cons\" review...|             true|       46841|\n",
      "| B075X8471B|   5.0|What I once thought was silly is now ...|Earlier this month, my TV entertainme...|             true|       32948|\n",
      "| B00CX5P8FC|   5.0|This box is a GAME CHANGER for on dem...|I am not a casual user of on-demand c...|             true|       26331|\n",
      "| B00154JDAI|   1.0|BEWARE of the SIGNIFICANT DIFFERENCES...|I was DELIGHTED to upgrade my Kindle ...|             true|       24261|\n",
      "| B07PHQ93TV|   4.0|              Not going to blow smoke...|I see so many people on here who are ...|             true|       18501|\n",
      "| B01K8B8YA8|   5.0|The Smartest of Them All!!! (Check ou...|[[VIDEOID:c05af0259c5236d5d0d0d5dea9b...|             true|       18147|\n",
      "| B007OZNZQ0|   5.0|Amazing new Kindle is nearly perfect ...|So far, I love my new Paperwhite Kind...|             true|       16478|\n",
      "| B008GG93YE|   4.0|New Kindle Buyer? Thinking about Nook...|I got my first Kindle. This is a nice...|             true|       15169|\n",
      "| B09KQC7Z4S|   5.0|I give it five stars. My wife hates t...|I give it five stars. My wife hates t...|             true|       15074|\n",
      "| B0BWD4WGJB|   2.0|                         One major flaw.|I bought this to use as a baby monito...|             true|       14647|\n",
      "| B010BWYDYA|   5.0|This is a steal for $50 as long as yo...|I pre-ordered this for my wife mostly...|             true|       14153|\n",
      "| B07KTYJ769|   5.0|       Great smart plug to go with echo!|So I’m kind of new to the amazon devi...|             true|       13973|\n",
      "| B0792K2BK6|   4.0|Love the Dot and its new look, but th...|I've been a happy owner of a 2nd gene...|             true|       13967|\n",
      "| B007Q1W586|   5.0|My Thoughts (Typed Using The Kindle F...|Let me start out by saying that I am ...|             true|       13510|\n",
      "| B0791TX5P5|   5.0|The Remote quickly learns how to powe...|Although there are already 9,000 plus...|             true|       13453|\n",
      "+-----------+------+----------------------------------------+----------------------------------------+-----------------+------------+\n",
      "\n"
     ]
    }
   ],
   "source": [
    "# With Pyspark API\n",
    "df_reviews\\\n",
    ".filter(\n",
    "    (F.col('helpful_vote') > 0) \n",
    "    & \n",
    "    (F.col('verified_purchase') == 'true')\n",
    ")\\\n",
    ".select(\n",
    "    'parent_asin',\n",
    "    'rating', \n",
    "    'title',\n",
    "    'text',\n",
    "    'verified_purchase',\n",
    "    'helpful_vote'\n",
    ")\\\n",
    ".orderBy('helpful_vote', ascending=False)\\\n",
    ".limit(15)\\\n",
    ".show(truncate=40)"
   ]
  },
  {
   "cell_type": "code",
   "execution_count": 39,
   "id": "ee9256fa-7e45-45de-b6e9-1e8c7197d0e4",
   "metadata": {
    "scrolled": true
   },
   "outputs": [
    {
     "name": "stdout",
     "output_type": "stream",
     "text": [
      "+-----------+------+----------------------------------------+----------------------------------------+-----------------+------------+\n",
      "|parent_asin|rating|                                   title|                                    text|verified_purchase|helpfuL_vote|\n",
      "+-----------+------+----------------------------------------+----------------------------------------+-----------------+------------+\n",
      "| B010BWYDYA|   5.0|Why and how the Kindle changes everyt...|This is less a \"pros and cons\" review...|             true|       46841|\n",
      "| B075X8471B|   5.0|What I once thought was silly is now ...|Earlier this month, my TV entertainme...|             true|       32948|\n",
      "| B00CX5P8FC|   5.0|This box is a GAME CHANGER for on dem...|I am not a casual user of on-demand c...|             true|       26331|\n",
      "| B00154JDAI|   1.0|BEWARE of the SIGNIFICANT DIFFERENCES...|I was DELIGHTED to upgrade my Kindle ...|             true|       24261|\n",
      "| B07PHQ93TV|   4.0|              Not going to blow smoke...|I see so many people on here who are ...|             true|       18501|\n",
      "| B01K8B8YA8|   5.0|The Smartest of Them All!!! (Check ou...|[[VIDEOID:c05af0259c5236d5d0d0d5dea9b...|             true|       18147|\n",
      "| B007OZNZQ0|   5.0|Amazing new Kindle is nearly perfect ...|So far, I love my new Paperwhite Kind...|             true|       16478|\n",
      "| B008GG93YE|   4.0|New Kindle Buyer? Thinking about Nook...|I got my first Kindle. This is a nice...|             true|       15169|\n",
      "| B09KQC7Z4S|   5.0|I give it five stars. My wife hates t...|I give it five stars. My wife hates t...|             true|       15074|\n",
      "| B0BWD4WGJB|   2.0|                         One major flaw.|I bought this to use as a baby monito...|             true|       14647|\n",
      "| B010BWYDYA|   5.0|This is a steal for $50 as long as yo...|I pre-ordered this for my wife mostly...|             true|       14153|\n",
      "| B07KTYJ769|   5.0|       Great smart plug to go with echo!|So I’m kind of new to the amazon devi...|             true|       13973|\n",
      "| B0792K2BK6|   4.0|Love the Dot and its new look, but th...|I've been a happy owner of a 2nd gene...|             true|       13967|\n",
      "| B007Q1W586|   5.0|My Thoughts (Typed Using The Kindle F...|Let me start out by saying that I am ...|             true|       13510|\n",
      "| B0791TX5P5|   5.0|The Remote quickly learns how to powe...|Although there are already 9,000 plus...|             true|       13453|\n",
      "+-----------+------+----------------------------------------+----------------------------------------+-----------------+------------+\n",
      "\n"
     ]
    }
   ],
   "source": [
    "# With Spark SQL\n",
    "spark.sql(\"\"\"\n",
    "SELECT parent_asin, rating, title, text, verified_purchase, helpfuL_vote\n",
    "FROM reviews\n",
    "WHERE helpful_vote > 0 AND verified_purchase = 'true'\n",
    "ORDER BY helpful_vote DESC\n",
    "LIMIT 15\n",
    "\"\"\").show(truncate=40)"
   ]
  },
  {
   "cell_type": "markdown",
   "id": "c2d21772-e3cb-4dd5-bb03-cfd4b7800a06",
   "metadata": {},
   "source": [
    "The most helpful product reviews with verified purchases tend to have high (4 or 5) ratings. Most of them are for different products. Those Helpful Vote counts above 18,000 are likely outliers."
   ]
  },
  {
   "cell_type": "markdown",
   "id": "a7224129-4d73-419b-aa69-1f6633a752da",
   "metadata": {},
   "source": [
    "### Which non-verified reviews were the most helpful?\n",
    "Among product reviews, what's the highest numbers of helpful votes, rating, and product identifier (parent asin) for those reviews without verified purchases?"
   ]
  },
  {
   "cell_type": "code",
   "execution_count": 40,
   "id": "0dde9fe5-9229-48fc-8359-6c1d6f20d52f",
   "metadata": {},
   "outputs": [
    {
     "name": "stdout",
     "output_type": "stream",
     "text": [
      "+-----------+------+----------------------------------------+----------------------------------------+-----------------+------------+\n",
      "|parent_asin|rating|                                   title|                                    text|verified_purchase|helpful_vote|\n",
      "+-----------+------+----------------------------------------+----------------------------------------+-----------------+------------+\n",
      "| B000I1X6PM|   3.0|        Rift in the time-space continuum|The minute I plugged this cable in, I...|            false|       12587|\n",
      "| B00LWHUBPO|   5.0|           Detailed Review of the Kindle|As has been the case for years, Amazo...|            false|       10579|\n",
      "| B08RLW7918|   1.0|                          Spy alert!!!!!|The camera video quality is definitel...|            false|        9531|\n",
      "| B000J36XR2|   1.0|            I have only a little time...|We live underground. We speak with ou...|            false|        8957|\n",
      "| B07ZPC9QD4|   4.0|List of Features/Changes compared to ...|Like iphone 11 Pro, Macbook Pro, Airp...|            false|        8626|\n",
      "| B08M8Y6473|   3.0|The Pros, Cons and Oks for Fitbit Ver...|Pros:__________<br />• It’s very comf...|            false|        8608|\n",
      "| B009T3EYHO|   4.0|A very good computer with a few drawb...|***Updates To My Review At The End***...|            false|        8384|\n",
      "| B07RJZPTLX|   4.0|The Pros, Cons and Oks for Kindle Oas...|Pros:__________<br />•  It’s small, p...|            false|        7977|\n",
      "| B00L403O8U|   5.0|                    Financing Available!|I was able to purchase this amazing t...|            false|        7660|\n",
      "| B0BVY4JVNG|   1.0|Only half the equation. The other hal...|I just received this today.<br /><br ...|            false|        7632|\n",
      "| B08F6GPRH6|   1.0|           Not interested in monthly fee|Passed, not interested in paying $120...|            false|        7547|\n",
      "| B0933BVK6T|   4.0|The Pros, Cons and Oks for Apple's Ai...|Pros:__________<br />• No weight issu...|            false|        7261|\n",
      "| B00N2ZDXW2|   3.0|                 Cool but three problems|First off, the Ring is very cool. I r...|            false|        7082|\n",
      "| B00N2ZDXW2|   1.0|When put to the test, it failed at ev...|[[VIDEOID:57547f1d2d767853416bf63487f...|            false|        6528|\n",
      "| B0C2ZMJW53|   5.0|                          a real opinion|I could sit here and write all about ...|            false|        6386|\n",
      "+-----------+------+----------------------------------------+----------------------------------------+-----------------+------------+\n",
      "\n"
     ]
    }
   ],
   "source": [
    "# With Pyspark API\n",
    "df_reviews\\\n",
    ".filter(\n",
    "    (F.col('helpful_vote') > 0) \n",
    "    & \n",
    "    (F.col('verified_purchase') == 'false')\n",
    ")\\\n",
    ".select(\n",
    "    'parent_asin',\n",
    "    'rating', \n",
    "    'title',\n",
    "    'text',\n",
    "    'verified_purchase',\n",
    "    'helpful_vote'\n",
    ")\\\n",
    ".orderBy('helpful_vote', ascending=False)\\\n",
    ".limit(15)\\\n",
    ".show(truncate=40)"
   ]
  },
  {
   "cell_type": "code",
   "execution_count": 41,
   "id": "36caac48-a28d-4805-aacd-32c4e861550e",
   "metadata": {
    "scrolled": true
   },
   "outputs": [
    {
     "name": "stdout",
     "output_type": "stream",
     "text": [
      "+-----------+------+----------------------------------------+----------------------------------------+-----------------+------------+\n",
      "|parent_asin|rating|                                   title|                                    text|verified_purchase|helpfuL_vote|\n",
      "+-----------+------+----------------------------------------+----------------------------------------+-----------------+------------+\n",
      "| B000I1X6PM|   3.0|        Rift in the time-space continuum|The minute I plugged this cable in, I...|            false|       12587|\n",
      "| B00LWHUBPO|   5.0|           Detailed Review of the Kindle|As has been the case for years, Amazo...|            false|       10579|\n",
      "| B08RLW7918|   1.0|                          Spy alert!!!!!|The camera video quality is definitel...|            false|        9531|\n",
      "| B000J36XR2|   1.0|            I have only a little time...|We live underground. We speak with ou...|            false|        8957|\n",
      "| B07ZPC9QD4|   4.0|List of Features/Changes compared to ...|Like iphone 11 Pro, Macbook Pro, Airp...|            false|        8626|\n",
      "| B08M8Y6473|   3.0|The Pros, Cons and Oks for Fitbit Ver...|Pros:__________<br />• It’s very comf...|            false|        8608|\n",
      "| B009T3EYHO|   4.0|A very good computer with a few drawb...|***Updates To My Review At The End***...|            false|        8384|\n",
      "| B07RJZPTLX|   4.0|The Pros, Cons and Oks for Kindle Oas...|Pros:__________<br />•  It’s small, p...|            false|        7977|\n",
      "| B00L403O8U|   5.0|                    Financing Available!|I was able to purchase this amazing t...|            false|        7660|\n",
      "| B0BVY4JVNG|   1.0|Only half the equation. The other hal...|I just received this today.<br /><br ...|            false|        7632|\n",
      "| B08F6GPRH6|   1.0|           Not interested in monthly fee|Passed, not interested in paying $120...|            false|        7547|\n",
      "| B0933BVK6T|   4.0|The Pros, Cons and Oks for Apple's Ai...|Pros:__________<br />• No weight issu...|            false|        7261|\n",
      "| B00N2ZDXW2|   3.0|                 Cool but three problems|First off, the Ring is very cool. I r...|            false|        7082|\n",
      "| B00N2ZDXW2|   1.0|When put to the test, it failed at ev...|[[VIDEOID:57547f1d2d767853416bf63487f...|            false|        6528|\n",
      "| B0C2ZMJW53|   5.0|                          a real opinion|I could sit here and write all about ...|            false|        6386|\n",
      "+-----------+------+----------------------------------------+----------------------------------------+-----------------+------------+\n",
      "\n"
     ]
    }
   ],
   "source": [
    "# With Spark SQL\n",
    "spark.sql(\"\"\"\n",
    "SELECT parent_asin, rating, title, text, verified_purchase, helpfuL_vote\n",
    "FROM reviews\n",
    "WHERE helpful_vote > 0 AND verified_purchase = 'false'\n",
    "ORDER BY helpful_vote DESC\n",
    "LIMIT 15\n",
    "\"\"\").show(truncate=40)"
   ]
  },
  {
   "cell_type": "markdown",
   "id": "242d0463-6ab9-4231-9b6b-ccebef3c012c",
   "metadata": {},
   "source": [
    "Reviews that aren't verified purchases tend to have much fewer helpful votes than those that do. The top 15 Helpful Vote count for the verified purchases are close to double the top 15 Helpful Vote count for the non-verified purchases, if we exclude potential outliers.\n",
    "\n",
    "Some of the reviews also have formatting as part of the text. There is also one review that has a video, and we can see how it's handled in the data: converted to a video id."
   ]
  },
  {
   "cell_type": "markdown",
   "id": "17c662a1-de16-41a1-a1f2-7b2a898a8c26",
   "metadata": {},
   "source": [
    "### Verified purchases for each rating"
   ]
  },
  {
   "cell_type": "markdown",
   "id": "680e78ce-9f4d-4a12-9142-52461776b770",
   "metadata": {},
   "source": [
    "How many verified and non-verified purchases do we have for each rating?"
   ]
  },
  {
   "cell_type": "code",
   "execution_count": 42,
   "id": "74305aa1-c54f-4737-b9eb-37d1043f66d3",
   "metadata": {},
   "outputs": [
    {
     "name": "stdout",
     "output_type": "stream",
     "text": [
      "+------+----------------------------+--------------------------------+\n",
      "|rating|Number of Verified Purchases|Number of Non-Verified Purchases|\n",
      "+------+----------------------------+--------------------------------+\n",
      "|   5.0|                    26044266|                         1785482|\n",
      "|   4.0|                     5044312|                          513413|\n",
      "|   3.0|                     2625915|                          257150|\n",
      "|   2.0|                     2028015|                          229589|\n",
      "|   1.0|                     4804376|                          554426|\n",
      "+------+----------------------------+--------------------------------+\n",
      "\n"
     ]
    }
   ],
   "source": [
    "# With Pyspark API\n",
    "df_reviews\\\n",
    ".groupBy('rating')\\\n",
    ".agg(\n",
    "    F.sum(F.when(F.col('verified_purchase') == True, 1).otherwise(0))\n",
    "        .alias('Number of Verified Purchases'),\n",
    "    F.sum(F.when(F.col('verified_purchase') == False, 1).otherwise(0))\n",
    "        .alias('Number of Non-Verified Purchases')\n",
    ")\\\n",
    ".orderBy('rating', ascending=False)\\\n",
    ".show()"
   ]
  },
  {
   "cell_type": "code",
   "execution_count": 43,
   "id": "9d339e87-8dd2-464a-b84b-2439e8b32696",
   "metadata": {},
   "outputs": [
    {
     "name": "stdout",
     "output_type": "stream",
     "text": [
      "+------+----------------------------+--------------------------------+\n",
      "|rating|Number of Verified Purchases|Number of Non-Verified Purchases|\n",
      "+------+----------------------------+--------------------------------+\n",
      "|   5.0|                    26044266|                         1785482|\n",
      "|   4.0|                     5044312|                          513413|\n",
      "|   3.0|                     2625915|                          257150|\n",
      "|   2.0|                     2028015|                          229589|\n",
      "|   1.0|                     4804376|                          554426|\n",
      "+------+----------------------------+--------------------------------+\n",
      "\n"
     ]
    }
   ],
   "source": [
    "# With Spark SQL\n",
    "spark.sql(\"\"\"\n",
    "SELECT \n",
    "    rating, \n",
    "    SUM(CASE WHEN verified_purchase = 'true' THEN 1 ELSE 0 END) AS `Number of Verified Purchases`,\n",
    "    SUM(CASE WHEN verified_purchase = 'false' THEN 1 ELSE 0 END) AS `Number of Non-Verified Purchases`\n",
    "FROM reviews\n",
    "GROUP BY rating\n",
    "ORDER BY rating DESC\n",
    "\"\"\").show()"
   ]
  },
  {
   "cell_type": "markdown",
   "id": "979faded-a412-43c4-919a-6e8ae1d9889b",
   "metadata": {},
   "source": [
    "Ratings between 2 to 4 have similar numbers if we were to account for the proportion of data. The number of non-verified purchases are around 10% the number of verified purchases for those ratings.\n",
    "\n",
    "There tend to be more ratings of 5 for verified purchases and more ratings of 1 for non-verified purchases.\n",
    "\n",
    "As expected, the ratings of 1 and 5 are where the difference lie. There may be more ratings from non-verified purchases due to review bombing from competitors."
   ]
  },
  {
   "cell_type": "markdown",
   "id": "4268c439-900a-443b-8c53-24be3b257b6b",
   "metadata": {},
   "source": [
    "### How many of each rating was there in year 2023?"
   ]
  },
  {
   "cell_type": "code",
   "execution_count": 44,
   "id": "f6dc1445-7264-42b6-b43c-9674702ce072",
   "metadata": {},
   "outputs": [
    {
     "name": "stdout",
     "output_type": "stream",
     "text": [
      "+------+----------------+----------------------------+--------------------------------+\n",
      "|rating|num_ratings_2023|Number of Verified Purchases|Number of Non-Verified Purchases|\n",
      "+------+----------------+----------------------------+--------------------------------+\n",
      "|   5.0|         1190958|                     1054998|                          135960|\n",
      "|   1.0|          289692|                      268795|                           20897|\n",
      "|   4.0|          198503|                      161945|                           36558|\n",
      "|   3.0|          124327|                      109692|                           14635|\n",
      "|   2.0|          105836|                       96773|                            9063|\n",
      "+------+----------------+----------------------------+--------------------------------+\n",
      "\n"
     ]
    }
   ],
   "source": [
    "# With PySpark API\n",
    "df_reviews\\\n",
    ".filter(F.year(\"datetime\") == 2023) \\\n",
    ".groupBy(\"rating\") \\\n",
    ".agg(\n",
    "    F.count(\"*\").alias(\"num_ratings_2023\"),\n",
    "    F.sum(F.when(F.col(\"verified_purchase\") == \"true\", 1).otherwise(0)).alias(\"Number of Verified Purchases\"),\n",
    "    F.sum(F.when(F.col(\"verified_purchase\") == \"false\", 1).otherwise(0)).alias(\"Number of Non-Verified Purchases\")\n",
    ")\\\n",
    ".orderBy(\"num_ratings_2023\", ascending=False) \\\n",
    ".show()"
   ]
  },
  {
   "cell_type": "code",
   "execution_count": 45,
   "id": "caa8bb26-e959-41c7-a4a6-a4e1a5743724",
   "metadata": {},
   "outputs": [
    {
     "name": "stdout",
     "output_type": "stream",
     "text": [
      "+------+----------------+----------------------------+--------------------------------+\n",
      "|rating|num_ratings_2023|Number of Verified Purchases|Number of Non-Verified Purchases|\n",
      "+------+----------------+----------------------------+--------------------------------+\n",
      "|   5.0|         1190958|                     1054998|                          135960|\n",
      "|   1.0|          289692|                      268795|                           20897|\n",
      "|   4.0|          198503|                      161945|                           36558|\n",
      "|   3.0|          124327|                      109692|                           14635|\n",
      "|   2.0|          105836|                       96773|                            9063|\n",
      "+------+----------------+----------------------------+--------------------------------+\n",
      "\n"
     ]
    }
   ],
   "source": [
    "# With Spark SQL\n",
    "spark.sql(\"\"\"\n",
    "SELECT \n",
    "    rating,\n",
    "    COUNT(*) AS num_ratings_2023,\n",
    "    SUM(CASE WHEN verified_purchase = 'true' THEN 1 ELSE 0 END) AS `Number of Verified Purchases`,\n",
    "    SUM(CASE WHEN verified_purchase = 'false' THEN 1 ELSE 0 END) AS `Number of Non-Verified Purchases`\n",
    "FROM reviews\n",
    "WHERE YEAR(datetime) = 2023\n",
    "GROUP BY rating\n",
    "ORDER BY num_ratings_2023 DESC\n",
    "\"\"\").show()"
   ]
  },
  {
   "cell_type": "markdown",
   "id": "ca9b353b-5bd3-4eae-91a7-ac662c580b21",
   "metadata": {},
   "source": [
    "The number of 5.0 ratings is significantly higher than the numbers of other ratings. The second rating with the highest count is 1.0. It looks like reviewers on Amazon tend to gravitate to the extremes when rating Electronics products. The numbers could reflect how Amazon screens and removes fake reviews showing that their focus is on 1 star reviews instead of 5 star reviews. It could also mean that users are more likely to leave reviews on (Electronics) products that they are extremely pleased with."
   ]
  },
  {
   "cell_type": "markdown",
   "id": "ba68020d-a013-4047-aec1-e2db7544ff90",
   "metadata": {},
   "source": [
    "## Meta Data"
   ]
  },
  {
   "cell_type": "markdown",
   "id": "ac1a63d9-f73b-4736-9b2a-ffad4fa610bb",
   "metadata": {},
   "source": [
    "### Schema"
   ]
  },
  {
   "cell_type": "code",
   "execution_count": 46,
   "id": "4682bf39-9520-4341-a3b2-c0ad4ae1c0de",
   "metadata": {},
   "outputs": [
    {
     "name": "stdout",
     "output_type": "stream",
     "text": [
      "root\n",
      " |-- main_category: string (nullable = true)\n",
      " |-- title: string (nullable = true)\n",
      " |-- average_rating: double (nullable = true)\n",
      " |-- rating_number: long (nullable = true)\n",
      " |-- features: array (nullable = true)\n",
      " |    |-- element: string (containsNull = true)\n",
      " |-- description: array (nullable = true)\n",
      " |    |-- element: string (containsNull = true)\n",
      " |-- price: string (nullable = true)\n",
      " |-- images: struct (nullable = true)\n",
      " |    |-- hi_res: array (nullable = true)\n",
      " |    |    |-- element: string (containsNull = true)\n",
      " |    |-- large: array (nullable = true)\n",
      " |    |    |-- element: string (containsNull = true)\n",
      " |    |-- thumb: array (nullable = true)\n",
      " |    |    |-- element: string (containsNull = true)\n",
      " |    |-- variant: array (nullable = true)\n",
      " |    |    |-- element: string (containsNull = true)\n",
      " |-- videos: struct (nullable = true)\n",
      " |    |-- title: array (nullable = true)\n",
      " |    |    |-- element: string (containsNull = true)\n",
      " |    |-- url: array (nullable = true)\n",
      " |    |    |-- element: string (containsNull = true)\n",
      " |    |-- user_id: array (nullable = true)\n",
      " |    |    |-- element: string (containsNull = true)\n",
      " |-- store: string (nullable = true)\n",
      " |-- categories: array (nullable = true)\n",
      " |    |-- element: string (containsNull = true)\n",
      " |-- details: string (nullable = true)\n",
      " |-- parent_asin: string (nullable = true)\n",
      " |-- bought_together: string (nullable = true)\n",
      " |-- subtitle: string (nullable = true)\n",
      " |-- author: string (nullable = true)\n",
      "\n"
     ]
    }
   ],
   "source": [
    "# Read the Parquet file\n",
    "df_meta = spark.read.parquet(\"temp_meta_parquet\")\n",
    "\n",
    "# Print Meta Schema\n",
    "df_meta.printSchema()"
   ]
  },
  {
   "cell_type": "markdown",
   "id": "6c11298f-7706-4bef-8b3d-f2e5eb3b1864",
   "metadata": {},
   "source": [
    "This data represents product metadata. It contains information on the product, name, features, and seller. Subtitle and author are rather strange for Electronics products, so we'll look into that later."
   ]
  },
  {
   "cell_type": "code",
   "execution_count": 47,
   "id": "d70e6854-65bb-43da-909b-210ff25a241c",
   "metadata": {},
   "outputs": [],
   "source": [
    "# Create the Spark Table and Temp View for querying with Pyspark API and Spark SQL\n",
    "df_meta.createOrReplaceTempView('meta')\n",
    "df_meta = spark.table('meta')"
   ]
  },
  {
   "cell_type": "markdown",
   "id": "0ea6a29d-ca88-4f59-9088-ca9240ce4a0f",
   "metadata": {},
   "source": [
    "### Show the First 10 Rows of the Data"
   ]
  },
  {
   "cell_type": "code",
   "execution_count": 48,
   "id": "34e734ba-3fe5-4d1f-8fc2-38bdeb203773",
   "metadata": {},
   "outputs": [
    {
     "name": "stdout",
     "output_type": "stream",
     "text": [
      "+-------------+----------+--------------+-------------+----------+-----------+-----+----------+----------+----------+----------+----------+-----------+---------------+--------+------+\n",
      "|main_category|     title|average_rating|rating_number|  features|description|price|    images|    videos|     store|categories|   details|parent_asin|bought_together|subtitle|author|\n",
      "+-------------+----------+--------------+-------------+----------+-----------+-----+----------+----------+----------+----------+----------+-----------+---------------+--------+------+\n",
      "|   All Ele...|FS-1051...|           3.5|            6|        []| [Telepo...| None|{[NULL]...|{[], []...| Fat Shark|[Electr...|{\"Date ...| B00MCW7G9M|           NULL|    NULL|  NULL|\n",
      "|   All Ele...|Ce-H22B...|           5.0|            1|[UPC: 6...| [HDMI I...| None|{[https...|{[], []...|      SIIG|[Electr...|{\"Produ...| B00YT6XQSE|           NULL|    NULL|  NULL|\n",
      "|    Computers|Digi-Ta...|           4.5|          246|[WARNIN...|         []|19.99|{[https...|{[AL 2S...|Digi-Tatoo|[Electr...|{\"Brand...| B07SM135LS|           NULL|    NULL|  NULL|\n",
      "|   AMAZON ...|NotoCit...|           4.5|          233|[☛NotoC...|         []| 9.99|{[https...|{[], []...|  NotoCity|[Electr...|{\"Date ...| B089CNGZCW|           NULL|    NULL|  NULL|\n",
      "|   Cell Ph...|Motorol...|           3.8|           64|[New Dr...| [all Ge...|14.99|{[NULL,...|{[], []...|   Verizon|[Electr...|{\"Produ...| B004E2Z88O|           NULL|    NULL|  NULL|\n",
      "|   Sports ...|Raymari...|           3.5|           25|[Black ...| [Transf...| None|{[https...|{[], []...| Raymarine|[Electr...|{\"Item ...| B00TX536EK|           NULL|    NULL|  NULL|\n",
      "|   Cell Ph...|QGHXO B...|           4.4|          707|[Person...| [Compat...|14.89|{[https...|{[], []...|     QGHXO|[Electr...|{\"Packa...| B07BJ7ZZL7|           NULL|    NULL|  NULL|\n",
      "|   Industr...|Protech...|           3.8|            6|[iPhone...| [This a...| None|{[NULL,...|{[], []...|   ProTech|[Electr...|{\"Light...| B005G99O2U|           NULL|    NULL|  NULL|\n",
      "|    Computers|MOSISO ...|           5.0|            2|        []|         []| None|{[https...|{[], []...|    MOSISO|[Electr...|{\"Brand...| B01MCZP7RF|           NULL|    NULL|  NULL|\n",
      "|         NULL|Fishfin...|           4.4|           86|[Made o...| [Afford...|10.99|{[NULL,...|{[Unbox...|Westlak...|[Electr...|{\"Item ...| B00R6R82HS|           NULL|    NULL|  NULL|\n",
      "+-------------+----------+--------------+-------------+----------+-----------+-----+----------+----------+----------+----------+----------+-----------+---------------+--------+------+\n",
      "\n"
     ]
    }
   ],
   "source": [
    "# With Pyspark API\n",
    "df_meta.limit(10).show(truncate = 10)"
   ]
  },
  {
   "cell_type": "code",
   "execution_count": 49,
   "id": "92e891de-011e-46f1-8869-9e8a6c872e76",
   "metadata": {},
   "outputs": [
    {
     "name": "stdout",
     "output_type": "stream",
     "text": [
      "+-------------+----------+--------------+-------------+----------+-----------+-----+----------+----------+----------+----------+----------+-----------+---------------+--------+------+\n",
      "|main_category|     title|average_rating|rating_number|  features|description|price|    images|    videos|     store|categories|   details|parent_asin|bought_together|subtitle|author|\n",
      "+-------------+----------+--------------+-------------+----------+-----------+-----+----------+----------+----------+----------+----------+-----------+---------------+--------+------+\n",
      "|   All Ele...|FS-1051...|           3.5|            6|        []| [Telepo...| None|{[NULL]...|{[], []...| Fat Shark|[Electr...|{\"Date ...| B00MCW7G9M|           NULL|    NULL|  NULL|\n",
      "|   All Ele...|Ce-H22B...|           5.0|            1|[UPC: 6...| [HDMI I...| None|{[https...|{[], []...|      SIIG|[Electr...|{\"Produ...| B00YT6XQSE|           NULL|    NULL|  NULL|\n",
      "|    Computers|Digi-Ta...|           4.5|          246|[WARNIN...|         []|19.99|{[https...|{[AL 2S...|Digi-Tatoo|[Electr...|{\"Brand...| B07SM135LS|           NULL|    NULL|  NULL|\n",
      "|   AMAZON ...|NotoCit...|           4.5|          233|[☛NotoC...|         []| 9.99|{[https...|{[], []...|  NotoCity|[Electr...|{\"Date ...| B089CNGZCW|           NULL|    NULL|  NULL|\n",
      "|   Cell Ph...|Motorol...|           3.8|           64|[New Dr...| [all Ge...|14.99|{[NULL,...|{[], []...|   Verizon|[Electr...|{\"Produ...| B004E2Z88O|           NULL|    NULL|  NULL|\n",
      "|   Sports ...|Raymari...|           3.5|           25|[Black ...| [Transf...| None|{[https...|{[], []...| Raymarine|[Electr...|{\"Item ...| B00TX536EK|           NULL|    NULL|  NULL|\n",
      "|   Cell Ph...|QGHXO B...|           4.4|          707|[Person...| [Compat...|14.89|{[https...|{[], []...|     QGHXO|[Electr...|{\"Packa...| B07BJ7ZZL7|           NULL|    NULL|  NULL|\n",
      "|   Industr...|Protech...|           3.8|            6|[iPhone...| [This a...| None|{[NULL,...|{[], []...|   ProTech|[Electr...|{\"Light...| B005G99O2U|           NULL|    NULL|  NULL|\n",
      "|    Computers|MOSISO ...|           5.0|            2|        []|         []| None|{[https...|{[], []...|    MOSISO|[Electr...|{\"Brand...| B01MCZP7RF|           NULL|    NULL|  NULL|\n",
      "|         NULL|Fishfin...|           4.4|           86|[Made o...| [Afford...|10.99|{[NULL,...|{[Unbox...|Westlak...|[Electr...|{\"Item ...| B00R6R82HS|           NULL|    NULL|  NULL|\n",
      "+-------------+----------+--------------+-------------+----------+-----------+-----+----------+----------+----------+----------+----------+-----------+---------------+--------+------+\n",
      "\n"
     ]
    }
   ],
   "source": [
    "# With Spark SQL\n",
    "spark.sql(\"\"\"\n",
    "SELECT *\n",
    "FROM meta\n",
    "LIMIT 10\n",
    "\"\"\").show(truncate = 10)"
   ]
  },
  {
   "cell_type": "markdown",
   "id": "5f4351da-fd42-438b-8c8a-34d7e1ac20fd",
   "metadata": {},
   "source": [
    "There's a lot of nulls for the last 3 columns. We should look into that later."
   ]
  },
  {
   "cell_type": "markdown",
   "id": "a688cb84-3cc7-4c57-8c69-dda6c564b090",
   "metadata": {},
   "source": [
    "### Summary Statistics"
   ]
  },
  {
   "cell_type": "code",
   "execution_count": 50,
   "id": "6b023dfa-fdca-4a54-a6fa-46e8765ca202",
   "metadata": {},
   "outputs": [
    {
     "name": "stdout",
     "output_type": "stream",
     "text": [
      "+-------+---------------+---------------+---------------+\n",
      "|summary| average_rating|  rating_number|          price|\n",
      "+-------+---------------+---------------+---------------+\n",
      "|  count|        1610012|        1610012|        1610012|\n",
      "|   mean|4.0085408680...|180.48330757...|96.457674988...|\n",
      "| stddev|0.8331378499...|2543.9800659...|319.17378786...|\n",
      "|    min|            1.0|              1|            0.0|\n",
      "|    25%|            3.6|              3|          11.99|\n",
      "|    50%|            4.2|             12|           22.9|\n",
      "|    75%|            4.6|             49|          59.99|\n",
      "|    max|            5.0|        1034896|              —|\n",
      "+-------+---------------+---------------+---------------+\n",
      "\n"
     ]
    }
   ],
   "source": [
    "# With PySpark API\n",
    "df_meta.select('average_rating', 'rating_number', 'price').summary('count', 'mean', 'stddev', 'min', '25%', '50%', '75%', 'max').show(truncate=15)"
   ]
  },
  {
   "cell_type": "markdown",
   "id": "3daff1cd-22f6-458e-9d58-ebe2559ac5cc",
   "metadata": {},
   "source": [
    "There are 1,610,012 rows in the data.\n",
    "\n",
    "The Average Rating column ranges in values from 1 to 5, which is reasonable. Unsurprisingly, Average Ratings of exactly 5 are extreme values that probably result from having very few reviews. Most of the Average Ratings are above 3 (around 4 according to the mean). The Rating Number has a - for the max, which is likely do it being a string as reported in the schema. The same goes for the price. Interestingly, most electronic products are below $60 in price."
   ]
  },
  {
   "cell_type": "code",
   "execution_count": 51,
   "id": "0acc9bde-0f2e-44f3-9535-511f30a31c07",
   "metadata": {},
   "outputs": [],
   "source": [
    "# Cast the price in the meta table\n",
    "df_meta = df_meta.withColumn('price', F.col('price').cast('double'))\n",
    "\n",
    "# Update the View for SparkSql \n",
    "df_meta.createOrReplaceTempView(\"meta\")"
   ]
  },
  {
   "cell_type": "code",
   "execution_count": 52,
   "id": "0417063e-f1e1-4f12-9368-ecb85b349c8b",
   "metadata": {},
   "outputs": [
    {
     "name": "stdout",
     "output_type": "stream",
     "text": [
      "+-------+---------------+---------------+---------------+\n",
      "|summary| average_rating|  rating_number|          price|\n",
      "+-------+---------------+---------------+---------------+\n",
      "|  count|        1610012|        1610012|         526449|\n",
      "|   mean|4.0085408680...|180.48330757...|96.457674988...|\n",
      "| stddev|0.8331378499...|2543.9800659...|319.17378786...|\n",
      "|    min|            1.0|              1|            0.0|\n",
      "|    25%|            3.6|              3|          11.99|\n",
      "|    50%|            4.2|             12|           22.9|\n",
      "|    75%|            4.6|             49|          59.99|\n",
      "|    max|            5.0|        1034896|        44630.0|\n",
      "+-------+---------------+---------------+---------------+\n",
      "\n"
     ]
    }
   ],
   "source": [
    "# With PySpark API\n",
    "df_meta.select('average_rating', 'rating_number', 'price').summary('count', 'mean', 'stddev', 'min', '25%', '50%', '75%', 'max').show(truncate=15)"
   ]
  },
  {
   "cell_type": "markdown",
   "id": "3f212291-02be-4786-82f1-e42a8fa73158",
   "metadata": {},
   "source": [
    "We now have 44630.0 instead of - for the max price."
   ]
  },
  {
   "cell_type": "markdown",
   "id": "6cb0ea29-c81d-4f4f-8e7f-eb2fdd524c6b",
   "metadata": {},
   "source": [
    "### Number of Nulls in the Data"
   ]
  },
  {
   "cell_type": "code",
   "execution_count": 53,
   "id": "e2550968-4d24-487e-9e10-f6b244c4205a",
   "metadata": {},
   "outputs": [
    {
     "name": "stdout",
     "output_type": "stream",
     "text": [
      "+-------------+-----+--------------+-------------+--------+-----------+-------+------+------+-----+----------+-------+-----------+---------------+--------+-------+\n",
      "|main_category|title|average_rating|rating_number|features|description|  price|images|videos|store|categories|details|parent_asin|bought_together|subtitle| author|\n",
      "+-------------+-----+--------------+-------------+--------+-----------+-------+------+------+-----+----------+-------+-----------+---------------+--------+-------+\n",
      "|       106334|    0|             0|            0|       0|          0|1083563|     0|     0| 9520|         0|      0|          0|        1610012| 1609161|1609536|\n",
      "+-------------+-----+--------------+-------------+--------+-----------+-------+------+------+-----+----------+-------+-----------+---------------+--------+-------+\n",
      "\n"
     ]
    }
   ],
   "source": [
    "# With Pyspark API\n",
    "df_meta.select([\n",
    "    F.sum(F.when(F.col(c).isNull(), 1).otherwise(0)).alias(f\"{c}\") \n",
    "    for c in df_meta.columns\n",
    "]).show(truncate=10)"
   ]
  },
  {
   "cell_type": "code",
   "execution_count": 54,
   "id": "f5f12844-cf97-40bf-aac9-04776df145fa",
   "metadata": {},
   "outputs": [
    {
     "name": "stdout",
     "output_type": "stream",
     "text": [
      "+-------------+-----+--------------+-------------+--------+-----------+-------+------+------+-----+----------+-------+-----------+---------------+--------+-------+\n",
      "|main_category|title|average_rating|rating_number|features|description|  price|images|videos|store|categories|details|parent_asin|bought_together|subtitle| author|\n",
      "+-------------+-----+--------------+-------------+--------+-----------+-------+------+------+-----+----------+-------+-----------+---------------+--------+-------+\n",
      "|       106334|    0|             0|            0|       0|          0|1083563|     0|     0| 9520|         0|      0|          0|        1610012| 1609161|1609536|\n",
      "+-------------+-----+--------------+-------------+--------+-----------+-------+------+------+-----+----------+-------+-----------+---------------+--------+-------+\n",
      "\n"
     ]
    }
   ],
   "source": [
    "# With Spark SQL\n",
    "\n",
    "# Set the column names\n",
    "cols = df_meta.columns\n",
    "\n",
    "# Generate SQL snippet for each column\n",
    "null_checks = \",\\n  \".join(\n",
    "    [f\"SUM(CASE WHEN {c} IS NULL THEN 1 ELSE 0 END) AS `{c}`\" for c in cols]\n",
    ")\n",
    "\n",
    "# Create the query\n",
    "query = f\"\"\"\n",
    "SELECT \n",
    "  {null_checks}\n",
    "FROM meta\n",
    "\"\"\"\n",
    "\n",
    "# Run the query\n",
    "spark.sql(query).show()"
   ]
  },
  {
   "cell_type": "markdown",
   "id": "ac29e302-5a95-49ef-a67c-c3a40efe7469",
   "metadata": {},
   "source": [
    "The number of nulls look good for most of the data. The store having nulls might be related to third party sellers. For main_category though, we will need further investigation. There may a general main_category that aggregates other electronics that don't fit into any specific category. It looks like bought_together, subtitle, and author are entirely or mostly null. "
   ]
  },
  {
   "cell_type": "code",
   "execution_count": 55,
   "id": "3edf8a15-478f-48ee-9fc3-87f2e31e87d9",
   "metadata": {},
   "outputs": [
    {
     "name": "stdout",
     "output_type": "stream",
     "text": [
      "+---------------------+--------------+------------+-------------------------+------------------+----------------+\n",
      "|bought_together_nulls|subtitle_nulls|author_nulls|bought_together_not_nulls|subtitle_not_nulls|author_not_nulls|\n",
      "+---------------------+--------------+------------+-------------------------+------------------+----------------+\n",
      "|              1610012|       1609161|     1609536|                        0|               851|             476|\n",
      "+---------------------+--------------+------------+-------------------------+------------------+----------------+\n",
      "\n"
     ]
    }
   ],
   "source": [
    "# With PySpark API\n",
    "# Store null counts\n",
    "null_counts = df_meta.select(\n",
    "    F.sum(F.when(F.col('bought_together').isNull(), 1).otherwise(0)).alias('bought_together_nulls'),\n",
    "    F.sum(F.when(F.col('subtitle').isNull(), 1).otherwise(0)).alias('subtitle_nulls'),\n",
    "    F.sum(F.when(F.col('author').isNull(), 1).otherwise(0)).alias('author_nulls')\n",
    ")\n",
    "\n",
    "# Store not-null counts\n",
    "not_null_counts = df_meta.select(\n",
    "    F.sum(F.when(F.col('bought_together').isNotNull(), 1).otherwise(0)).alias('bought_together_not_nulls'),\n",
    "    F.sum(F.when(F.col('subtitle').isNotNull(), 1).otherwise(0)).alias('subtitle_not_nulls'),\n",
    "    F.sum(F.when(F.col('author').isNotNull(), 1).otherwise(0)).alias('author_not_nulls')\n",
    ")\n",
    "\n",
    "# Join both results with crossJoin\n",
    "null_counts.crossJoin(not_null_counts).show()"
   ]
  },
  {
   "cell_type": "code",
   "execution_count": 56,
   "id": "f422c253-1cab-4ad4-972f-f6717d512800",
   "metadata": {},
   "outputs": [
    {
     "name": "stdout",
     "output_type": "stream",
     "text": [
      "+---------------------+--------------+------------+-------------------------+------------------+----------------+\n",
      "|bought_together_nulls|subtitle_nulls|author_nulls|bought_together_not_nulls|subtitle_not_nulls|author_not_nulls|\n",
      "+---------------------+--------------+------------+-------------------------+------------------+----------------+\n",
      "|              1610012|       1609161|     1609536|                        0|               851|             476|\n",
      "+---------------------+--------------+------------+-------------------------+------------------+----------------+\n",
      "\n"
     ]
    }
   ],
   "source": [
    "# With SparkSQL\n",
    "# Use Common Table Expressions to store the Null and Not-Null queries, then join them\n",
    "spark.sql(\"\"\"\n",
    "WITH null_counts AS (\n",
    "  SELECT \n",
    "    SUM(CASE WHEN bought_together IS NULL THEN 1 ELSE 0 END) AS bought_together_nulls,\n",
    "    SUM(CASE WHEN subtitle IS NULL THEN 1 ELSE 0 END) AS subtitle_nulls,\n",
    "    SUM(CASE WHEN author IS NULL THEN 1 ELSE 0 END) AS author_nulls\n",
    "  FROM meta\n",
    "),\n",
    "not_null_counts AS (\n",
    "  SELECT \n",
    "    SUM(CASE WHEN bought_together IS NOT NULL THEN 1 ELSE 0 END) AS bought_together_not_nulls,\n",
    "    SUM(CASE WHEN subtitle IS NOT NULL THEN 1 ELSE 0 END) AS subtitle_not_nulls,\n",
    "    SUM(CASE WHEN author IS NOT NULL THEN 1 ELSE 0 END) AS author_not_nulls\n",
    "  FROM meta\n",
    ")\n",
    "\n",
    "SELECT *\n",
    "FROM null_counts\n",
    "JOIN not_null_counts\n",
    "\"\"\").show()"
   ]
  },
  {
   "cell_type": "markdown",
   "id": "7fe5c83e-c88d-423a-9f2d-5df4bd4692cf",
   "metadata": {},
   "source": [
    "It looks like the table is mostly populated with null values for these columns. Bought_together in particular is entirely null and should be removed entirely."
   ]
  },
  {
   "cell_type": "markdown",
   "id": "7353f09a-d72b-4493-96ea-0d463317655a",
   "metadata": {},
   "source": [
    "### Investigating Authors"
   ]
  },
  {
   "cell_type": "markdown",
   "id": "e03ca4a4-c67f-4e19-bc9f-a541a9cfcddd",
   "metadata": {},
   "source": [
    "Let's write a query to see what data we have where we have observations for the authors. "
   ]
  },
  {
   "cell_type": "code",
   "execution_count": 57,
   "id": "09ef30f6-91f3-4686-af1a-a27ac8aef604",
   "metadata": {},
   "outputs": [
    {
     "name": "stdout",
     "output_type": "stream",
     "text": [
      "+-------------+----------------------------------------+--------------------------------+----------------------------------------+----------------------------------------+\n",
      "|main_category|                                   title|                        subtitle|                              categories|                                  author|\n",
      "+-------------+----------------------------------------+--------------------------------+----------------------------------------+----------------------------------------+\n",
      "|        Books|Practical Modern Basketball (3rd Edit...|                     3rd Edition|   [Electronics, Accessories & Supplies]|{'avatar': 'https://m.media-amazon.co...|\n",
      "|        Books|Garmin GPSMAP 496 Qref Checklist (Qre...|Spiral-bound – December 15, 2008|[Electronics, Car & Vehicle Electroni...|{'avatar': 'https://m.media-amazon.co...|\n",
      "|        Books|           Sleepwalker: The Last Sandman|       Paperback – July 30, 2010|[Electronics, eBook Readers & Accesso...|{'avatar': 'https://m.media-amazon.co...|\n",
      "|        Books|Disney Moana: Movie Theater Storybook...|     Hardcover – October 4, 2016|         [Electronics, Video Projectors]|{'avatar': 'https://m.media-amazon.co...|\n",
      "|        Books|Estrella errante (Zodíaco) (Spanish E...|     Paperback – October 1, 2017|[Electronics, Computers & Accessories...|{'avatar': 'https://m.media-amazon.co...|\n",
      "+-------------+----------------------------------------+--------------------------------+----------------------------------------+----------------------------------------+\n",
      "\n"
     ]
    }
   ],
   "source": [
    "# Pyspark API\n",
    "df_meta\\\n",
    ".filter(F.col('author').isNotNull())\\\n",
    ".select('main_category', 'title', 'subtitle', 'categories', 'author')\\\n",
    ".limit(5)\\\n",
    ".show(truncate=40)"
   ]
  },
  {
   "cell_type": "code",
   "execution_count": 58,
   "id": "91c6dcc5-066c-4c7a-94fc-59ca00bffeaa",
   "metadata": {
    "scrolled": true
   },
   "outputs": [
    {
     "name": "stdout",
     "output_type": "stream",
     "text": [
      "+-------------+----------------------------------------+--------------------------------+----------------------------------------+----------------------------------------+\n",
      "|main_category|                                   title|                        subtitle|                              categories|                                  author|\n",
      "+-------------+----------------------------------------+--------------------------------+----------------------------------------+----------------------------------------+\n",
      "|        Books|Practical Modern Basketball (3rd Edit...|                     3rd Edition|   [Electronics, Accessories & Supplies]|{'avatar': 'https://m.media-amazon.co...|\n",
      "|        Books|Garmin GPSMAP 496 Qref Checklist (Qre...|Spiral-bound – December 15, 2008|[Electronics, Car & Vehicle Electroni...|{'avatar': 'https://m.media-amazon.co...|\n",
      "|        Books|           Sleepwalker: The Last Sandman|       Paperback – July 30, 2010|[Electronics, eBook Readers & Accesso...|{'avatar': 'https://m.media-amazon.co...|\n",
      "|        Books|Disney Moana: Movie Theater Storybook...|     Hardcover – October 4, 2016|         [Electronics, Video Projectors]|{'avatar': 'https://m.media-amazon.co...|\n",
      "|        Books|Estrella errante (Zodíaco) (Spanish E...|     Paperback – October 1, 2017|[Electronics, Computers & Accessories...|{'avatar': 'https://m.media-amazon.co...|\n",
      "+-------------+----------------------------------------+--------------------------------+----------------------------------------+----------------------------------------+\n",
      "\n"
     ]
    }
   ],
   "source": [
    "# Spark SQL\n",
    "spark.sql(\"\"\"\n",
    "SELECT main_category, title, subtitle, categories, author\n",
    "FROM meta\n",
    "WHERE author IS NOT NULL\n",
    "LIMIT 5\n",
    "\"\"\").show(truncate=40)"
   ]
  },
  {
   "cell_type": "markdown",
   "id": "dd3015f1-b8b8-43e3-b917-9c8f4c681829",
   "metadata": {},
   "source": [
    "It looks like there are books in the electronics product data. From the subtitles, some of these are physical books rather than eBooks from Kindle. Let's filter out the Books from the main_category and see what we get."
   ]
  },
  {
   "cell_type": "code",
   "execution_count": 59,
   "id": "db750578-9177-4660-9f05-69e263e3f51b",
   "metadata": {},
   "outputs": [
    {
     "name": "stdout",
     "output_type": "stream",
     "text": [
      "+-------------+----------------------------------------+--------------+----------------------------------------+----------------------------------------+\n",
      "|main_category|                                   title|      subtitle|                              categories|                                  author|\n",
      "+-------------+----------------------------------------+--------------+----------------------------------------+----------------------------------------+\n",
      "| Buy a Kindle|Five Little Monkeys Storybook Treasur...|Kindle Edition|[Electronics, Computers & Accessories...|{'avatar': 'https://m.media-amazon.co...|\n",
      "| Buy a Kindle|HF Antenna Accessories (Amateur Radio...|Kindle Edition|[Electronics, Television & Video, Acc...|{'avatar': 'https://m.media-amazon.co...|\n",
      "| Buy a Kindle|An Orphan in the Snow: The heart-warm...|Kindle Edition|[Electronics, eBook Readers & Accesso...|{'avatar': 'https://m.media-amazon.co...|\n",
      "| Buy a Kindle|              Sister Peters in Amsterdam|Kindle Edition|[Electronics, Accessories & Supplies,...|{'avatar': 'https://m.media-amazon.co...|\n",
      "| Buy a Kindle|                         Basher Five-Two|Kindle Edition|[Electronics, Car & Vehicle Electroni...|{'avatar': 'https://m.media-amazon.co...|\n",
      "+-------------+----------------------------------------+--------------+----------------------------------------+----------------------------------------+\n",
      "\n"
     ]
    }
   ],
   "source": [
    "# Pyspark API\n",
    "df_meta\\\n",
    ".filter(\n",
    "    F.col('author').isNotNull() &\n",
    "    (F.col('main_category') != 'Books')    \n",
    ")\\\n",
    ".select('main_category', 'title', 'subtitle', 'categories', 'author')\\\n",
    ".limit(5)\\\n",
    ".show(truncate=40)"
   ]
  },
  {
   "cell_type": "code",
   "execution_count": 60,
   "id": "d42fcff4-0f04-4f34-9fe7-4a4c54227e4e",
   "metadata": {},
   "outputs": [
    {
     "name": "stdout",
     "output_type": "stream",
     "text": [
      "+-------------+----------------------------------------+--------------+----------------------------------------+----------------------------------------+\n",
      "|main_category|                                   title|      subtitle|                              categories|                                  author|\n",
      "+-------------+----------------------------------------+--------------+----------------------------------------+----------------------------------------+\n",
      "| Buy a Kindle|Five Little Monkeys Storybook Treasur...|Kindle Edition|[Electronics, Computers & Accessories...|{'avatar': 'https://m.media-amazon.co...|\n",
      "| Buy a Kindle|HF Antenna Accessories (Amateur Radio...|Kindle Edition|[Electronics, Television & Video, Acc...|{'avatar': 'https://m.media-amazon.co...|\n",
      "| Buy a Kindle|An Orphan in the Snow: The heart-warm...|Kindle Edition|[Electronics, eBook Readers & Accesso...|{'avatar': 'https://m.media-amazon.co...|\n",
      "| Buy a Kindle|              Sister Peters in Amsterdam|Kindle Edition|[Electronics, Accessories & Supplies,...|{'avatar': 'https://m.media-amazon.co...|\n",
      "| Buy a Kindle|                         Basher Five-Two|Kindle Edition|[Electronics, Car & Vehicle Electroni...|{'avatar': 'https://m.media-amazon.co...|\n",
      "+-------------+----------------------------------------+--------------+----------------------------------------+----------------------------------------+\n",
      "\n"
     ]
    }
   ],
   "source": [
    "# Spark SQL\n",
    "spark.sql(\"\"\"\n",
    "SELECT main_category, title, subtitle, categories, author\n",
    "FROM meta\n",
    "WHERE author IS NOT NULL AND main_category != 'Books'\n",
    "LIMIT 5\n",
    "\"\"\").show(truncate=40)"
   ]
  },
  {
   "cell_type": "markdown",
   "id": "afc58b2c-e15c-48ab-aa34-7efd45aa713c",
   "metadata": {},
   "source": [
    "Now we really have Kindle books. Let's further remove these with filters and see if there is any other data."
   ]
  },
  {
   "cell_type": "code",
   "execution_count": 61,
   "id": "332f3051-acc0-4c2f-a89d-32241fb91d1e",
   "metadata": {},
   "outputs": [
    {
     "name": "stdout",
     "output_type": "stream",
     "text": [
      "+-------------+-----+--------+----------+------+\n",
      "|main_category|title|subtitle|categories|author|\n",
      "+-------------+-----+--------+----------+------+\n",
      "+-------------+-----+--------+----------+------+\n",
      "\n"
     ]
    }
   ],
   "source": [
    "# Pyspark API\n",
    "df_meta\\\n",
    ".filter(\n",
    "    F.col('author').isNotNull() &\n",
    "    (F.col('main_category') != 'Books') &\n",
    "    (F.col('main_category') != 'Buy a Kindle')\n",
    "    \n",
    ")\\\n",
    ".select('main_category', 'title', 'subtitle', 'categories', 'author')\\\n",
    ".limit(5)\\\n",
    ".show(truncate=40)"
   ]
  },
  {
   "cell_type": "code",
   "execution_count": 62,
   "id": "3579183e-f6ef-45b2-af9f-101d88518f4d",
   "metadata": {},
   "outputs": [
    {
     "name": "stdout",
     "output_type": "stream",
     "text": [
      "+-------------+-----+--------+----------+------+\n",
      "|main_category|title|subtitle|categories|author|\n",
      "+-------------+-----+--------+----------+------+\n",
      "+-------------+-----+--------+----------+------+\n",
      "\n"
     ]
    }
   ],
   "source": [
    "# Spark SQL\n",
    "spark.sql(\"\"\"\n",
    "SELECT main_category, title, subtitle, categories, author\n",
    "FROM meta\n",
    "WHERE author IS NOT NULL AND main_category != 'Books' AND main_category != 'Buy a Kindle'\n",
    "\"\"\").show(truncate=40)"
   ]
  },
  {
   "cell_type": "markdown",
   "id": "3b71fdb3-e788-4fe3-8ad7-fd79ccd30ca7",
   "metadata": {},
   "source": [
    "So, the authors column has values only for products in the Books or Buy a Kindle main_categories. Since books aren't really electronics let's remove these products from the data."
   ]
  },
  {
   "cell_type": "markdown",
   "id": "15038636-5513-4f0f-ab8a-93b1adcb411c",
   "metadata": {},
   "source": [
    "### Removing Books and Kindle eBooks"
   ]
  },
  {
   "cell_type": "code",
   "execution_count": 63,
   "id": "d96fe97b-dce8-42e8-bee5-1552dea0d8cc",
   "metadata": {},
   "outputs": [],
   "source": [
    "# Removing the targeted rows with Pyspark API\n",
    "df_meta = df_meta\\\n",
    ".filter(\n",
    "    ~F.col('main_category').isin('Books', 'Buy a Kindle') \n",
    ")\n",
    "\n",
    "# Replace the view for SparkSql with the updated table\n",
    "df_meta.createOrReplaceTempView(\"meta\")"
   ]
  },
  {
   "cell_type": "code",
   "execution_count": 64,
   "id": "33ab5f88-33eb-4e30-b1ff-f21440f86693",
   "metadata": {},
   "outputs": [
    {
     "name": "stdout",
     "output_type": "stream",
     "text": [
      "+-------------+-----+--------+----------+------+\n",
      "|main_category|title|subtitle|categories|author|\n",
      "+-------------+-----+--------+----------+------+\n",
      "+-------------+-----+--------+----------+------+\n",
      "\n"
     ]
    }
   ],
   "source": [
    "# Double check that the rows were removed as intended using PySpark API\n",
    "df_meta\\\n",
    ".filter(\n",
    "    F.col('main_category').isin('Books', 'Buy a Kindle') \n",
    ")\\\n",
    ".select('main_category', 'title', 'subtitle', 'categories', 'author')\\\n",
    ".limit(5)\\\n",
    ".show(truncate=40)"
   ]
  },
  {
   "cell_type": "code",
   "execution_count": 65,
   "id": "e708a3a0-6882-4a0f-b57c-5825c4eeba9c",
   "metadata": {},
   "outputs": [
    {
     "name": "stdout",
     "output_type": "stream",
     "text": [
      "+-------------+-----+--------+----------+------+\n",
      "|main_category|title|subtitle|categories|author|\n",
      "+-------------+-----+--------+----------+------+\n",
      "+-------------+-----+--------+----------+------+\n",
      "\n"
     ]
    }
   ],
   "source": [
    "# Double check that the rows were removed as intended using Spark SQL\n",
    "spark.sql(\"\"\"\n",
    "SELECT main_category, title, subtitle, categories, author\n",
    "FROM meta\n",
    "WHERE author IS NOT NULL AND main_category != 'Books' AND main_category != 'Buy a Kindle'\n",
    "\"\"\").show(truncate=40)"
   ]
  },
  {
   "cell_type": "markdown",
   "id": "c69522dc-557b-4a92-a8b8-f302c6687fbe",
   "metadata": {},
   "source": [
    "The rows were removed as intended. Next, let's check the number of nulls for the last 3 columns of the data table."
   ]
  },
  {
   "cell_type": "code",
   "execution_count": 66,
   "id": "27771f7a-4d9d-4311-8523-096154433de1",
   "metadata": {},
   "outputs": [
    {
     "name": "stdout",
     "output_type": "stream",
     "text": [
      "+---------------------+--------------+------------+-------------------------+------------------+----------------+\n",
      "|bought_together_nulls|subtitle_nulls|author_nulls|bought_together_not_nulls|subtitle_not_nulls|author_not_nulls|\n",
      "+---------------------+--------------+------------+-------------------------+------------------+----------------+\n",
      "|              1502617|       1502617|     1502617|                        0|                 0|               0|\n",
      "+---------------------+--------------+------------+-------------------------+------------------+----------------+\n",
      "\n"
     ]
    }
   ],
   "source": [
    "# With PySpark API\n",
    "# Store null counts\n",
    "null_counts = df_meta.select(\n",
    "    F.sum(F.when(F.col('bought_together').isNull(), 1).otherwise(0)).alias('bought_together_nulls'),\n",
    "    F.sum(F.when(F.col('subtitle').isNull(), 1).otherwise(0)).alias('subtitle_nulls'),\n",
    "    F.sum(F.when(F.col('author').isNull(), 1).otherwise(0)).alias('author_nulls')\n",
    ")\n",
    "\n",
    "# Store not-null counts\n",
    "not_null_counts = df_meta.select(\n",
    "    F.sum(F.when(F.col('bought_together').isNotNull(), 1).otherwise(0)).alias('bought_together_not_nulls'),\n",
    "    F.sum(F.when(F.col('subtitle').isNotNull(), 1).otherwise(0)).alias('subtitle_not_nulls'),\n",
    "    F.sum(F.when(F.col('author').isNotNull(), 1).otherwise(0)).alias('author_not_nulls')\n",
    ")\n",
    "\n",
    "# Join both results with crossJoin\n",
    "null_counts.crossJoin(not_null_counts).show()"
   ]
  },
  {
   "cell_type": "code",
   "execution_count": 67,
   "id": "1f00159f-6ca5-4052-81f3-f224da5bcb55",
   "metadata": {},
   "outputs": [
    {
     "name": "stdout",
     "output_type": "stream",
     "text": [
      "+---------------------+--------------+------------+-------------------------+------------------+----------------+\n",
      "|bought_together_nulls|subtitle_nulls|author_nulls|bought_together_not_nulls|subtitle_not_nulls|author_not_nulls|\n",
      "+---------------------+--------------+------------+-------------------------+------------------+----------------+\n",
      "|              1502617|       1502617|     1502617|                        0|                 0|               0|\n",
      "+---------------------+--------------+------------+-------------------------+------------------+----------------+\n",
      "\n"
     ]
    }
   ],
   "source": [
    "# With SparkSQL\n",
    "# Use Common Table Expressions to store the Null and Not-Null queries, then join them\n",
    "spark.sql(\"\"\"\n",
    "WITH null_counts AS (\n",
    "  SELECT \n",
    "    SUM(CASE WHEN bought_together IS NULL THEN 1 ELSE 0 END) AS bought_together_nulls,\n",
    "    SUM(CASE WHEN subtitle IS NULL THEN 1 ELSE 0 END) AS subtitle_nulls,\n",
    "    SUM(CASE WHEN author IS NULL THEN 1 ELSE 0 END) AS author_nulls\n",
    "  FROM meta\n",
    "),\n",
    "not_null_counts AS (\n",
    "  SELECT \n",
    "    SUM(CASE WHEN bought_together IS NOT NULL THEN 1 ELSE 0 END) AS bought_together_not_nulls,\n",
    "    SUM(CASE WHEN subtitle IS NOT NULL THEN 1 ELSE 0 END) AS subtitle_not_nulls,\n",
    "    SUM(CASE WHEN author IS NOT NULL THEN 1 ELSE 0 END) AS author_not_nulls\n",
    "  FROM meta\n",
    ")\n",
    "\n",
    "SELECT *\n",
    "FROM null_counts\n",
    "JOIN not_null_counts\n",
    "\"\"\").show()"
   ]
  },
  {
   "cell_type": "markdown",
   "id": "70b57542-4186-4a1f-8cda-02ad9dd6d855",
   "metadata": {},
   "source": [
    "Now that the books were removed, the subtitle and author columns are entirely null."
   ]
  },
  {
   "cell_type": "markdown",
   "id": "ecb9cfaa-be28-4429-8f83-ed18dd23e767",
   "metadata": {},
   "source": [
    "### Remove columns"
   ]
  },
  {
   "cell_type": "markdown",
   "id": "f37d0568-0b1b-4b53-be3a-b3e6069bfec5",
   "metadata": {},
   "source": [
    "Let's remove the bought_together, subtitle, and author columns since they are completely null. Let's remove the images and videos columns too."
   ]
  },
  {
   "cell_type": "code",
   "execution_count": 68,
   "id": "10135bd5-a286-4870-86ed-d89255db3082",
   "metadata": {},
   "outputs": [],
   "source": [
    "# Remove the bought_together, subtitle, image, and videos columns\n",
    "df_meta = df_meta.drop('bought_together', 'subtitle', 'author', 'images', 'videos')\n",
    "df_meta.createOrReplaceTempView(\"meta\")"
   ]
  },
  {
   "cell_type": "markdown",
   "id": "d9929b78-faf4-40e6-a924-0016f68f7352",
   "metadata": {},
   "source": [
    "Now let's examine the resulting data table."
   ]
  },
  {
   "cell_type": "code",
   "execution_count": 69,
   "id": "ead15f66-c1a8-478f-b98a-877eb527eaa6",
   "metadata": {},
   "outputs": [
    {
     "name": "stdout",
     "output_type": "stream",
     "text": [
      "+-------------+----------+--------------+-------------+----------+-----------+-----+----------+----------+----------+-----------+\n",
      "|main_category|     title|average_rating|rating_number|  features|description|price|     store|categories|   details|parent_asin|\n",
      "+-------------+----------+--------------+-------------+----------+-----------+-----+----------+----------+----------+-----------+\n",
      "|   All Ele...|FS-1051...|           3.5|            6|        []| [Telepo...| NULL| Fat Shark|[Electr...|{\"Date ...| B00MCW7G9M|\n",
      "|   All Ele...|Ce-H22B...|           5.0|            1|[UPC: 6...| [HDMI I...| NULL|      SIIG|[Electr...|{\"Produ...| B00YT6XQSE|\n",
      "|    Computers|Digi-Ta...|           4.5|          246|[WARNIN...|         []|19.99|Digi-Tatoo|[Electr...|{\"Brand...| B07SM135LS|\n",
      "|   AMAZON ...|NotoCit...|           4.5|          233|[☛NotoC...|         []| 9.99|  NotoCity|[Electr...|{\"Date ...| B089CNGZCW|\n",
      "|   Cell Ph...|Motorol...|           3.8|           64|[New Dr...| [all Ge...|14.99|   Verizon|[Electr...|{\"Produ...| B004E2Z88O|\n",
      "|   Sports ...|Raymari...|           3.5|           25|[Black ...| [Transf...| NULL| Raymarine|[Electr...|{\"Item ...| B00TX536EK|\n",
      "|   Cell Ph...|QGHXO B...|           4.4|          707|[Person...| [Compat...|14.89|     QGHXO|[Electr...|{\"Packa...| B07BJ7ZZL7|\n",
      "|   Industr...|Protech...|           3.8|            6|[iPhone...| [This a...| NULL|   ProTech|[Electr...|{\"Light...| B005G99O2U|\n",
      "|    Computers|MOSISO ...|           5.0|            2|        []|         []| NULL|    MOSISO|[Electr...|{\"Brand...| B01MCZP7RF|\n",
      "|    Computers|Network...|           3.3|           14|[Connec...| [Produc...| NULL| Avanquest|[Electr...|{\"Brand...| B000LV7P8I|\n",
      "+-------------+----------+--------------+-------------+----------+-----------+-----+----------+----------+----------+-----------+\n",
      "\n"
     ]
    }
   ],
   "source": [
    "# Print first 10 rows with PySpark API\n",
    "df_meta.limit(10).show(truncate = 10)"
   ]
  },
  {
   "cell_type": "code",
   "execution_count": 70,
   "id": "893b19b0-88df-4466-9b9e-77e87ab597b6",
   "metadata": {},
   "outputs": [
    {
     "name": "stdout",
     "output_type": "stream",
     "text": [
      "+-------------+----------+--------------+-------------+----------+-----------+-----+----------+----------+----------+-----------+\n",
      "|main_category|     title|average_rating|rating_number|  features|description|price|     store|categories|   details|parent_asin|\n",
      "+-------------+----------+--------------+-------------+----------+-----------+-----+----------+----------+----------+-----------+\n",
      "|   All Ele...|FS-1051...|           3.5|            6|        []| [Telepo...| NULL| Fat Shark|[Electr...|{\"Date ...| B00MCW7G9M|\n",
      "|   All Ele...|Ce-H22B...|           5.0|            1|[UPC: 6...| [HDMI I...| NULL|      SIIG|[Electr...|{\"Produ...| B00YT6XQSE|\n",
      "|    Computers|Digi-Ta...|           4.5|          246|[WARNIN...|         []|19.99|Digi-Tatoo|[Electr...|{\"Brand...| B07SM135LS|\n",
      "|   AMAZON ...|NotoCit...|           4.5|          233|[☛NotoC...|         []| 9.99|  NotoCity|[Electr...|{\"Date ...| B089CNGZCW|\n",
      "|   Cell Ph...|Motorol...|           3.8|           64|[New Dr...| [all Ge...|14.99|   Verizon|[Electr...|{\"Produ...| B004E2Z88O|\n",
      "|   Sports ...|Raymari...|           3.5|           25|[Black ...| [Transf...| NULL| Raymarine|[Electr...|{\"Item ...| B00TX536EK|\n",
      "|   Cell Ph...|QGHXO B...|           4.4|          707|[Person...| [Compat...|14.89|     QGHXO|[Electr...|{\"Packa...| B07BJ7ZZL7|\n",
      "|   Industr...|Protech...|           3.8|            6|[iPhone...| [This a...| NULL|   ProTech|[Electr...|{\"Light...| B005G99O2U|\n",
      "|    Computers|MOSISO ...|           5.0|            2|        []|         []| NULL|    MOSISO|[Electr...|{\"Brand...| B01MCZP7RF|\n",
      "|    Computers|Network...|           3.3|           14|[Connec...| [Produc...| NULL| Avanquest|[Electr...|{\"Brand...| B000LV7P8I|\n",
      "+-------------+----------+--------------+-------------+----------+-----------+-----+----------+----------+----------+-----------+\n",
      "\n"
     ]
    }
   ],
   "source": [
    "# Print first 10 rows with Spark SQL\n",
    "spark.sql(\"\"\"\n",
    "SELECT *\n",
    "FROM meta\n",
    "LIMIT 10\n",
    "\"\"\").show(truncate = 10)"
   ]
  },
  {
   "cell_type": "markdown",
   "id": "2c10cd30-4c9b-414b-bf71-9de78646ccbc",
   "metadata": {},
   "source": [
    "The columns were removed as intended."
   ]
  },
  {
   "cell_type": "markdown",
   "id": "812719ec-19ef-4709-ae35-7cc9892b48fe",
   "metadata": {},
   "source": [
    "### Highest Rating Numbers"
   ]
  },
  {
   "cell_type": "code",
   "execution_count": 71,
   "id": "d9642108-da9a-4d18-a63f-801c212711f1",
   "metadata": {},
   "outputs": [
    {
     "name": "stdout",
     "output_type": "stream",
     "text": [
      "+-----------+----------------------------------------------------------------------------------------------------+-------------+--------------------+\n",
      "|parent_asin|                                                                                               title|rating_number|       main_category|\n",
      "+-----------+----------------------------------------------------------------------------------------------------+-------------+--------------------+\n",
      "| B07H65KP63|                              Echo Dot (3rd Gen, 2018 release) - Smart speaker with Alexa - Charcoal|      1034896|      Amazon Devices|\n",
      "| B07GZFM1ZM|     Fire TV Stick 4K streaming device with Alexa Voice Remote (includes TV controls) | Dolby Vision|       819630|      Amazon Devices|\n",
      "| B07PXGQC1Q|Apple AirPods (2nd Generation) Wireless Earbuds with Lightning Charging Case Included. Over 24 Ho...|       585624|      Apple Products|\n",
      "| B08F1P3BCC|                                       Echo Dot (4th Gen) | Smart speaker with Alexa | Twilight Blue|       584328|      Amazon Devices|\n",
      "| B07KTYJ769|            Amazon Smart Plug, for home automation, Works with Alexa - A Certified for Humans Device|       542825|      Amazon Devices|\n",
      "| B0BGNG1294|         Amazon Basics HDMI Cable, 18Gbps High-Speed, 4K@60Hz, 2160p, Ethernet Ready, 10 Foot, Black|       507202|Home Audio & Theater|\n",
      "| B0791TX5P5| Fire TV Stick streaming device with Alexa built in, includes Alexa Voice Remote, HD, latest release|       474536|      Amazon Devices|\n",
      "| B08CLNX58K|                 SanDisk 32GB 2-Pack Ultra MicroSDHC UHS-I Memory Card (2x32GB) - SDSQUAR-032G-GN6MT|       402800|           Computers|\n",
      "| B08WJSHSLC|Fire TV Stick (3rd Gen) with Alexa Voice Remote (includes TV controls) + Star Wars The Mandaloria...|       379565|      Amazon Devices|\n",
      "| B07HZLHPKP|Echo Show 5 (1st Gen, 2019 release) -- Smart display with Alexa – stay connected with video calli...|       356248|      Amazon Devices|\n",
      "+-----------+----------------------------------------------------------------------------------------------------+-------------+--------------------+\n",
      "\n"
     ]
    }
   ],
   "source": [
    "# With PySpark API\n",
    "df_meta\\\n",
    ".select(\n",
    "    F.col('parent_asin'),\n",
    "    F.col('title'),\n",
    "    F.col('rating_number'),\n",
    "    F.col('main_category'),    \n",
    ")\\\n",
    ".orderBy('rating_number', ascending=False)\\\n",
    ".limit(10)\\\n",
    ".show(truncate=100)"
   ]
  },
  {
   "cell_type": "code",
   "execution_count": 72,
   "id": "f3b73746-a393-4d4b-a4f4-5f8d2f3782b2",
   "metadata": {},
   "outputs": [
    {
     "name": "stdout",
     "output_type": "stream",
     "text": [
      "+-----------+----------------------------------------------------------------------------------------------------+-------------+--------------------+\n",
      "|parent_asin|                                                                                               title|rating_number|       main_category|\n",
      "+-----------+----------------------------------------------------------------------------------------------------+-------------+--------------------+\n",
      "| B07H65KP63|                              Echo Dot (3rd Gen, 2018 release) - Smart speaker with Alexa - Charcoal|      1034896|      Amazon Devices|\n",
      "| B07GZFM1ZM|     Fire TV Stick 4K streaming device with Alexa Voice Remote (includes TV controls) | Dolby Vision|       819630|      Amazon Devices|\n",
      "| B07PXGQC1Q|Apple AirPods (2nd Generation) Wireless Earbuds with Lightning Charging Case Included. Over 24 Ho...|       585624|      Apple Products|\n",
      "| B08F1P3BCC|                                       Echo Dot (4th Gen) | Smart speaker with Alexa | Twilight Blue|       584328|      Amazon Devices|\n",
      "| B07KTYJ769|            Amazon Smart Plug, for home automation, Works with Alexa - A Certified for Humans Device|       542825|      Amazon Devices|\n",
      "| B0BGNG1294|         Amazon Basics HDMI Cable, 18Gbps High-Speed, 4K@60Hz, 2160p, Ethernet Ready, 10 Foot, Black|       507202|Home Audio & Theater|\n",
      "| B0791TX5P5| Fire TV Stick streaming device with Alexa built in, includes Alexa Voice Remote, HD, latest release|       474536|      Amazon Devices|\n",
      "| B08CLNX58K|                 SanDisk 32GB 2-Pack Ultra MicroSDHC UHS-I Memory Card (2x32GB) - SDSQUAR-032G-GN6MT|       402800|           Computers|\n",
      "| B08WJSHSLC|Fire TV Stick (3rd Gen) with Alexa Voice Remote (includes TV controls) + Star Wars The Mandaloria...|       379565|      Amazon Devices|\n",
      "| B07HZLHPKP|Echo Show 5 (1st Gen, 2019 release) -- Smart display with Alexa – stay connected with video calli...|       356248|      Amazon Devices|\n",
      "+-----------+----------------------------------------------------------------------------------------------------+-------------+--------------------+\n",
      "\n"
     ]
    }
   ],
   "source": [
    "# With SparkSQL\n",
    "spark.sql(\"\"\"\n",
    "SELECT \n",
    "parent_asin, title, rating_number, main_category\n",
    "FROM meta\n",
    "ORDER BY rating_number DESC\n",
    "LIMIT 10\n",
    "\"\"\").show(truncate=100)"
   ]
  },
  {
   "cell_type": "markdown",
   "id": "568925bc-e494-4409-82ea-d481f3ca9813",
   "metadata": {},
   "source": [
    "These are the products with the largest Rating Numbers. It does make sense that these products have a lot of ratings. The Echo Dot 3rd Gen has been discontinued, but an old page for it (https://a.co/d/eRzCkEj) shows around a million ratings and the numbers look legitimate. "
   ]
  },
  {
   "cell_type": "markdown",
   "id": "27243eda-f2a1-4aa4-b47e-2cc48ac426b5",
   "metadata": {},
   "source": [
    "### Highest Prices"
   ]
  },
  {
   "cell_type": "code",
   "execution_count": 73,
   "id": "873e05c7-bfda-4a56-affa-38569f60c810",
   "metadata": {},
   "outputs": [
    {
     "name": "stdout",
     "output_type": "stream",
     "text": [
      "+-----------+----------------------------------------------------------------------------------------------------+--------+-----------------------+\n",
      "|parent_asin|                                                                                               title|   price|          main_category|\n",
      "+-----------+----------------------------------------------------------------------------------------------------+--------+-----------------------+\n",
      "| B01N1P1685|                                           Panasonic PT DS20K2U - SXGA+ DLP Projector - 20000 lumens| 30999.0|        All Electronics|\n",
      "| B08VWPYY6W|                       Intelligent Security Patrol Service Robot Autonomous Navigation Robot (Black)| 26888.0|Industrial & Scientific|\n",
      "| B0B3S78JFL|LG 97-Inch Class OLED evo Gallery Edition G2 Series Alexa Built-in 4K Smart TV, 120Hz Refresh Rat...|24996.99|        All Electronics|\n",
      "| B01NBNX2NP|                                    Sony VPLVZ1000ES Ultra-Short Throw 4K HDR Home Theatre Projector| 24995.0|        All Electronics|\n",
      "| B074Z53X99|                                           Sony VPLVW885ES 4K HDR Laser Home Theater Video Projector|23390.12|        All Electronics|\n",
      "| B07TS6J1DN|                                              Wacom Intuos Small Refurbished Graphics Drawing Tablet|21111.35|              Computers|\n",
      "| B01GGNKUS6|                 Panasonic 4K UHD 2160P LED-Backlit LCD Flat Panel Display 97.5\" Black (TH-98LQ70LU)| 19974.0|              Computers|\n",
      "| B07GM3J6SH|                                         Sony 4K HDR Laser Home Theater Video Projector (VPLVW995ES)|19458.93|        All Electronics|\n",
      "| B07HY8HTKR|                                               JVC DLA-NX9 4K Home Theater Projector with 8K/e-Shift|17999.99|        All Electronics|\n",
      "| B00WF9GZV2|                                            HP 5412R 92GT PoE+/4SFP+ (No PSU) v3 zl2 Switch (JL001A)|17937.16|              Computers|\n",
      "+-----------+----------------------------------------------------------------------------------------------------+--------+-----------------------+\n",
      "\n"
     ]
    }
   ],
   "source": [
    "# With PySpark API\n",
    "df_meta\\\n",
    ".select(\n",
    "    F.col('parent_asin'),\n",
    "    F.col('title'),\n",
    "    F.col('price'),\n",
    "    F.col('main_category'),    \n",
    ")\\\n",
    ".orderBy('price', ascending=False)\\\n",
    ".limit(10)\\\n",
    ".show(truncate=100)"
   ]
  },
  {
   "cell_type": "code",
   "execution_count": 74,
   "id": "bcbb1019-ef22-46c6-824e-b7048a833645",
   "metadata": {},
   "outputs": [
    {
     "name": "stdout",
     "output_type": "stream",
     "text": [
      "+-----------+----------------------------------------------------------------------------------------------------+--------+-----------------------+\n",
      "|parent_asin|                                                                                               title|   price|          main_category|\n",
      "+-----------+----------------------------------------------------------------------------------------------------+--------+-----------------------+\n",
      "| B01N1P1685|                                           Panasonic PT DS20K2U - SXGA+ DLP Projector - 20000 lumens| 30999.0|        All Electronics|\n",
      "| B08VWPYY6W|                       Intelligent Security Patrol Service Robot Autonomous Navigation Robot (Black)| 26888.0|Industrial & Scientific|\n",
      "| B0B3S78JFL|LG 97-Inch Class OLED evo Gallery Edition G2 Series Alexa Built-in 4K Smart TV, 120Hz Refresh Rat...|24996.99|        All Electronics|\n",
      "| B01NBNX2NP|                                    Sony VPLVZ1000ES Ultra-Short Throw 4K HDR Home Theatre Projector| 24995.0|        All Electronics|\n",
      "| B074Z53X99|                                           Sony VPLVW885ES 4K HDR Laser Home Theater Video Projector|23390.12|        All Electronics|\n",
      "| B07TS6J1DN|                                              Wacom Intuos Small Refurbished Graphics Drawing Tablet|21111.35|              Computers|\n",
      "| B01GGNKUS6|                 Panasonic 4K UHD 2160P LED-Backlit LCD Flat Panel Display 97.5\" Black (TH-98LQ70LU)| 19974.0|              Computers|\n",
      "| B07GM3J6SH|                                         Sony 4K HDR Laser Home Theater Video Projector (VPLVW995ES)|19458.93|        All Electronics|\n",
      "| B07HY8HTKR|                                               JVC DLA-NX9 4K Home Theater Projector with 8K/e-Shift|17999.99|        All Electronics|\n",
      "| B00WF9GZV2|                                            HP 5412R 92GT PoE+/4SFP+ (No PSU) v3 zl2 Switch (JL001A)|17937.16|              Computers|\n",
      "+-----------+----------------------------------------------------------------------------------------------------+--------+-----------------------+\n",
      "\n"
     ]
    }
   ],
   "source": [
    "# With SparkSQL\n",
    "spark.sql(\"\"\"\n",
    "SELECT \n",
    "parent_asin, title, price, main_category\n",
    "FROM meta\n",
    "ORDER BY price DESC\n",
    "LIMIT 10\n",
    "\"\"\").show(truncate=100)"
   ]
  },
  {
   "cell_type": "markdown",
   "id": "9513a538-1355-48c3-840e-609561406aeb",
   "metadata": {},
   "source": [
    "The priciest electronics products are mainly projectors. Other items include massive tvs, a high-end tablet for artists, and a network switch from HP."
   ]
  },
  {
   "cell_type": "markdown",
   "id": "80575a29-af49-466a-9376-7b4db6ce47bd",
   "metadata": {},
   "source": [
    "### Lowest Product Prices"
   ]
  },
  {
   "cell_type": "code",
   "execution_count": 75,
   "id": "78ed4e8d-6114-46e7-a343-576904445919",
   "metadata": {
    "scrolled": true
   },
   "outputs": [
    {
     "name": "stdout",
     "output_type": "stream",
     "text": [
      "+-----------+----------------------------------------------------------------------------------------------------+-----+-------------------------+\n",
      "|parent_asin|                                                                                               title|price|            main_category|\n",
      "+-----------+----------------------------------------------------------------------------------------------------+-----+-------------------------+\n",
      "| B081XZLDZT|Cute VSCO Stickers for Water Bottles 50 Pcs Vinyl Waterproof Cool Stickers for Laptop, Luggage, P...| NULL|                Computers|\n",
      "| B07H5DCZM2|   Monster Truck Backdrop Car Racing Background Grave Digger 7x5ft Photo Booth Studio Props ZYVV0677| NULL|           Camera & Photo|\n",
      "| B08DWT6XM5|Elejolie Vertical Holder for Laptop,Surface Vertical Laptop Stand 3 Slot with Adjustable Size,Alu...| NULL|          Office Products|\n",
      "| B07C1B94TT|                                                             HDMI Female to DV-D Male Rotating ADPTR| NULL|          All Electronics|\n",
      "| B08B57V994|jvomk MacBook Pro 16 inch Case 2019 Release A2141 with Touch Bar & Touch ID, Plastic Hard Shell C...| NULL|Cell Phones & Accessories|\n",
      "| B0034VA88Q|Brand 250GB Hard Disk Drive/HDD for HP Pavilion DV4-1220 DV4-1222 dv4-1020 dv4-1028 dv4-1117 dv4-...| NULL|                Computers|\n",
      "| B00TK0UL6Y|                           TOOGOO(R) 10 Pcs Black 3 Pin 3.5mm x 1.3mm DC Power Jack Socket PCB Mount| NULL|                Computers|\n",
      "| B00AYB9PUQ|                            Samsung Galaxy Tab 2 Garnet Red Edition Bundle with Case (7-Inch, Wi-Fi)| NULL|                Computers|\n",
      "| B00BFNHRKM|                                 Lexar JumpDrive S70 8GB USB Flash Drive LJDS70-8GBASBNA003 - 3 Pack| NULL|                Computers|\n",
      "| B01FML1QYA|      Set of 8 Heavy-Duty Cord Carry Strap Handle & Hanger - Organize Cords, Hoses, Ropes (Set of 8)| NULL| Tools & Home Improvement|\n",
      "+-----------+----------------------------------------------------------------------------------------------------+-----+-------------------------+\n",
      "\n"
     ]
    }
   ],
   "source": [
    "# With PySpark API\n",
    "df_meta\\\n",
    ".select(\n",
    "    F.col('parent_asin'),\n",
    "    F.col('title'),\n",
    "    F.col('price'),\n",
    "    F.col('main_category'),    \n",
    ")\\\n",
    ".orderBy('price', ascending=True)\\\n",
    ".limit(10)\\\n",
    ".show(truncate=100)"
   ]
  },
  {
   "cell_type": "code",
   "execution_count": 76,
   "id": "7dbae5e9-34ba-4691-a254-1d526d9057a1",
   "metadata": {},
   "outputs": [
    {
     "name": "stdout",
     "output_type": "stream",
     "text": [
      "+-----------+----------------------------------------------------------------------------------------------------+-----+-----------------------+\n",
      "|parent_asin|                                                                                               title|price|          main_category|\n",
      "+-----------+----------------------------------------------------------------------------------------------------+-----+-----------------------+\n",
      "| B081XZLDZT|Cute VSCO Stickers for Water Bottles 50 Pcs Vinyl Waterproof Cool Stickers for Laptop, Luggage, P...| NULL|              Computers|\n",
      "| B08DWT6XM5|Elejolie Vertical Holder for Laptop,Surface Vertical Laptop Stand 3 Slot with Adjustable Size,Alu...| NULL|        Office Products|\n",
      "| B015TJKV0K|                   SUNWAYFOTO T2C40C 4 Sections Carbon Fiber Tripod, 12kg Capacity, 159cm Max Height| NULL|         Camera & Photo|\n",
      "| B00TK0UL6Y|                           TOOGOO(R) 10 Pcs Black 3 Pin 3.5mm x 1.3mm DC Power Jack Socket PCB Mount| NULL|              Computers|\n",
      "| B00BFNHRKM|                                 Lexar JumpDrive S70 8GB USB Flash Drive LJDS70-8GBASBNA003 - 3 Pack| NULL|              Computers|\n",
      "| B010PAUNTM|Eathtek Replacement CPU Cooling Cooler Fan for Toshiba Satellite U900 U940 U945 Series, Compatibl...| NULL|Industrial & Scientific|\n",
      "| B08934YW5L|PZOZ Case Compatible with Apple Pencil 1st Generation, Anti-Fall Silicone Protector Sleeve iPenci...| NULL|              Computers|\n",
      "| B072XGTDL9|SharkFZ Electronics Organizer for Iphone Ipad Accessories,Hard Personal Travel Electronics Organi...| NULL|              Computers|\n",
      "| B09PYZQC2T|Lenovo IdeaPad 1 14IGL05 81VU00D3US 14\" Notebook - Full HD - 1920 x 1080 - Intel Celeron N4020 Du...| NULL|              Computers|\n",
      "| B0983H2ZHJ|picK-me Cell Phone Stand, 5 PCS Universal Pocket-Sized Colorful Portable Foldable V Model Mobile ...| NULL|        All Electronics|\n",
      "+-----------+----------------------------------------------------------------------------------------------------+-----+-----------------------+\n",
      "\n"
     ]
    }
   ],
   "source": [
    "# With SparkSQL\n",
    "spark.sql(\"\"\"\n",
    "SELECT \n",
    "parent_asin, title, price, main_category\n",
    "FROM meta\n",
    "ORDER BY price\n",
    "LIMIT 10\n",
    "\"\"\").show(truncate=100)"
   ]
  },
  {
   "cell_type": "markdown",
   "id": "3b2c0d52-3152-4ed3-9771-f8c96161d098",
   "metadata": {},
   "source": [
    "We've got a lot of null prices. There doesn't seem to be a good way to handle them other than to ignore their prices or remove them entirely. Imputing prices would have to be done for each product individually, which someone with a data entry role could be assigned to do. Let's query again, but this time remove the nulls from consideration."
   ]
  },
  {
   "cell_type": "code",
   "execution_count": 77,
   "id": "4686141d-508c-4978-912f-a158a8849e6c",
   "metadata": {},
   "outputs": [
    {
     "name": "stdout",
     "output_type": "stream",
     "text": [
      "+-----------+----------------------------------------------------------------------------------------------------+-----+-------------------------+\n",
      "|parent_asin|                                                                                               title|price|            main_category|\n",
      "+-----------+----------------------------------------------------------------------------------------------------+-----+-------------------------+\n",
      "| B08CBZG2PW|[3-Pack] Webcam Cover 0.7MM Thin - Web Camera Cover fits Laptop, Desktop, PC, MacBook Pro, iMac, ...| 0.01|Cell Phones & Accessories|\n",
      "| B085X8MMNX|Transparent Case Compatible with Airpods Pro Case Premium Crystal Clear TPU Protective Cover,Visi...| 0.01|Cell Phones & Accessories|\n",
      "| B005EYF2WI|                                Rocketfish RF-PCC121 High Performance SVGA, 3.5mm Stereo Audio Cable| 0.01|     Home Audio & Theater|\n",
      "| B00I39LX7O|                                                         Item for Service Payment (USPS First Class)| 0.01|     Home Audio & Theater|\n",
      "| B07BH3N7KD|iBarbe Micro USB Cable, 6FT Charge Cable,Android USB Charging Charger and Syncing Cord for Samsun...| 0.01|  Industrial & Scientific|\n",
      "| B09DG3N6HQ|HOVTOIL Magnetic Charging Cable Magnetic Adsorption 5A Fast Charging Cable Wire Micro USB Type-C ...| 0.01|        Sports & Outdoors|\n",
      "| B006K4FZIW|                                                                                       Elan Passport| 0.01|     Home Audio & Theater|\n",
      "| B000HHFRY0|                                            Cd/10: Ace Nail-In Rg59 Coax Cable Clips (36317) [Misc.]| 0.01| Tools & Home Improvement|\n",
      "| B099S1X6SB|Universal in-Ear Gaming Earbuds Wired Earphone A4 Wire Control Double Moving Coil Subwoofer Earph...| 0.01|          All Electronics|\n",
      "| B000IFYJ22|                            Fellowes WriteRight Handheld Overlays for Palm M100/M105 12/Pack (98049)| 0.01|          Office Products|\n",
      "+-----------+----------------------------------------------------------------------------------------------------+-----+-------------------------+\n",
      "\n"
     ]
    }
   ],
   "source": [
    "# With PySpark API\n",
    "df_meta\\\n",
    ".filter(\n",
    "    F.col('price').isNotNull()\n",
    ")\\\n",
    ".select(\n",
    "    F.col('parent_asin'),\n",
    "    F.col('title'),\n",
    "    F.col('price'),\n",
    "    F.col('main_category'),    \n",
    ")\\\n",
    ".orderBy('price', ascending=True)\\\n",
    ".limit(10)\\\n",
    ".show(truncate=100)"
   ]
  },
  {
   "cell_type": "code",
   "execution_count": 78,
   "id": "8016d793-b84a-48a3-958e-46141cf03dd2",
   "metadata": {
    "scrolled": true
   },
   "outputs": [
    {
     "name": "stdout",
     "output_type": "stream",
     "text": [
      "+-----------+----------------------------------------------------------------------------------------------------+-----+-------------------------+\n",
      "|parent_asin|                                                                                               title|price|            main_category|\n",
      "+-----------+----------------------------------------------------------------------------------------------------+-----+-------------------------+\n",
      "| B08CBZG2PW|[3-Pack] Webcam Cover 0.7MM Thin - Web Camera Cover fits Laptop, Desktop, PC, MacBook Pro, iMac, ...| 0.01|Cell Phones & Accessories|\n",
      "| B085X8MMNX|Transparent Case Compatible with Airpods Pro Case Premium Crystal Clear TPU Protective Cover,Visi...| 0.01|Cell Phones & Accessories|\n",
      "| B07BH3N7KD|iBarbe Micro USB Cable, 6FT Charge Cable,Android USB Charging Charger and Syncing Cord for Samsun...| 0.01|  Industrial & Scientific|\n",
      "| B00I39LX7O|                                                         Item for Service Payment (USPS First Class)| 0.01|     Home Audio & Theater|\n",
      "| B006K4FZIW|                                                                                       Elan Passport| 0.01|     Home Audio & Theater|\n",
      "| B099S1X6SB|Universal in-Ear Gaming Earbuds Wired Earphone A4 Wire Control Double Moving Coil Subwoofer Earph...| 0.01|          All Electronics|\n",
      "| B099RTJVKH|in-Ear Gaming Earbuds Wired Earphone in-Ear Universal 3.5mm Stereo Sport Headset with Mic for Sma...| 0.01|          All Electronics|\n",
      "| B001CVJ4NA|            Griffin Technology 3022-AUXCBLC 3.5 MM Stereo Audio Cable (Discontinued by Manufacturer)| 0.01|     Home Audio & Theater|\n",
      "| B0161YQEAI|                                   Amiibo Card Animal Crossing Happy Home Design Card WILLOW 097/100| 0.01|                Computers|\n",
      "| B000OQB76G|                                                Griffin iTrip Pocket FM Transmitter for iPod nano 2G| 0.01|          Car Electronics|\n",
      "+-----------+----------------------------------------------------------------------------------------------------+-----+-------------------------+\n",
      "\n"
     ]
    }
   ],
   "source": [
    "# With SparkSQL\n",
    "spark.sql(\"\"\"\n",
    "SELECT \n",
    "parent_asin, title, price, main_category\n",
    "FROM meta\n",
    "WHERE price IS NOT NULL\n",
    "ORDER BY price\n",
    "LIMIT 10\n",
    "\"\"\").show(truncate=100)"
   ]
  },
  {
   "cell_type": "markdown",
   "id": "f50ee88d-2d30-4b2a-a85d-059ba8d9a764",
   "metadata": {},
   "source": [
    "The prices for these products look incorrect. Of course, it is possible that these prices are genuine, but they likely don't take into account something like shipping costs. I've seen something like this when I was viewing on Amazon before. The seller deliberately put low prices, but charged 10s or 100s of dollars for the shipping."
   ]
  },
  {
   "cell_type": "markdown",
   "id": "cca63ee9-eafc-456f-b260-70a3719719cc",
   "metadata": {},
   "source": [
    "### List Main Categories by Count and Show the Top 20"
   ]
  },
  {
   "cell_type": "code",
   "execution_count": 79,
   "id": "cfa92478-738a-4f4a-8536-768d81c423cb",
   "metadata": {},
   "outputs": [
    {
     "name": "stdout",
     "output_type": "stream",
     "text": [
      "+----------------------------+---------+\n",
      "|main_category               |cat_count|\n",
      "+----------------------------+---------+\n",
      "|Computers                   |418868   |\n",
      "|All Electronics             |376435   |\n",
      "|Camera & Photo              |223690   |\n",
      "|Cell Phones & Accessories   |138237   |\n",
      "|Home Audio & Theater        |106516   |\n",
      "|Industrial & Scientific     |50555    |\n",
      "|Car Electronics             |27332    |\n",
      "|Tools & Home Improvement    |24042    |\n",
      "|Amazon Home                 |21299    |\n",
      "|Office Products             |21250    |\n",
      "|AMAZON FASHION              |18391    |\n",
      "|Sports & Outdoors           |14581    |\n",
      "|Automotive                  |13956    |\n",
      "|GPS & Navigation            |9339     |\n",
      "|Amazon Devices              |8484     |\n",
      "|Portable Audio & Accessories|8050     |\n",
      "|Musical Instruments         |6668     |\n",
      "|Toys & Games                |3944     |\n",
      "|Health & Personal Care      |3073     |\n",
      "|All Beauty                  |1848     |\n",
      "+----------------------------+---------+\n",
      "\n"
     ]
    }
   ],
   "source": [
    "# With PySpark\n",
    "df_meta.groupBy(\"main_category\")\\\n",
    ".agg(F.count(\"parent_asin\").alias(\"cat_count\"))\\\n",
    ".dropDuplicates([\"main_category\", \"cat_count\"])\\\n",
    ".orderBy(F.col(\"cat_count\").desc())\\\n",
    ".limit(20)\\\n",
    ".show(truncate=False)"
   ]
  },
  {
   "cell_type": "code",
   "execution_count": 80,
   "id": "6ea518e5-d3d3-48d4-8cff-ab63f4d09ecc",
   "metadata": {},
   "outputs": [
    {
     "name": "stdout",
     "output_type": "stream",
     "text": [
      "+----------------------------+---------+\n",
      "|main_category               |cat_count|\n",
      "+----------------------------+---------+\n",
      "|Computers                   |418868   |\n",
      "|All Electronics             |376435   |\n",
      "|Camera & Photo              |223690   |\n",
      "|Cell Phones & Accessories   |138237   |\n",
      "|Home Audio & Theater        |106516   |\n",
      "|Industrial & Scientific     |50555    |\n",
      "|Car Electronics             |27332    |\n",
      "|Tools & Home Improvement    |24042    |\n",
      "|Amazon Home                 |21299    |\n",
      "|Office Products             |21250    |\n",
      "|AMAZON FASHION              |18391    |\n",
      "|Sports & Outdoors           |14581    |\n",
      "|Automotive                  |13956    |\n",
      "|GPS & Navigation            |9339     |\n",
      "|Amazon Devices              |8484     |\n",
      "|Portable Audio & Accessories|8050     |\n",
      "|Musical Instruments         |6668     |\n",
      "|Toys & Games                |3944     |\n",
      "|Health & Personal Care      |3073     |\n",
      "|All Beauty                  |1848     |\n",
      "+----------------------------+---------+\n",
      "\n"
     ]
    }
   ],
   "source": [
    "# With Spark SQL\n",
    "spark.sql(\"\"\"\n",
    "SELECT DISTINCT \n",
    "    main_category, \n",
    "    COUNT(parent_asin) AS cat_count\n",
    "FROM meta\n",
    "GROUP BY main_category\n",
    "ORDER BY cat_count DESC\n",
    "LIMIT 20\n",
    "\"\"\").show(truncate = False)"
   ]
  },
  {
   "cell_type": "markdown",
   "id": "5b7c2aa6-bc39-4c8c-a92a-60f23f74e627",
   "metadata": {},
   "source": [
    "The categories look mostly reasonable. It's hard to imagine what electronics products there are for Amazon Fashion though. Computers, cameras, cell phones, and home audio & theatre are the most common products listed on Amazon."
   ]
  },
  {
   "cell_type": "markdown",
   "id": "85a58c10-8309-4f0d-a034-b36c5e1f9e9a",
   "metadata": {},
   "source": [
    "### Which products had the highest average rating and how many ratings did they have?"
   ]
  },
  {
   "cell_type": "code",
   "execution_count": 81,
   "id": "005b867e-67d7-4a05-bb7c-aa7e9548cf88",
   "metadata": {},
   "outputs": [
    {
     "name": "stdout",
     "output_type": "stream",
     "text": [
      "+---------------------------------------------------------------------------+-----------+--------------+-------------+-------------------------+\n",
      "|                                                                      title|parent_asin|average_rating|rating_number|            main_category|\n",
      "+---------------------------------------------------------------------------+-----------+--------------+-------------+-------------------------+\n",
      "|           Hosa Cable SKT450 Speakon to Banana Plug Speaker Cable - 50 Foot| B000VXJFMU|           5.0|            1|      Musical Instruments|\n",
      "|   for iPod Touch Gen 5 - Gym Hair Don't Care - Gymnastic - Funny - Hipster| B014W9EBG8|           5.0|            1|Cell Phones & Accessories|\n",
      "|HP 14 2020 Newest Business Laptop Computer I 14\" FHD IPS I 10th Gen Inte...| B08B41M4WS|           5.0|            1|                Computers|\n",
      "|                                            Speaker Grill - 10\", Flat Black| B00E1P4NDA|           5.0|            1|      Musical Instruments|\n",
      "|Diginex Bluetooth Earbuds Wireless Magnetic Headset Sport Earphones for ...| B00CXZIRC8|           5.0|            1|                Computers|\n",
      "|Hotsmtbang Replacement Remote Control for Samsung HT-TZ212M HT-TZ312 HT-...| B075YSLRFL|           5.0|            1|          All Electronics|\n",
      "|Arrowmax AHDH1000-M12 Over Head Headset Boom Mic for Motorola SL1K SL1M ...| B0763XK2F5|           5.0|            4|          All Electronics|\n",
      "|Skinit Decal Gaming Skin Compatible with Xbox One X Bundle - Officially ...| B0BZ6Y9WZQ|           5.0|            1|          All Electronics|\n",
      "|GLS Audio 6ft Patch Cable Cords - RCA to 1/4\" TS Color Cables - 6' Home ...| B0010Z383K|           5.0|            7|          All Electronics|\n",
      "|Gator Cases GR-WH4B1221TD-12U 21-Inch Deep Sectional Wall Mounted Rack w...| B001V5JAU4|           5.0|            3|     Home Audio & Theater|\n",
      "+---------------------------------------------------------------------------+-----------+--------------+-------------+-------------------------+\n",
      "\n"
     ]
    }
   ],
   "source": [
    "df_meta\\\n",
    ".select(\n",
    "    'title',\n",
    "    'parent_asin',\n",
    "    'average_rating',\n",
    "    'rating_number',\n",
    "    'main_category'\n",
    ")\\\n",
    ".orderBy('average_rating', ascending=False)\\\n",
    ".limit(10)\\\n",
    ".show(truncate = 75)"
   ]
  },
  {
   "cell_type": "code",
   "execution_count": 82,
   "id": "eb2f890f-b25c-418f-98b5-3ab89187435f",
   "metadata": {},
   "outputs": [
    {
     "name": "stdout",
     "output_type": "stream",
     "text": [
      "+---------------------------------------------------------------------------+-----------+--------------+-------------+----------------------------+\n",
      "|                                                                      title|parent_asin|average_rating|rating_number|               main_category|\n",
      "+---------------------------------------------------------------------------+-----------+--------------+-------------+----------------------------+\n",
      "|CWK Laptop Charger AC Adpater Power Supply Cord Plug for Gateway ID49C, ...| B00S9GEXT6|           5.0|            2|                   Computers|\n",
      "|   for iPod Touch Gen 5 - Gym Hair Don't Care - Gymnastic - Funny - Hipster| B014W9EBG8|           5.0|            1|   Cell Phones & Accessories|\n",
      "|YsinoBear Multifunctional 15.6 inch Laptop Messenger Case Protective Bag...| B079DLN48N|           5.0|            6|                   Computers|\n",
      "|                                            Speaker Grill - 10\", Flat Black| B00E1P4NDA|           5.0|            1|         Musical Instruments|\n",
      "|HP 14 2020 Newest Business Laptop Computer I 14\" FHD IPS I 10th Gen Inte...| B08B41M4WS|           5.0|            1|                   Computers|\n",
      "|Hotsmtbang Replacement Remote Control for Samsung HT-TZ212M HT-TZ312 HT-...| B075YSLRFL|           5.0|            1|             All Electronics|\n",
      "|Bitspower BP-DBRWP-C01 G1/4\" Thread 1/2\" ID Tube Fitting (Fitting), Deep...| B00ACAHP6K|           5.0|            2|     Industrial & Scientific|\n",
      "|Skinit Decal Gaming Skin Compatible with Xbox One X Bundle - Officially ...| B0BZ6Y9WZQ|           5.0|            1|             All Electronics|\n",
      "|iSee Case (TM) Cartoon Bumble Bee Silicone Full Cover Case for iPod Touc...| B00AL5UXYM|           5.0|            1|Portable Audio & Accessories|\n",
      "|Gator Cases GR-WH4B1221TD-12U 21-Inch Deep Sectional Wall Mounted Rack w...| B001V5JAU4|           5.0|            3|        Home Audio & Theater|\n",
      "+---------------------------------------------------------------------------+-----------+--------------+-------------+----------------------------+\n",
      "\n"
     ]
    }
   ],
   "source": [
    "# With Spark SQL\n",
    "spark.sql(\"\"\"\n",
    "SELECT \n",
    "    title,\n",
    "    parent_asin,\n",
    "    average_rating,\n",
    "    rating_number,\n",
    "    main_category\n",
    "FROM meta\n",
    "ORDER BY average_rating DESC\n",
    "LIMIT 10\n",
    "\"\"\").show(truncate = 75)"
   ]
  },
  {
   "cell_type": "markdown",
   "id": "762c3148-c248-47ad-9c01-3c9b6bf4e3b6",
   "metadata": {},
   "source": [
    "Unsurprisingly, the products with the highest average ratings (at the maximum value of 5) have very few ratings. Something similar will probably appear for those with the lowest ratings."
   ]
  },
  {
   "cell_type": "markdown",
   "id": "9016682d-03eb-4758-af3c-d64dcf94fa42",
   "metadata": {},
   "source": [
    "### What are the most popular products? (measured by number of reviews)"
   ]
  },
  {
   "cell_type": "code",
   "execution_count": 83,
   "id": "3b05b09f-6be9-4dcd-93c9-2b6d4f400e3a",
   "metadata": {
    "scrolled": true
   },
   "outputs": [
    {
     "name": "stdout",
     "output_type": "stream",
     "text": [
      "+---------------------------------------------------------------------------+-----------+--------------+-------------+--------------------+\n",
      "|                                                                      title|parent_asin|average_rating|rating_number|       main_category|\n",
      "+---------------------------------------------------------------------------+-----------+--------------+-------------+--------------------+\n",
      "|     Echo Dot (3rd Gen, 2018 release) - Smart speaker with Alexa - Charcoal| B07H65KP63|           4.7|      1034896|      Amazon Devices|\n",
      "|Fire TV Stick 4K streaming device with Alexa Voice Remote (includes TV c...| B07GZFM1ZM|           4.7|       819630|      Amazon Devices|\n",
      "|Apple AirPods (2nd Generation) Wireless Earbuds with Lightning Charging ...| B07PXGQC1Q|           4.7|       585624|      Apple Products|\n",
      "|              Echo Dot (4th Gen) | Smart speaker with Alexa | Twilight Blue| B08F1P3BCC|           4.7|       584328|      Amazon Devices|\n",
      "|Amazon Smart Plug, for home automation, Works with Alexa - A Certified f...| B07KTYJ769|           4.7|       542825|      Amazon Devices|\n",
      "|Amazon Basics HDMI Cable, 18Gbps High-Speed, 4K@60Hz, 2160p, Ethernet Re...| B0BGNG1294|           4.7|       507202|Home Audio & Theater|\n",
      "|Fire TV Stick streaming device with Alexa built in, includes Alexa Voice...| B0791TX5P5|           4.7|       474536|      Amazon Devices|\n",
      "|SanDisk 32GB 2-Pack Ultra MicroSDHC UHS-I Memory Card (2x32GB) - SDSQUAR...| B08CLNX58K|           4.7|       402800|           Computers|\n",
      "|Fire TV Stick (3rd Gen) with Alexa Voice Remote (includes TV controls) +...| B08WJSHSLC|           4.7|       379565|      Amazon Devices|\n",
      "|Echo Show 5 (1st Gen, 2019 release) -- Smart display with Alexa – stay c...| B07HZLHPKP|           4.6|       356248|      Amazon Devices|\n",
      "+---------------------------------------------------------------------------+-----------+--------------+-------------+--------------------+\n",
      "\n"
     ]
    }
   ],
   "source": [
    "df_meta\\\n",
    ".select(\n",
    "    'title',\n",
    "    'parent_asin',\n",
    "    'average_rating',\n",
    "    'rating_number',\n",
    "    'main_category'\n",
    ")\\\n",
    ".orderBy('rating_number', ascending=False)\\\n",
    ".limit(10)\\\n",
    ".show(truncate=75)"
   ]
  },
  {
   "cell_type": "code",
   "execution_count": 84,
   "id": "65dd778c-d6ae-4b44-9fa9-2c1654556eeb",
   "metadata": {
    "scrolled": true
   },
   "outputs": [
    {
     "name": "stdout",
     "output_type": "stream",
     "text": [
      "+---------------------------------------------------------------------------+-----------+--------------+-------------+--------------------+\n",
      "|                                                                      title|parent_asin|average_rating|rating_number|       main_category|\n",
      "+---------------------------------------------------------------------------+-----------+--------------+-------------+--------------------+\n",
      "|     Echo Dot (3rd Gen, 2018 release) - Smart speaker with Alexa - Charcoal| B07H65KP63|           4.7|      1034896|      Amazon Devices|\n",
      "|Fire TV Stick 4K streaming device with Alexa Voice Remote (includes TV c...| B07GZFM1ZM|           4.7|       819630|      Amazon Devices|\n",
      "|Apple AirPods (2nd Generation) Wireless Earbuds with Lightning Charging ...| B07PXGQC1Q|           4.7|       585624|      Apple Products|\n",
      "|              Echo Dot (4th Gen) | Smart speaker with Alexa | Twilight Blue| B08F1P3BCC|           4.7|       584328|      Amazon Devices|\n",
      "|Amazon Smart Plug, for home automation, Works with Alexa - A Certified f...| B07KTYJ769|           4.7|       542825|      Amazon Devices|\n",
      "|Amazon Basics HDMI Cable, 18Gbps High-Speed, 4K@60Hz, 2160p, Ethernet Re...| B0BGNG1294|           4.7|       507202|Home Audio & Theater|\n",
      "|Fire TV Stick streaming device with Alexa built in, includes Alexa Voice...| B0791TX5P5|           4.7|       474536|      Amazon Devices|\n",
      "|SanDisk 32GB 2-Pack Ultra MicroSDHC UHS-I Memory Card (2x32GB) - SDSQUAR...| B08CLNX58K|           4.7|       402800|           Computers|\n",
      "|Fire TV Stick (3rd Gen) with Alexa Voice Remote (includes TV controls) +...| B08WJSHSLC|           4.7|       379565|      Amazon Devices|\n",
      "|Echo Show 5 (1st Gen, 2019 release) -- Smart display with Alexa – stay c...| B07HZLHPKP|           4.6|       356248|      Amazon Devices|\n",
      "+---------------------------------------------------------------------------+-----------+--------------+-------------+--------------------+\n",
      "\n"
     ]
    }
   ],
   "source": [
    "# With Spark SQL\n",
    "spark.sql(\"\"\"\n",
    "SELECT \n",
    "    title,\n",
    "    parent_asin,\n",
    "    average_rating,\n",
    "    rating_number,\n",
    "    main_category\n",
    "FROM meta\n",
    "ORDER BY rating_number DESC\n",
    "LIMIT 10\n",
    "\"\"\").show(truncate = 75)"
   ]
  },
  {
   "cell_type": "markdown",
   "id": "d515edf7-0ada-4d1e-b185-9e44c53081d4",
   "metadata": {},
   "source": [
    "This time, the products are ordered by the rating_number. \n",
    "\n",
    "The products with the most ratings also tend to have very high average ratings. \n",
    "\n",
    "Amazon devices, such as Echo Dots and Fire Sticks, are extremely popular."
   ]
  },
  {
   "cell_type": "markdown",
   "id": "fa1a2101-afe7-49ae-a0ca-ac2f0f977070",
   "metadata": {},
   "source": [
    "### Most Popular Products Excluding Amazon Devices"
   ]
  },
  {
   "cell_type": "code",
   "execution_count": 85,
   "id": "eae6c9a8-ab45-4021-846e-d525197180d8",
   "metadata": {},
   "outputs": [
    {
     "name": "stdout",
     "output_type": "stream",
     "text": [
      "+---------------------------------------------------------------------------+-----------+--------------+-------------+--------------------+\n",
      "|                                                                      title|parent_asin|average_rating|rating_number|       main_category|\n",
      "+---------------------------------------------------------------------------+-----------+--------------+-------------+--------------------+\n",
      "|Apple AirPods (2nd Generation) Wireless Earbuds with Lightning Charging ...| B07PXGQC1Q|           4.7|       585624|      Apple Products|\n",
      "|Amazon Basics HDMI Cable, 18Gbps High-Speed, 4K@60Hz, 2160p, Ethernet Re...| B0BGNG1294|           4.7|       507202|Home Audio & Theater|\n",
      "|SanDisk 32GB 2-Pack Ultra MicroSDHC UHS-I Memory Card (2x32GB) - SDSQUAR...| B08CLNX58K|           4.7|       402800|           Computers|\n",
      "|TOZO T10 Bluetooth 5.3 Wireless Earbuds with Wireless Charging Case IPX8...| B08XPWDSWW|           4.3|       349254|Home Audio & Theater|\n",
      "|SanDisk 256GB Extreme microSDXC UHS-I Memory Card with Adapter - Up to 1...| B09V1FT19S|           4.8|       337225|           Computers|\n",
      "|                                                          Apple AirPods Pro| B07ZPC9QD4|           4.8|       300544|      Apple Products|\n",
      "|                              SanDisk Cruzer Blade 16GB USB 2.0 Flash Drive| B0BSFT117F|           4.7|       260446|     All Electronics|\n",
      "|TOZO T6 True Wireless Earbuds Bluetooth 5.3 Headphones Touch Control wit...| B08XNCHTCY|           4.4|       249207|     All Electronics|\n",
      "|SanDisk 32GB Ultra MicroSDHC UHS-I Memory Card with Adapter - 98MB/s, C1...| B00EKPHOY6|           4.7|       234767|           Computers|\n",
      "|SanDisk 32GB Ultra MicroSDHC UHS-I Memory Card with Adapter - 98MB/s, C1...| B073JWXGNT|           4.7|       233718|           Computers|\n",
      "+---------------------------------------------------------------------------+-----------+--------------+-------------+--------------------+\n",
      "\n"
     ]
    }
   ],
   "source": [
    "df_meta\\\n",
    ".filter(\n",
    "    F.col('main_category') != 'Amazon Devices'\n",
    ")\\\n",
    ".select(\n",
    "    'title',\n",
    "    'parent_asin',\n",
    "    'average_rating',\n",
    "    'rating_number',\n",
    "    'main_category'\n",
    ")\\\n",
    ".orderBy('rating_number', ascending=False)\\\n",
    ".limit(10)\\\n",
    ".show(truncate = 75)"
   ]
  },
  {
   "cell_type": "code",
   "execution_count": 86,
   "id": "cddec351-89eb-43c9-8235-f652d0e50123",
   "metadata": {
    "scrolled": true
   },
   "outputs": [
    {
     "name": "stdout",
     "output_type": "stream",
     "text": [
      "+---------------------------------------------------------------------------+-----------+--------------+-------------+--------------------+\n",
      "|                                                                      title|parent_asin|average_rating|rating_number|       main_category|\n",
      "+---------------------------------------------------------------------------+-----------+--------------+-------------+--------------------+\n",
      "|Apple AirPods (2nd Generation) Wireless Earbuds with Lightning Charging ...| B07PXGQC1Q|           4.7|       585624|      Apple Products|\n",
      "|Amazon Basics HDMI Cable, 18Gbps High-Speed, 4K@60Hz, 2160p, Ethernet Re...| B0BGNG1294|           4.7|       507202|Home Audio & Theater|\n",
      "|SanDisk 32GB 2-Pack Ultra MicroSDHC UHS-I Memory Card (2x32GB) - SDSQUAR...| B08CLNX58K|           4.7|       402800|           Computers|\n",
      "|TOZO T10 Bluetooth 5.3 Wireless Earbuds with Wireless Charging Case IPX8...| B08XPWDSWW|           4.3|       349254|Home Audio & Theater|\n",
      "|SanDisk 256GB Extreme microSDXC UHS-I Memory Card with Adapter - Up to 1...| B09V1FT19S|           4.8|       337225|           Computers|\n",
      "|                                                          Apple AirPods Pro| B07ZPC9QD4|           4.8|       300544|      Apple Products|\n",
      "|                              SanDisk Cruzer Blade 16GB USB 2.0 Flash Drive| B0BSFT117F|           4.7|       260446|     All Electronics|\n",
      "|TOZO T6 True Wireless Earbuds Bluetooth 5.3 Headphones Touch Control wit...| B08XNCHTCY|           4.4|       249207|     All Electronics|\n",
      "|SanDisk 32GB Ultra MicroSDHC UHS-I Memory Card with Adapter - 98MB/s, C1...| B00EKPHOY6|           4.7|       234767|           Computers|\n",
      "|SanDisk 32GB Ultra MicroSDHC UHS-I Memory Card with Adapter - 98MB/s, C1...| B073JWXGNT|           4.7|       233718|           Computers|\n",
      "+---------------------------------------------------------------------------+-----------+--------------+-------------+--------------------+\n",
      "\n"
     ]
    }
   ],
   "source": [
    "# With Spark SQL\n",
    "spark.sql(\"\"\"\n",
    "SELECT \n",
    "    title,\n",
    "    parent_asin,\n",
    "    average_rating,\n",
    "    rating_number,\n",
    "    main_category\n",
    "FROM meta\n",
    "WHERE main_category != 'Amazon Devices'\n",
    "ORDER BY rating_number DESC\n",
    "LIMIT 10\n",
    "\"\"\").show(truncate = 75)"
   ]
  },
  {
   "cell_type": "markdown",
   "id": "82feedc5-ce98-4af5-a912-a48127c396ac",
   "metadata": {},
   "source": [
    "There is still an Amazon Product in this table, so let's exclude also the items with 'Amazon' in their titles. Also, there are some products with the same title, although they may have different parent_asin identifiers. Let's restrict to unique values as well. "
   ]
  },
  {
   "cell_type": "code",
   "execution_count": 87,
   "id": "5b163bd0-7a61-4bc4-ae70-0463c0e24ee9",
   "metadata": {},
   "outputs": [
    {
     "name": "stdout",
     "output_type": "stream",
     "text": [
      "+------------------------------------------------------------------------------------------+--------------------+-----------+--------------+-------------+\n",
      "|                                                                                     title|       main_category|parent_asin|average_rating|rating_number|\n",
      "+------------------------------------------------------------------------------------------+--------------------+-----------+--------------+-------------+\n",
      "|Apple AirPods (2nd Generation) Wireless Earbuds with Lightning Charging Case Included. ...|      Apple Products| B07PXGQC1Q|           4.7|       585624|\n",
      "|       SanDisk 32GB 2-Pack Ultra MicroSDHC UHS-I Memory Card (2x32GB) - SDSQUAR-032G-GN6MT|           Computers| B08CLNX58K|           4.7|       402800|\n",
      "|TOZO T10 Bluetooth 5.3 Wireless Earbuds with Wireless Charging Case IPX8 Waterproof Ste...|Home Audio & Theater| B08XPWDSWW|           4.3|       349254|\n",
      "|SanDisk 256GB Extreme microSDXC UHS-I Memory Card with Adapter - Up to 160MB/s, C10, U3...|           Computers| B09V1FT19S|           4.8|       337225|\n",
      "|                                                                         Apple AirPods Pro|      Apple Products| B07ZPC9QD4|           4.8|       300544|\n",
      "|                                             SanDisk Cruzer Blade 16GB USB 2.0 Flash Drive|     All Electronics| B0BSFT117F|           4.7|       260446|\n",
      "|TOZO T6 True Wireless Earbuds Bluetooth 5.3 Headphones Touch Control with Wireless Char...|     All Electronics| B08XNCHTCY|           4.4|       249207|\n",
      "|SanDisk 32GB Ultra MicroSDHC UHS-I Memory Card with Adapter - 98MB/s, C10, U1, Full HD,...|           Computers| B073JWXGNT|           4.7|       234767|\n",
      "|SanDisk 256GB Ultra microSDXC UHS-I Memory Card with Adapter - 120MB/s, C10, U1, Full H...|           Computers| B0BRZG5TK4|           4.7|       230266|\n",
      "|                                          Apple Lightning to 3.5 mm Headphone Jack Adapter|      Apple Products| B0787QLV3H|           4.7|       223181|\n",
      "|SanDisk 128GB Ultra MicroSDXC UHS-I Memory Card with Adapter - 100MB/s, C10, U1, Full H...|           Computers| B073JYC4XM|           4.7|       218045|\n",
      "|Apple EarPods Headphones with Lightning Connector. Microphone with Built-in Remote to C...|      Apple Products| B01M0GB8CC|           4.6|       201075|\n",
      "|WD 2TB Elements Portable HDD, External Hard Drive, USB 3.0 for PC & Mac, Plug and Play ...|           Computers| B09ZQ4GHM8|           4.7|       200186|\n",
      "|Kingston 1.92TB A400 SATA 3 2.5\" Internal SSD SA400S37/1920G - HDD Replacement for Incr...|           Computers| B08CKZ36N7|           4.8|       193561|\n",
      "|OontZ Angle 3 Bluetooth Speaker, Portable Wireless Bluetooth 5.0 Speaker, 10 Watts, Cry...|     All Electronics| B0BW4PFM58|           4.5|       190291|\n",
      "|SABRENT 10 Port 60W USB 3.0 Hub with Individual Power Switches and LEDs Includes 60W 12...|           Computers| B0BN74ZJDK|           4.6|       184507|\n",
      "|Apple 20W USB-C Power Adapter - iPhone Charger with Fast Charging Capability, Type C Wa...|      Apple Products| B08L5M9BTJ|           4.8|       183519|\n",
      "|Toshiba Canvio Basics 1TB Portable External Hard Drive 2.5 Inch USB 3.0 - Black - HDTB3...|           Computers| B07SPXSPZ7|           4.6|       179993|\n",
      "|Roku Express | HD Roku Streaming Device with Simple Remote (no TV controls), Free & Liv...|     All Electronics| B094PMZB6V|           4.7|       177618|\n",
      "|               Fujifilm INSTAX Mini Instant Film Twin Pack (White) - International Version|      Camera & Photo| B07KPLTMYB|           4.7|       168774|\n",
      "+------------------------------------------------------------------------------------------+--------------------+-----------+--------------+-------------+\n",
      "only showing top 20 rows\n",
      "\n"
     ]
    }
   ],
   "source": [
    "df_meta.filter(\n",
    "    (F.col(\"main_category\") != \"Amazon Devices\") &\n",
    "    (~F.col(\"title\").like(\"Amazon%\"))\n",
    ")\\\n",
    ".groupBy(\"title\", \"main_category\")\\\n",
    ".agg(\n",
    "    F.max(\"parent_asin\").alias(\"parent_asin\"),\n",
    "    F.max(\"average_rating\").alias(\"average_rating\"),\n",
    "    F.max(\"rating_number\").alias(\"rating_number\")\n",
    ")\\\n",
    ".dropDuplicates([\"title\", \"main_category\", \"parent_asin\", \"average_rating\", \"rating_number\"])\\\n",
    ".orderBy(F.col(\"rating_number\").desc())\\\n",
    ".show(truncate=90)"
   ]
  },
  {
   "cell_type": "code",
   "execution_count": 88,
   "id": "759ec081-4799-4209-b39d-39e4f9d58094",
   "metadata": {},
   "outputs": [
    {
     "name": "stdout",
     "output_type": "stream",
     "text": [
      "+------------------------------------------------------------------------------------------+-----------+--------------+-------------+--------------------+\n",
      "|                                                                                     title|parent_asin|average_rating|rating_number|       main_category|\n",
      "+------------------------------------------------------------------------------------------+-----------+--------------+-------------+--------------------+\n",
      "|Apple AirPods (2nd Generation) Wireless Earbuds with Lightning Charging Case Included. ...| B07PXGQC1Q|           4.7|       585624|      Apple Products|\n",
      "|       SanDisk 32GB 2-Pack Ultra MicroSDHC UHS-I Memory Card (2x32GB) - SDSQUAR-032G-GN6MT| B08CLNX58K|           4.7|       402800|           Computers|\n",
      "|TOZO T10 Bluetooth 5.3 Wireless Earbuds with Wireless Charging Case IPX8 Waterproof Ste...| B08XPWDSWW|           4.3|       349254|Home Audio & Theater|\n",
      "|SanDisk 256GB Extreme microSDXC UHS-I Memory Card with Adapter - Up to 160MB/s, C10, U3...| B09V1FT19S|           4.8|       337225|           Computers|\n",
      "|                                                                         Apple AirPods Pro| B07ZPC9QD4|           4.8|       300544|      Apple Products|\n",
      "|                                             SanDisk Cruzer Blade 16GB USB 2.0 Flash Drive| B0BSFT117F|           4.7|       260446|     All Electronics|\n",
      "|TOZO T6 True Wireless Earbuds Bluetooth 5.3 Headphones Touch Control with Wireless Char...| B08XNCHTCY|           4.4|       249207|     All Electronics|\n",
      "|SanDisk 32GB Ultra MicroSDHC UHS-I Memory Card with Adapter - 98MB/s, C10, U1, Full HD,...| B073JWXGNT|           4.7|       234767|           Computers|\n",
      "|SanDisk 256GB Ultra microSDXC UHS-I Memory Card with Adapter - 120MB/s, C10, U1, Full H...| B0BRZG5TK4|           4.7|       230266|           Computers|\n",
      "|                                          Apple Lightning to 3.5 mm Headphone Jack Adapter| B0787QLV3H|           4.7|       223181|      Apple Products|\n",
      "|SanDisk 128GB Ultra MicroSDXC UHS-I Memory Card with Adapter - 100MB/s, C10, U1, Full H...| B073JYC4XM|           4.7|       218045|           Computers|\n",
      "|Apple EarPods Headphones with Lightning Connector. Microphone with Built-in Remote to C...| B01M0GB8CC|           4.6|       201075|      Apple Products|\n",
      "|WD 2TB Elements Portable HDD, External Hard Drive, USB 3.0 for PC & Mac, Plug and Play ...| B09ZQ4GHM8|           4.7|       200186|           Computers|\n",
      "|Kingston 1.92TB A400 SATA 3 2.5\" Internal SSD SA400S37/1920G - HDD Replacement for Incr...| B08CKZ36N7|           4.8|       193561|           Computers|\n",
      "|OontZ Angle 3 Bluetooth Speaker, Portable Wireless Bluetooth 5.0 Speaker, 10 Watts, Cry...| B0BW4PFM58|           4.5|       190291|     All Electronics|\n",
      "|SABRENT 10 Port 60W USB 3.0 Hub with Individual Power Switches and LEDs Includes 60W 12...| B0BN74ZJDK|           4.6|       184507|           Computers|\n",
      "|Apple 20W USB-C Power Adapter - iPhone Charger with Fast Charging Capability, Type C Wa...| B08L5M9BTJ|           4.8|       183519|      Apple Products|\n",
      "|Toshiba Canvio Basics 1TB Portable External Hard Drive 2.5 Inch USB 3.0 - Black - HDTB3...| B07SPXSPZ7|           4.6|       179993|           Computers|\n",
      "|Roku Express | HD Roku Streaming Device with Simple Remote (no TV controls), Free & Liv...| B094PMZB6V|           4.7|       177618|     All Electronics|\n",
      "|               Fujifilm INSTAX Mini Instant Film Twin Pack (White) - International Version| B07KPLTMYB|           4.7|       168774|      Camera & Photo|\n",
      "+------------------------------------------------------------------------------------------+-----------+--------------+-------------+--------------------+\n",
      "only showing top 20 rows\n",
      "\n"
     ]
    }
   ],
   "source": [
    "# With Spark SQL\n",
    "spark.sql(\"\"\"\n",
    "SELECT DISTINCT\n",
    "    title,\n",
    "    max(parent_asin) AS parent_asin,\n",
    "    max(average_rating) AS average_rating,\n",
    "    max(rating_number) AS rating_number,\n",
    "    main_category\n",
    "FROM meta\n",
    "WHERE main_category != 'Amazon Devices' AND title NOT LIKE 'Amazon%'\n",
    "GROUP BY title, main_category\n",
    "ORDER BY rating_number DESC\n",
    "\"\"\").show(truncate = 90)"
   ]
  },
  {
   "cell_type": "markdown",
   "id": "27c69118-1e14-48b6-ad62-0adace88ff11",
   "metadata": {},
   "source": [
    "The most popular products seem to be Computer products and Apple products. \n",
    "\n",
    "The most popular Apple products are acessories, and among the Apple products, audio devices like the AirPods are the most popular.\n",
    "\n",
    "Of the Computer Products, memory cards and hard drives are the most popular."
   ]
  },
  {
   "cell_type": "markdown",
   "id": "c0b35048-a53a-4964-90fc-70905c10b10c",
   "metadata": {},
   "source": [
    "## Join Tables"
   ]
  },
  {
   "cell_type": "code",
   "execution_count": 94,
   "id": "8240a448-edd2-4f5c-a0b9-0785223c7ba8",
   "metadata": {},
   "outputs": [
    {
     "name": "stdout",
     "output_type": "stream",
     "text": [
      "+------+-----+-----+------+-----+-----------+-------+---------+------------+-----------------+--------+-------------+------------+-----+------------------+----------+-----------+-------+\n",
      "|rating|title| text|images| asin|parent_asin|user_id|timestamp|helpful_vote|verified_purchase|datetime|main_category|product_name|price|avg_product_rating|categories|description|details|\n",
      "+------+-----+-----+------+-----+-----------+-------+---------+------------+-----------------+--------+-------------+------------+-----+------------------+----------+-----------+-------+\n",
      "|   5.0|Nice!|I ...|    []|B0...|      B0...|  AH...|    12...|           8|             true|   20...|        Ca...|       Co...|41.44|               4.3|     [E...|      [C...|  {\"...|\n",
      "|   4.0|Ha...|I ...|    []|B0...|      B0...|  AE...|    14...|           0|            false|   20...|        Co...|       So...| NULL|               3.7|     [E...|      [P...|  {\"...|\n",
      "|   5.0|Fa...|Fi...|    []|B0...|      B0...|  AF...|    16...|           0|             true|   20...|        Ca...|       Sc...|13.99|               4.5|     [C...|      [T...|  {\"...|\n",
      "|   5.0|Ra...|Th...|    []|B0...|      B0...|  AE...|    13...|           0|             true|   20...|        Ce...|       Sk...| NULL|               5.0|     [E...|      [S...|  {\"...|\n",
      "|   5.0|Th...|Th...|    []|B0...|      B0...|  AG...|    13...|           3|             true|   20...|        Co...|       G....| NULL|               4.0|     [E...|      [M...|  {\"...|\n",
      "|   2.0|NO...|I ...|    []|B0...|      B0...|  AG...|    15...|           0|             true|   20...|        Co...|       In...| 9.99|               2.8|     [E...|         []|  {\"...|\n",
      "|   2.0|Do...|Ne...|    []|B0...|      B0...|  AF...|    16...|           0|             true|   20...|        Co...|       SA...| 8.99|               4.6|     [E...|         []|  {\"...|\n",
      "|   5.0|Fa...|Ru...|    []|B0...|      B0...|  AF...|    13...|           6|             true|   20...|        Co...|       SA...| 8.99|               4.6|     [E...|         []|  {\"...|\n",
      "|   4.0|Fo...|Wa...|    []|B0...|      B0...|  AF...|    14...|           0|             true|   20...|        Co...|       Ca...| NULL|               4.2|     [E...|      [C...|  {\"...|\n",
      "|   4.0|Tw...|Tw...|    []|B0...|      B0...|  AH...|    14...|           0|             true|   20...|        Co...|       Ac...| NULL|               4.4|     [E...|      [A...|  {\"...|\n",
      "+------+-----+-----+------+-----+-----------+-------+---------+------------+-----------------+--------+-------------+------------+-----+------------------+----------+-----------+-------+\n",
      "\n"
     ]
    }
   ],
   "source": [
    "# Alias the DataFrames\n",
    "r = df_reviews.alias('r')\n",
    "m = df_meta.alias('m')\n",
    "\n",
    "# Perform the left join\n",
    "joined_df = r.join(\n",
    "    m,\n",
    "    on='parent_asin',\n",
    "    how='left'\n",
    ")\n",
    "\n",
    "# Select and rename columns from the aliased DataFrames\n",
    "joined_df = joined_df.select(\n",
    "    *[F.col(f'r.{col}') for col in df_reviews.columns],\n",
    "    F.col('m.main_category'),\n",
    "    F.col('m.title').alias('product_name'),\n",
    "    F.col('m.price'),\n",
    "    F.col('m.average_rating').alias('avg_product_rating'),\n",
    "    F.col('m.categories'),\n",
    "    F.col('m.description'),\n",
    "    F.col('m.details')\n",
    ")\n",
    "\n",
    "# Show result\n",
    "joined_df.limit(10).show(truncate=5)"
   ]
  },
  {
   "cell_type": "code",
   "execution_count": 90,
   "id": "90e99ce5-a418-4a93-a07e-04830231c7c1",
   "metadata": {},
   "outputs": [
    {
     "data": {
      "text/plain": [
       "DataFrame[]"
      ]
     },
     "execution_count": 90,
     "metadata": {},
     "output_type": "execute_result"
    }
   ],
   "source": [
    "# Left Join and create a view with Spark SQL \n",
    "spark.sql(\"\"\"\n",
    "CREATE OR REPLACE TEMP VIEW joined_view AS\n",
    "SELECT \n",
    "    r.*, \n",
    "    m.main_category, \n",
    "    m.title AS product_name,\n",
    "    m.price,\n",
    "    m.average_rating AS avg_product_rating,\n",
    "    m.categories,\n",
    "    m.description,\n",
    "    m.details\n",
    "FROM reviews r\n",
    "LEFT JOIN meta m\n",
    "USING(parent_asin)\n",
    "\"\"\")"
   ]
  },
  {
   "cell_type": "code",
   "execution_count": 91,
   "id": "50990cbf-4e2c-472b-819e-22b03763362d",
   "metadata": {},
   "outputs": [
    {
     "name": "stdout",
     "output_type": "stream",
     "text": [
      "+-----------+------+-----+-----+------+-----+-------+---------+------------+-----------------+--------+-------------+------------+-----+------------------+----------+-----------+-------+\n",
      "|parent_asin|rating|title| text|images| asin|user_id|timestamp|helpful_vote|verified_purchase|datetime|main_category|product_name|price|avg_product_rating|categories|description|details|\n",
      "+-----------+------+-----+-----+------+-----+-------+---------+------------+-----------------+--------+-------------+------------+-----+------------------+----------+-----------+-------+\n",
      "|      B0...|   5.0|Nice!|I ...|    []|B0...|  AH...|    12...|           8|             true|   20...|        Ca...|       Co...|41.44|               4.3|     [E...|      [C...|  {\"...|\n",
      "|      B0...|   4.0|Ha...|I ...|    []|B0...|  AE...|    14...|           0|            false|   20...|        Co...|       So...| NULL|               3.7|     [E...|      [P...|  {\"...|\n",
      "|      B0...|   5.0|Fa...|Fi...|    []|B0...|  AF...|    16...|           0|             true|   20...|        Ca...|       Sc...|13.99|               4.5|     [C...|      [T...|  {\"...|\n",
      "|      B0...|   5.0|Ra...|Th...|    []|B0...|  AE...|    13...|           0|             true|   20...|        Ce...|       Sk...| NULL|               5.0|     [E...|      [S...|  {\"...|\n",
      "|      B0...|   5.0|Th...|Th...|    []|B0...|  AG...|    13...|           3|             true|   20...|        Co...|       G....| NULL|               4.0|     [E...|      [M...|  {\"...|\n",
      "|      B0...|   2.0|NO...|I ...|    []|B0...|  AG...|    15...|           0|             true|   20...|        Co...|       In...| 9.99|               2.8|     [E...|         []|  {\"...|\n",
      "|      B0...|   2.0|Do...|Ne...|    []|B0...|  AF...|    16...|           0|             true|   20...|        Co...|       SA...| 8.99|               4.6|     [E...|         []|  {\"...|\n",
      "|      B0...|   5.0|Fa...|Ru...|    []|B0...|  AF...|    13...|           6|             true|   20...|        Co...|       SA...| 8.99|               4.6|     [E...|         []|  {\"...|\n",
      "|      B0...|   4.0|Fo...|Wa...|    []|B0...|  AF...|    14...|           0|             true|   20...|        Co...|       Ca...| NULL|               4.2|     [E...|      [C...|  {\"...|\n",
      "|      B0...|   4.0|Tw...|Tw...|    []|B0...|  AH...|    14...|           0|             true|   20...|        Co...|       Ac...| NULL|               4.4|     [E...|      [A...|  {\"...|\n",
      "+-----------+------+-----+-----+------+-----+-------+---------+------------+-----------------+--------+-------------+------------+-----+------------------+----------+-----------+-------+\n",
      "\n"
     ]
    }
   ],
   "source": [
    "# Query the first 10 rows of the joined_view table\n",
    "spark.sql(\"\"\"\n",
    "SELECT *\n",
    "FROM joined_view\n",
    "LIMIT 10\n",
    "\"\"\").show(truncate=5)"
   ]
  },
  {
   "cell_type": "markdown",
   "id": "3c24f63a-142e-4061-bd20-f4a72a0e2f48",
   "metadata": {},
   "source": [
    "### In 2023, which 10 products had the highest number of 5 star ratings from only verified purchases?"
   ]
  },
  {
   "cell_type": "code",
   "execution_count": 92,
   "id": "4de1a64e-7066-46ce-98f7-cd30e409b94a",
   "metadata": {},
   "outputs": [
    {
     "name": "stdout",
     "output_type": "stream",
     "text": [
      "+-----------+---------------------------------------------------------------------------+----+--------------------------------+\n",
      "|parent_asin|                                                               product_name|year|5_star_verified_purchase_reviews|\n",
      "+-----------+---------------------------------------------------------------------------+----+--------------------------------+\n",
      "| B0BZ6XH3LC|ZIUTY Wireless Earbuds, Bluetooth 5.3 Headphones 50H Playtime with LED D...|2023|                            2976|\n",
      "| B0BNZ2785V|TAGRY Bluetooth Headphones True Wireless Earbuds 60H Playback LED Power ...|2023|                            2953|\n",
      "| B0C1ZHJRGB|Wireless Earbuds Bluetooth Headphones 48hrs Play Back Sport Earphones wi...|2023|                            2298|\n",
      "| B0B4JQY8JY|Sunany USB Flash Drive 256 GB for Phone and Pad, High Speed External Thu...|2023|                            1941|\n",
      "| B08WJSHSLC|Fire TV Stick (3rd Gen) with Alexa Voice Remote (includes TV controls) +...|2023|                            1911|\n",
      "| B07H65KP63|     Echo Dot (3rd Gen, 2018 release) - Smart speaker with Alexa - Charcoal|2023|                            1723|\n",
      "| B0C3NMZ2C7|Fire TV Stick 4K, brilliant 4K streaming quality, TV and smart home cont...|2023|                            1711|\n",
      "| B0CB5683SY|LaView 4MP Bulb Security Camera 2.4GHz,360° 2K Security Cameras Wireless...|2023|                            1666|\n",
      "| B0BDSM76W4|Fastest WiFi Extender/ Booster | 2023 release Up to 74% Faster | Broader...|2023|                            1534|\n",
      "| B0B5GRGB58|Security Cameras Wireless Outdoor, 1080P Battery Powered AI Motion Detec...|2023|                            1420|\n",
      "+-----------+---------------------------------------------------------------------------+----+--------------------------------+\n",
      "\n"
     ]
    }
   ],
   "source": [
    "# With PySpark API\n",
    "joined_df\\\n",
    ".filter(\n",
    "    (F.year('datetime') == 2023) &\n",
    "    (F.col('verified_purchase') == 'true') &\n",
    "    (F.col('rating') == 5.0)\n",
    ")\\\n",
    ".groupBy(\n",
    "    'parent_asin',\n",
    "    'product_name',\n",
    "    F.year('datetime').alias('year')\n",
    ")\\\n",
    ".agg(F.count('*').alias('5_star_verified_purchase_reviews'))\\\n",
    ".orderBy(F.col('5_star_verified_purchase_reviews').desc())\\\n",
    ".limit(10)\\\n",
    ".show(truncate=75)"
   ]
  },
  {
   "cell_type": "code",
   "execution_count": 95,
   "id": "dc8eef2a-cd41-4f8a-8a87-3368e0c5cb49",
   "metadata": {},
   "outputs": [
    {
     "name": "stdout",
     "output_type": "stream",
     "text": [
      "+-----------+---------------------------------------------------------------------------+----+--------------------------------+\n",
      "|parent_asin|                                                               product_name|year|5_star_verified_purchase_reviews|\n",
      "+-----------+---------------------------------------------------------------------------+----+--------------------------------+\n",
      "| B0BZ6XH3LC|ZIUTY Wireless Earbuds, Bluetooth 5.3 Headphones 50H Playtime with LED D...|2023|                            2976|\n",
      "| B0BNZ2785V|TAGRY Bluetooth Headphones True Wireless Earbuds 60H Playback LED Power ...|2023|                            2953|\n",
      "| B0C1ZHJRGB|Wireless Earbuds Bluetooth Headphones 48hrs Play Back Sport Earphones wi...|2023|                            2298|\n",
      "| B0B4JQY8JY|Sunany USB Flash Drive 256 GB for Phone and Pad, High Speed External Thu...|2023|                            1941|\n",
      "| B08WJSHSLC|Fire TV Stick (3rd Gen) with Alexa Voice Remote (includes TV controls) +...|2023|                            1911|\n",
      "| B07H65KP63|     Echo Dot (3rd Gen, 2018 release) - Smart speaker with Alexa - Charcoal|2023|                            1723|\n",
      "| B0C3NMZ2C7|Fire TV Stick 4K, brilliant 4K streaming quality, TV and smart home cont...|2023|                            1711|\n",
      "| B0CB5683SY|LaView 4MP Bulb Security Camera 2.4GHz,360° 2K Security Cameras Wireless...|2023|                            1666|\n",
      "| B0BDSM76W4|Fastest WiFi Extender/ Booster | 2023 release Up to 74% Faster | Broader...|2023|                            1534|\n",
      "| B0B5GRGB58|Security Cameras Wireless Outdoor, 1080P Battery Powered AI Motion Detec...|2023|                            1420|\n",
      "+-----------+---------------------------------------------------------------------------+----+--------------------------------+\n",
      "\n"
     ]
    }
   ],
   "source": [
    "# With Spark SQL\n",
    "spark.sql(\"\"\"\n",
    "SELECT \n",
    "    parent_asin,\n",
    "    product_name,\n",
    "    YEAR(datetime) AS year,\n",
    "    COUNT(*) AS 5_star_verified_purchase_reviews\n",
    "FROM joined_view\n",
    "WHERE\n",
    "    YEAR(datetime) = 2023 \n",
    "    AND verified_purchase = 'true' \n",
    "    AND rating = 5.0\n",
    "GROUP BY parent_asin, product_name, YEAR(datetime)\n",
    "ORDER BY 5_star_verified_purchase_reviews DESC\n",
    "LIMIT 10\n",
    "\"\"\").show(truncate = 75)"
   ]
  },
  {
   "cell_type": "markdown",
   "id": "4a615342-c745-4787-a135-7a8eec9563e4",
   "metadata": {},
   "source": [
    "Looking at the product names, small electronic devices were the most popular in 2023. Wireless audio devices (earbuds/headphones) were by far the most popular. Aside from wireless audio devices, other popular electronics in 2023 were flash drives and home improvement products."
   ]
  },
  {
   "cell_type": "markdown",
   "id": "045e904c-019a-4c8a-94a6-b9971f90699f",
   "metadata": {},
   "source": [
    "# Close the SparkSession"
   ]
  },
  {
   "cell_type": "code",
   "execution_count": 96,
   "id": "8a9fd91c-1340-4427-8971-89ffd96d008d",
   "metadata": {},
   "outputs": [],
   "source": [
    "# Stop the SparkSession\n",
    "spark.stop()"
   ]
  }
 ],
 "metadata": {
  "kernelspec": {
   "display_name": "Python 3 (ipykernel)",
   "language": "python",
   "name": "python3"
  },
  "language_info": {
   "codemirror_mode": {
    "name": "ipython",
    "version": 3
   },
   "file_extension": ".py",
   "mimetype": "text/x-python",
   "name": "python",
   "nbconvert_exporter": "python",
   "pygments_lexer": "ipython3",
   "version": "3.9.7"
  }
 },
 "nbformat": 4,
 "nbformat_minor": 5
}
